{
 "cells": [
  {
   "cell_type": "markdown",
   "id": "3e85d23a-6d80-4ebe-935e-b766cccf1105",
   "metadata": {},
   "source": [
    "# Treecor test"
   ]
  },
  {
   "cell_type": "code",
   "execution_count": 1,
   "id": "923b10f1-5afa-42bd-8e93-ad5be83cc89a",
   "metadata": {},
   "outputs": [],
   "source": [
    "from astropy.io import fits\n",
    "import numpy as np\n",
    "import matplotlib.pyplot as plt\n",
    "import treecorr"
   ]
  },
  {
   "cell_type": "code",
   "execution_count": 2,
   "id": "363532ad-d393-436d-b748-6fafd5ff8f87",
   "metadata": {},
   "outputs": [],
   "source": [
    "from perfiles import lenscat_load"
   ]
  },
  {
   "cell_type": "code",
   "execution_count": 3,
   "id": "6804fcbd-6d73-428e-8b82-01ca38818af7",
   "metadata": {},
   "outputs": [],
   "source": [
    "def make_randoms_box(x, y, z, size_random, col_names=['x','y','z']):\n",
    "    '''\n",
    "    N = int(size_random**(1./3.))+1\n",
    "    x_rand = np.random.uniform(min(x), max(x), N)\n",
    "    y_rand = np.random.uniform(min(y), max(y), N)\n",
    "    z_rand = np.random.uniform(min(z), max(z), N)\n",
    "    '''\n",
    "    xv, yv, zv = np.random.randint(x.min(), x.max(), size=(3,size_random))\n",
    "    \n",
    "    randoms = {col_names[0]: xv, col_names[1]: yv, col_names[2]:zv}\n",
    "\n",
    "    return randoms"
   ]
  },
  {
   "cell_type": "code",
   "execution_count": 4,
   "id": "59ad7f41-5ce1-4e5f-8fe8-e94509b152d1",
   "metadata": {},
   "outputs": [],
   "source": [
    "args = (10.0, 11.0, 0.2, 0.4, -1.0, -0.8, -1.0, 100.0)\n",
    "L, _, nvoids = lenscat_load(*args, lensname='../../../FAMAF/Lensing/cats/MICE/voids_MICE.dat')"
   ]
  },
  {
   "cell_type": "code",
   "execution_count": 5,
   "id": "72bae6e7-7572-4213-9288-c2b15c1c8bc6",
   "metadata": {},
   "outputs": [],
   "source": [
    "mparticle = 2.93e10 # Msun/h\n",
    "with fits.open('../../../FAMAF/Lensing/cats/MICE/mice_halos_cut.fits') as f:\n",
    "    lmhalo = f[1].data.lmhalo\n",
    "    mask_particles = (lmhalo > np.log10(5*mparticle))\n",
    "    xhalo = f[1].data.xhalo[mask_particles]\n",
    "    yhalo = f[1].data.yhalo[mask_particles]\n",
    "    zhalo = f[1].data.zhalo[mask_particles]\n",
    "    lmhalo = lmhalo[mask_particles]"
   ]
  },
  {
   "cell_type": "code",
   "execution_count": 6,
   "id": "14b3c7fd-a921-4abb-9066-44d289b8dd5d",
   "metadata": {},
   "outputs": [],
   "source": [
    "void_cat = treecorr.Catalog(x=L[5], y=L[6], z=L[7])\n",
    "halo_cat = treecorr.Catalog(x=xhalo, y=yhalo, z=zhalo)\n",
    "rand_cat = treecorr.Catalog(x=make_randoms_box(xhalo, yhalo, zhalo, int(1e6))['x'],\n",
    "                            y=make_randoms_box(xhalo, yhalo, zhalo, int(1e6))['y'],\n",
    "                            z=make_randoms_box(xhalo, yhalo, zhalo, int(1e6))['z'],\n",
    "                           )"
   ]
  },
  {
   "cell_type": "code",
   "execution_count": 7,
   "id": "3be3a17a-da51-49c4-b586-b726af7aa66b",
   "metadata": {},
   "outputs": [],
   "source": [
    "dd = treecorr.NNCorrelation(nbins=30,min_sep=0.1,max_sep=50)\n",
    "dr = treecorr.NNCorrelation(nbins=30,min_sep=0.1,max_sep=50)\n",
    "rd = treecorr.NNCorrelation(nbins=30,min_sep=0.1,max_sep=50)\n",
    "rr = treecorr.NNCorrelation(nbins=30,min_sep=0.1,max_sep=50)\n",
    "dd.process(halo_cat,void_cat)\n",
    "dr.process(halo_cat,rand_cat)\n",
    "rd.process(rand_cat,halo_cat)\n",
    "rr.process(rand_cat,rand_cat)"
   ]
  },
  {
   "cell_type": "code",
   "execution_count": 8,
   "id": "3b92bbab-5787-40b3-8a60-cbc6574827ea",
   "metadata": {},
   "outputs": [],
   "source": [
    "r = np.copy(dd.rnom)\n",
    "mean_r = np.copy(dd.meanr)\n",
    "mean_logr = np.copy(dd.meanlogr)"
   ]
  },
  {
   "cell_type": "code",
   "execution_count": 9,
   "id": "5061b4df-55af-4172-aae7-24a4ea1884b9",
   "metadata": {},
   "outputs": [
    {
     "name": "stdout",
     "output_type": "stream",
     "text": [
      "Warning: Some bins for the randoms had no pairs.\n"
     ]
    }
   ],
   "source": [
    "xi, varxi = dd.calculateXi(rr=rr, dr=dr, rd=rd)"
   ]
  },
  {
   "cell_type": "code",
   "execution_count": 10,
   "id": "1a908bd6-ea93-414e-9d04-8a204386f354",
   "metadata": {},
   "outputs": [
    {
     "data": {
      "text/plain": [
       "[]"
      ]
     },
     "execution_count": 10,
     "metadata": {},
     "output_type": "execute_result"
    },
    {
     "data": {
      "image/png": "[encoded data removed]",
      "text/plain": [
       "<Figure size 640x480 with 1 Axes>"
      ]
     },
     "metadata": {},
     "output_type": "display_data"
    }
   ],
   "source": [
    "plt.errorbar(r, xi, varxi)\n",
    "plt.semilogx()"
   ]
  }
 ],
 "metadata": {
  "kernelspec": {
   "display_name": "Python 3 (ipykernel)",
   "language": "python",
   "name": "python3"
  },
  "language_info": {
   "codemirror_mode": {
    "name": "ipython",
    "version": 3
   },
   "file_extension": ".py",
   "mimetype": "text/x-python",
   "name": "python",
   "nbconvert_exporter": "python",
   "pygments_lexer": "ipython3",
   "version": "3.9.18"
  }
 },
 "nbformat": 4,
 "nbformat_minor": 5
}
