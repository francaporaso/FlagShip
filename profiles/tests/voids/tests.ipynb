{
 "cells": [
  {
   "cell_type": "markdown",
   "id": "7a57a4a2-10b8-4747-9e83-1d7c23b08fad",
   "metadata": {
    "jp-MarkdownHeadingCollapsed": true,
    "tags": []
   },
   "source": [
    "# Perfiles individuales: `py` vs `jl`"
   ]
  },
  {
   "cell_type": "code",
   "execution_count": null,
   "id": "1bc057a3-b296-4928-8fa4-d1c7edd9473c",
   "metadata": {},
   "outputs": [],
   "source": [
    "import numpy as np\n",
    "import matplotlib.pyplot as plt\n",
    "import pandas as pd"
   ]
  },
  {
   "cell_type": "code",
   "execution_count": null,
   "id": "8c1481f5-49a2-4e62-95de-7c26cac42a3a",
   "metadata": {},
   "outputs": [],
   "source": [
    "ids = np.sort([102, 115, 155, 161, 171, 22, 62, 64, 72, 98])\n",
    "voidnames = [f'void_py_{idd}.csv' for idd in ids] + [f'void_jl_{idd}.csv' for idd in ids]"
   ]
  },
  {
   "cell_type": "code",
   "execution_count": null,
   "id": "387a3b33-c32f-4292-af90-6a5d0b81f93b",
   "metadata": {},
   "outputs": [],
   "source": [
    "p = {n[5:-4]: pd.read_csv(n, names=[\"m\", \"nh\",\"mball\", \"nhball\"]) for n in voidnames}\n",
    "ppy = {n[5:-4]: pd.read_csv(n, names=[\"m\", \"nh\",\"mball\", \"nhball\"]) for n in voidnames[:10]}\n",
    "pjl = {n[5:-4]: pd.read_csv(n, names=[\"m\", \"nh\",\"mball\", \"nhball\"]) for n in voidnames[10:]}"
   ]
  },
  {
   "cell_type": "code",
   "execution_count": null,
   "id": "f3f672e4-8154-4e98-ad28-0326468bcb0e",
   "metadata": {},
   "outputs": [],
   "source": [
    "for k in ppy.keys():\n",
    "    print(k)\n",
    "print('---')\n",
    "for k in pjl.keys():\n",
    "    print(k)"
   ]
  },
  {
   "cell_type": "code",
   "execution_count": null,
   "id": "e80cc75f-9e2d-4dc2-9b1e-a7bb7a36de70",
   "metadata": {},
   "outputs": [],
   "source": [
    "## params\n",
    "RMIN, RMAX, NBINS = 0.0,5.0,50\n",
    "nk = 100"
   ]
  },
  {
   "cell_type": "code",
   "execution_count": null,
   "id": "0051f5ed-270c-45b4-adfc-ccd016872a75",
   "metadata": {},
   "outputs": [],
   "source": [
    "def perfiles(p):\n",
    "    meandenball   = (p.mball/(4*np.pi/3 * (5*RMAX)**3))\n",
    "    meanhalosball = (p.nhball/(4*np.pi/3 * (5*RMAX)**3))\n",
    "    \n",
    "    DR = (RMAX-RMIN)/NBINS\n",
    "    \n",
    "    vol    = np.zeros(NBINS)\n",
    "    volcum = np.zeros(NBINS)\n",
    "    for k in range(NBINS):\n",
    "        vol[k]    = ((k+1.0)*DR + RMIN)**3 - (k*DR + RMIN)**3\n",
    "        volcum[k] = ((k+1.0)*DR + RMIN)**3\n",
    "    \n",
    "    vol    *= (4*np.pi/3)\n",
    "    volcum *= (4*np.pi/3)\n",
    "    \n",
    "    Delta    = np.zeros(NBINS)\n",
    "    DeltaCum = np.zeros(NBINS)\n",
    "    DeltaHalos    = np.zeros(NBINS)\n",
    "    DeltaHalosCum = np.zeros(NBINS)\n",
    "    \n",
    "    Delta    = (p.m/vol)/meandenball - 1\n",
    "    DeltaCum = (np.cumsum(p.m)/volcum)/meandenball - 1\n",
    "    DeltaHalos    = (p.nh/vol)/meanhalosball - 1\n",
    "    DeltaHalosCum = (np.cumsum(p.nh)/volcum)/meanhalosball - 1\n",
    "\n",
    "    return pd.DataFrame(np.array([Delta, DeltaCum, DeltaHalos, DeltaHalosCum]).T, columns=[\"delta\", \"delta_cum\", \"deltahalos\", \"deltahalos_cum\"])"
   ]
  },
  {
   "cell_type": "code",
   "execution_count": null,
   "id": "5efe6d9a-baf8-4dfb-81d0-5529d30b68bb",
   "metadata": {},
   "outputs": [],
   "source": [
    "profs_py = [perfiles(pi) for pi in ppy.values()]\n",
    "profs_jl = [perfiles(pi) for pi in pjl.values()]"
   ]
  },
  {
   "cell_type": "code",
   "execution_count": null,
   "id": "7b6c2e83-11c2-4f05-a33a-9f33125a60e0",
   "metadata": {},
   "outputs": [],
   "source": [
    "cls = [\"delta\", \"delta_cum\", \"deltahalos\", \"deltahalos_cum\"]\n",
    "i,j=1,1\n",
    "profs_py[i][cls[j]]-profs_jl[i][cls[j]]"
   ]
  },
  {
   "cell_type": "code",
   "execution_count": null,
   "id": "970bead7-87a3-447e-9978-0bce9f53891e",
   "metadata": {},
   "outputs": [],
   "source": [
    "fig, axs = plt.subplots(2,2, figsize=(15,10))\n",
    "for i in range(10):\n",
    "    for j,ax in enumerate(axs.flat):\n",
    "        ax.plot(profs_py[i][cls[j]] - profs_jl[i][cls[j]], label=profs_py[0].columns[j])\n",
    "\n",
    "axs[0,0].set_title('delta py-jl')\n",
    "axs[0,1].set_title('deltacum py-jl')\n",
    "axs[1,0].set_title('halos py-jl')\n",
    "axs[1,1].set_title('haloscum py-jl')"
   ]
  },
  {
   "cell_type": "code",
   "execution_count": null,
   "id": "daa67ba1-a5ed-4880-80af-5aa28a88ca79",
   "metadata": {},
   "outputs": [],
   "source": [
    "### py\n",
    "mass  = np.zeros(NBINS)\n",
    "halos = np.zeros(NBINS)\n",
    "massball  = 0.0\n",
    "halosball = 0.0\n",
    "\n",
    "for p in ppy.values():\n",
    "    mass += p.m\n",
    "    halos += p.nh\n",
    "    massball += p.mball\n",
    "    halosball += p.nhball\n",
    "\n",
    "meandenball   = (massball/(4*np.pi/3 * (5*RMAX)**3))\n",
    "meanhalosball = (halosball/(4*np.pi/3 * (5*RMAX)**3))\n",
    "\n",
    "DR = (RMAX-RMIN)/NBINS\n",
    "\n",
    "vol    = np.zeros(NBINS)\n",
    "volcum = np.zeros(NBINS)\n",
    "for k in range(NBINS):\n",
    "    vol[k]    = ((k+1.0)*DR + RMIN)**3 - (k*DR + RMIN)**3\n",
    "    volcum[k] = ((k+1.0)*DR + RMIN)**3\n",
    "\n",
    "vol    *= (4*np.pi/3)\n",
    "volcum *= (4*np.pi/3)\n",
    "\n",
    "Delta    = np.zeros(NBINS)\n",
    "DeltaCum = np.zeros(NBINS)\n",
    "DeltaHalos    = np.zeros(NBINS)\n",
    "DeltaHalosCum = np.zeros(NBINS)\n",
    "\n",
    "Delta_py    = (mass/vol)/meandenball - 1\n",
    "DeltaCum_py = (np.cumsum(mass)/volcum)/meandenball - 1\n",
    "DeltaHalos_py    = (halos/vol)/meanhalosball - 1\n",
    "DeltaHalosCum_py = (np.cumsum(halos)/volcum)/meanhalosball - 1"
   ]
  },
  {
   "cell_type": "code",
   "execution_count": null,
   "id": "12254f05-9e01-4762-93c0-93196d84ebd3",
   "metadata": {},
   "outputs": [],
   "source": [
    "### jl\n",
    "mass  = np.zeros(NBINS)\n",
    "halos = np.zeros(NBINS)\n",
    "massball  = 0.0\n",
    "halosball = 0.0\n",
    "\n",
    "for p in pjl.values():\n",
    "    mass += p.m\n",
    "    halos += p.nh\n",
    "    massball += p.mball\n",
    "    halosball += p.nhball\n",
    "\n",
    "meandenball   = (massball/(4*np.pi/3 * (5*RMAX)**3))\n",
    "meanhalosball = (halosball/(4*np.pi/3 * (5*RMAX)**3))\n",
    "\n",
    "DR = (RMAX-RMIN)/NBINS\n",
    "\n",
    "vol    = np.zeros(NBINS)\n",
    "volcum = np.zeros(NBINS)\n",
    "for k in range(NBINS):\n",
    "    vol[k]    = ((k+1.0)*DR + RMIN)**3 - (k*DR + RMIN)**3\n",
    "    volcum[k] = ((k+1.0)*DR + RMIN)**3\n",
    "\n",
    "vol    *= (4*np.pi/3)\n",
    "volcum *= (4*np.pi/3)\n",
    "\n",
    "Delta    = np.zeros(NBINS)\n",
    "DeltaCum = np.zeros(NBINS)\n",
    "DeltaHalos    = np.zeros(NBINS)\n",
    "DeltaHalosCum = np.zeros(NBINS)\n",
    "\n",
    "Delta_jl    = (mass/vol)/meandenball - 1\n",
    "DeltaCum_jl = (np.cumsum(mass)/volcum)/meandenball - 1\n",
    "DeltaHalos_jl    = (halos/vol)/meanhalosball - 1\n",
    "DeltaHalosCum_jl = (np.cumsum(halos)/volcum)/meanhalosball - 1"
   ]
  },
  {
   "cell_type": "code",
   "execution_count": null,
   "id": "eea63887-760c-49a1-912a-e010381e2fcd",
   "metadata": {},
   "outputs": [],
   "source": [
    "plt.plot((Delta_py-Delta_jl)/abs(Delta_jl)*100)\n",
    "plt.plot((DeltaCum_py-DeltaCum_jl)/abs(DeltaCum_jl)*100)\n",
    "plt.plot((DeltaHalos_py-DeltaHalos_jl)/abs(DeltaHalos_jl)*100)\n",
    "plt.plot((DeltaHalosCum_py-DeltaHalosCum_jl)/abs(DeltaHalosCum_jl)*100)"
   ]
  },
  {
   "cell_type": "code",
   "execution_count": null,
   "id": "a8641993-0b8b-426e-a61c-12a4f7e6d809",
   "metadata": {},
   "outputs": [],
   "source": [
    "colores = ['C0', 'C1', 'C2', 'C3']\n",
    "fig, axs = plt.subplots(2,2, figsize=(15,10))\n",
    "for i,key in enumerate(ppy.keys()):\n",
    "    for j,ax in enumerate(axs.flat):\n",
    "        ax.plot(profs_py[i][cls[j]], label=key, alpha=0.5)\n",
    "        ax.legend()\n",
    "\n",
    "axs[0,0].plot(Delta_py, c='k')\n",
    "axs[0,1].plot(DeltaCum_py, c='k')\n",
    "axs[1,0].plot(DeltaHalos_py, c='k')\n",
    "axs[1,1].plot(DeltaHalosCum_py, c='k')\n",
    "# axs[0,0].plot(Delta_jl, c='r')"
   ]
  },
  {
   "cell_type": "code",
   "execution_count": null,
   "id": "bd955b92-b6e8-4d06-a8b8-118809632362",
   "metadata": {},
   "outputs": [],
   "source": [
    "colores = ['C0', 'C1', 'C2', 'C3']\n",
    "fig, axs = plt.subplots(2,2, figsize=(15,10))\n",
    "for i,key in enumerate(pjl.keys()):\n",
    "    for j,ax in enumerate(axs.flat):\n",
    "        ax.plot(profs_jl[i][cls[j]], label=key, alpha=0.5)\n",
    "        ax.legend()\n",
    "\n",
    "axs[0,0].plot(Delta_jl, c='k')\n",
    "axs[0,1].plot(DeltaCum_jl, c='k')\n",
    "axs[1,0].plot(DeltaHalos_jl, c='k')\n",
    "axs[1,1].plot(DeltaHalosCum_jl, c='k')\n",
    "# axs[0,0].plot(Delta_jl, c='r')"
   ]
  },
  {
   "cell_type": "markdown",
   "id": "11ac8504-41c6-4b29-89c2-5132c7d1d67e",
   "metadata": {
    "jp-MarkdownHeadingCollapsed": true,
    "tags": []
   },
   "source": [
    "# Test perfiles de vuelta\n",
    "Sección lista para implementar! \n",
    "Es más fácil correr esta sección en un jupyter"
   ]
  },
  {
   "cell_type": "code",
   "execution_count": 80,
   "id": "3304ae1d-8cc4-4f0d-b245-4084af864913",
   "metadata": {},
   "outputs": [],
   "source": [
    "import numpy as np\n",
    "import matplotlib.pyplot as plt\n",
    "from pandas import DataFrame\n",
    "from astropy.cosmology import LambdaCDM\n",
    "from astropy.io import fits\n",
    "import sys\n",
    "sys.path.append('/home/fcaporaso/FlagShip/profiles/')\n",
    "sys.path.append('/home/fcaporaso/FlagShip/vgcf/')\n",
    "from perfiles import lenscat_load\n",
    "from vgcf import ang2xyz\n",
    "from tqdm import tqdm\n",
    "from multiprocessing import Pool\n",
    "from functools import partial"
   ]
  },
  {
   "cell_type": "code",
   "execution_count": 81,
   "id": "8c5a898b-82c6-40d8-8d40-87dad77264f7",
   "metadata": {},
   "outputs": [],
   "source": [
    "cosmo = LambdaCDM(H0=100, Om0=0.25, Ode0=0.75)"
   ]
  },
  {
   "cell_type": "code",
   "execution_count": 82,
   "id": "4745df44-76df-407d-a003-4f952f614bb1",
   "metadata": {},
   "outputs": [],
   "source": [
    "def tracercat_load(catname='/home/fcaporaso/cats/MICE/mice_sats_18939.fits',\n",
    "                   if_centrals=True, cosmo=cosmo):\n",
    "    \n",
    "        if if_centrals:    \n",
    "            with fits.open(catname) as f:\n",
    "                centrals = f[1].data.flag_central == 0\n",
    "                z_gal   = f[1].data.z_cgal\n",
    "                mask_z  = (z_gal >= 0.1) & (z_gal <= 0.5)\n",
    "                mmm = centrals&mask_z\n",
    "                ra_gal  = f[1].data.ra_gal[mmm]\n",
    "                dec_gal = f[1].data.dec_gal[mmm]\n",
    "                z_gal   = z_gal[mmm]\n",
    "                lmhalo  = f[1].data.lmhalo[mmm]\n",
    "            \n",
    "            xh,yh,zh = ang2xyz(ra_gal, dec_gal, z_gal, cosmo=cosmo)\n",
    "            return xh, yh, zh, lmhalo\n",
    "\n",
    "        else:\n",
    "            with fits.open(catname) as f:\n",
    "                ra_gal  = f[1].data.ra_gal\n",
    "                dec_gal = f[1].data.dec_gal\n",
    "                z_gal   = f[1].data.z_cgal\n",
    "            \n",
    "            xh,yh,zh = ang2xyz(ra_gal, dec_gal, z_gal, cosmo=cosmo)\n",
    "            return xh, yh , zh"
   ]
  },
  {
   "cell_type": "code",
   "execution_count": 4,
   "id": "70407086-af82-43c2-81f5-35512b420dc5",
   "metadata": {},
   "outputs": [],
   "source": [
    "# xh, yh, zh, lmhalo = tracercat_load()"
   ]
  },
  {
   "cell_type": "code",
   "execution_count": 154,
   "id": "78712669-fb2e-46df-a586-90606a9c67de",
   "metadata": {},
   "outputs": [
    {
     "name": "stdout",
     "output_type": "stream",
     "text": [
      "3173\n"
     ]
    }
   ],
   "source": [
    "# loading catalog of voids\n",
    "args = (6.0,9.0,0.2,0.3,-1.0,-0.8,-1.0,100.0)\n",
    "L,K,nvoids = lenscat_load(*args, \n",
    "                         flag=2.0, lensname=\"/mnt/simulations/MICE/voids_MICE.dat\",\n",
    "                         split=True, NSPLITS=120)\n",
    "print(nvoids)"
   ]
  },
  {
   "cell_type": "code",
   "execution_count": 155,
   "id": "aa791496-6f13-4ef9-b788-fb2c8b88e43b",
   "metadata": {},
   "outputs": [],
   "source": [
    "def number_density_v2(N, m, xh, yh, zh, lmhalo, rv, xv, yv, zv):\n",
    "    number_gx = np.zeros(N)\n",
    "    mass_bin = np.zeros(N)\n",
    "    vol = np.zeros(N)\n",
    "    dist = np.sqrt((xh-xv)**2 + (yh-yv)**2 + (zh-zv)**2) ## dist to center of void i\n",
    "    const = m*rv/N\n",
    "\n",
    "    mask_mean = (dist < 5*m*rv)\n",
    "    logmass = lmhalo[mask_mean]\n",
    "    dist = dist[mask_mean]\n",
    "    \n",
    "    mass_ball = np.sum( 10.0**(logmass) )\n",
    "    volball = (4/3)*np.pi*(5*m*rv)**3\n",
    "    mean_den_ball = mass_ball/volball\n",
    "    mean_gx_ball = np.sum(mask_mean)/volball\n",
    "    \n",
    "    for k in range(N):\n",
    "        mask = (dist < (k+1)*const) & (dist >= k*const)\n",
    "        number_gx[k] = mask.sum()\n",
    "        mass_bin[k] = np.sum( 10.0**(logmass[mask]) )\n",
    "        vol[k] = (k+1)**3 - k**3\n",
    "    \n",
    "    vol *= (4/3)*np.pi*const**3\n",
    "    \n",
    "    return number_gx, mass_bin, vol, np.full_like(vol, mean_gx_ball), np.full_like(vol, mean_den_ball)"
   ]
  },
  {
   "cell_type": "code",
   "execution_count": 156,
   "id": "3bbf8858-6f05-4c41-a154-114cee4cd8e0",
   "metadata": {},
   "outputs": [],
   "source": [
    "N,m = 25, 5\n",
    "\n",
    "# partial_func = partial(number_density_v2, N, m, xh, yh, zh, lmhalo)\n",
    "partial_func = partial(number_density_v2, N, m, *tracercat_load())\n",
    "def partial_func_unpack(A):\n",
    "    return partial_func(*A)"
   ]
  },
  {
   "cell_type": "code",
   "execution_count": 115,
   "id": "9009a2b1-b8ea-47b5-9e19-4c712a8fc5a4",
   "metadata": {
    "collapsed": true,
    "jupyter": {
     "outputs_hidden": true,
     "source_hidden": true
    },
    "tags": []
   },
   "outputs": [
    {
     "name": "stderr",
     "output_type": "stream",
     "text": [
      "  5%|██▎                                         | 1/19 [00:21<06:28, 21.61s/it]"
     ]
    },
    {
     "name": "stdout",
     "output_type": "stream",
     "text": [
      "voids analized 120\n",
      "ended pacht 0,num=120\n"
     ]
    },
    {
     "name": "stderr",
     "output_type": "stream",
     "text": [
      " 11%|████▋                                       | 2/19 [00:43<06:06, 21.55s/it]"
     ]
    },
    {
     "name": "stdout",
     "output_type": "stream",
     "text": [
      "voids analized 240\n",
      "ended pacht 1,num=120\n"
     ]
    },
    {
     "name": "stderr",
     "output_type": "stream",
     "text": [
      " 16%|██████▉                                     | 3/19 [01:04<05:41, 21.35s/it]"
     ]
    },
    {
     "name": "stdout",
     "output_type": "stream",
     "text": [
      "voids analized 360\n",
      "ended pacht 2,num=120\n"
     ]
    },
    {
     "name": "stderr",
     "output_type": "stream",
     "text": [
      " 21%|█████████▎                                  | 4/19 [01:25<05:19, 21.30s/it]"
     ]
    },
    {
     "name": "stdout",
     "output_type": "stream",
     "text": [
      "voids analized 480\n",
      "ended pacht 3,num=120\n"
     ]
    },
    {
     "name": "stderr",
     "output_type": "stream",
     "text": [
      " 26%|███████████▌                                | 5/19 [01:46<04:58, 21.35s/it]"
     ]
    },
    {
     "name": "stdout",
     "output_type": "stream",
     "text": [
      "voids analized 600\n",
      "ended pacht 4,num=120\n"
     ]
    },
    {
     "name": "stderr",
     "output_type": "stream",
     "text": [
      " 32%|█████████████▉                              | 6/19 [02:08<04:38, 21.39s/it]"
     ]
    },
    {
     "name": "stdout",
     "output_type": "stream",
     "text": [
      "voids analized 720\n",
      "ended pacht 5,num=120\n"
     ]
    },
    {
     "name": "stderr",
     "output_type": "stream",
     "text": [
      " 37%|████████████████▏                           | 7/19 [02:30<04:18, 21.52s/it]"
     ]
    },
    {
     "name": "stdout",
     "output_type": "stream",
     "text": [
      "voids analized 840\n",
      "ended pacht 6,num=120\n"
     ]
    },
    {
     "name": "stderr",
     "output_type": "stream",
     "text": [
      " 42%|██████████████████▌                         | 8/19 [02:51<03:56, 21.51s/it]"
     ]
    },
    {
     "name": "stdout",
     "output_type": "stream",
     "text": [
      "voids analized 960\n",
      "ended pacht 7,num=120\n"
     ]
    },
    {
     "name": "stderr",
     "output_type": "stream",
     "text": [
      " 47%|████████████████████▊                       | 9/19 [03:13<03:34, 21.47s/it]"
     ]
    },
    {
     "name": "stdout",
     "output_type": "stream",
     "text": [
      "voids analized 1080\n",
      "ended pacht 8,num=120\n"
     ]
    },
    {
     "name": "stderr",
     "output_type": "stream",
     "text": [
      " 53%|██████████████████████▋                    | 10/19 [03:34<03:13, 21.53s/it]"
     ]
    },
    {
     "name": "stdout",
     "output_type": "stream",
     "text": [
      "voids analized 1200\n",
      "ended pacht 9,num=120\n"
     ]
    },
    {
     "name": "stderr",
     "output_type": "stream",
     "text": [
      " 58%|████████████████████████▉                  | 11/19 [03:56<02:52, 21.61s/it]"
     ]
    },
    {
     "name": "stdout",
     "output_type": "stream",
     "text": [
      "voids analized 1320\n",
      "ended pacht 10,num=120\n"
     ]
    },
    {
     "name": "stderr",
     "output_type": "stream",
     "text": [
      " 63%|███████████████████████████▏               | 12/19 [04:17<02:31, 21.58s/it]"
     ]
    },
    {
     "name": "stdout",
     "output_type": "stream",
     "text": [
      "voids analized 1440\n",
      "ended pacht 11,num=120\n"
     ]
    },
    {
     "name": "stderr",
     "output_type": "stream",
     "text": [
      " 68%|█████████████████████████████▍             | 13/19 [04:39<02:09, 21.56s/it]"
     ]
    },
    {
     "name": "stdout",
     "output_type": "stream",
     "text": [
      "voids analized 1560\n",
      "ended pacht 12,num=120\n"
     ]
    },
    {
     "name": "stderr",
     "output_type": "stream",
     "text": [
      " 74%|███████████████████████████████▋           | 14/19 [05:00<01:47, 21.52s/it]"
     ]
    },
    {
     "name": "stdout",
     "output_type": "stream",
     "text": [
      "voids analized 1680\n",
      "ended pacht 13,num=120\n"
     ]
    },
    {
     "name": "stderr",
     "output_type": "stream",
     "text": [
      " 79%|█████████████████████████████████▉         | 15/19 [05:22<01:25, 21.45s/it]"
     ]
    },
    {
     "name": "stdout",
     "output_type": "stream",
     "text": [
      "voids analized 1800\n",
      "ended pacht 14,num=120\n"
     ]
    },
    {
     "name": "stderr",
     "output_type": "stream",
     "text": [
      " 84%|████████████████████████████████████▏      | 16/19 [05:43<01:04, 21.35s/it]"
     ]
    },
    {
     "name": "stdout",
     "output_type": "stream",
     "text": [
      "voids analized 1920\n",
      "ended pacht 15,num=120\n"
     ]
    },
    {
     "name": "stderr",
     "output_type": "stream",
     "text": [
      " 89%|██████████████████████████████████████▍    | 17/19 [06:04<00:42, 21.38s/it]"
     ]
    },
    {
     "name": "stdout",
     "output_type": "stream",
     "text": [
      "voids analized 2040\n",
      "ended pacht 16,num=120\n"
     ]
    },
    {
     "name": "stderr",
     "output_type": "stream",
     "text": [
      " 95%|████████████████████████████████████████▋  | 18/19 [06:26<00:21, 21.48s/it]"
     ]
    },
    {
     "name": "stdout",
     "output_type": "stream",
     "text": [
      "voids analized 2160\n",
      "ended pacht 17,num=120\n"
     ]
    },
    {
     "name": "stderr",
     "output_type": "stream",
     "text": [
      "100%|███████████████████████████████████████████| 19/19 [06:33<00:00, 20.70s/it]"
     ]
    },
    {
     "name": "stdout",
     "output_type": "stream",
     "text": [
      "voids analized 2202\n",
      "ended pacht 18,num=42\n"
     ]
    },
    {
     "name": "stderr",
     "output_type": "stream",
     "text": [
      "\n"
     ]
    }
   ],
   "source": [
    "P = np.zeros((nvoids, 4, N))\n",
    "nk = 100\n",
    "\n",
    "numbergx    = np.zeros((nvoids, nk+1,N))\n",
    "massbin = np.zeros((nvoids, nk+1,N))\n",
    "volphys    = np.zeros((nvoids, nk+1,N))\n",
    "meandenball = np.zeros((nvoids, nk+1,N))\n",
    "\n",
    "count = 0\n",
    "for i,Li in enumerate(tqdm(L)):\n",
    "    num=len(Li)\n",
    "    entrada = np.array([Li.T[1], Li.T[5], Li.T[6], Li.T[7]]).T\n",
    "    with Pool(processes=num) as pool:\n",
    "        resmap = pool.map(partial_func_unpack,\n",
    "                       entrada)\n",
    "        pool.close()\n",
    "        pool.join()\n",
    "    #### CUIDADO! no está guardando el último slice q tiene diferente tamaño! FALTAN VOIDS!    \n",
    "    for j, res in enumerate(resmap):\n",
    "        km = np.tile(K[i][j], (N,1)).T\n",
    "        numbergx[count+j] = np.tile(res[0], (nk+1,1))*km\n",
    "        massbin[count+j] = np.tile(res[1], (nk+1,1))*km\n",
    "        volphys[count+j] = np.tile(res[2], (nk+1,1))*km\n",
    "        meandenball[count+j] = np.tile(res[3], (nk+1,1))*km\n",
    "    \n",
    "    count += num\n",
    "    # print(f'voids analized {(i+1)*num}')    \n",
    "    print(f'voids analized {count}')    \n",
    "    print(f'ended pacht {i},num={num}')\n",
    "    "
   ]
  },
  {
   "cell_type": "code",
   "execution_count": 163,
   "id": "4d787ced-178f-4d94-9b42-0414602b25ef",
   "metadata": {
    "tags": []
   },
   "outputs": [
    {
     "name": "stderr",
     "output_type": "stream",
     "text": [
      "100%|███████████████████████████████████████████| 27/27 [09:28<00:00, 21.06s/it]\n"
     ]
    }
   ],
   "source": [
    "nk = 100\n",
    "\n",
    "numbergx = np.zeros((nk+1,N))\n",
    "massbin = np.zeros((nk+1,N))\n",
    "# volphys = np.zeros((nk+1,N))\n",
    "# meandenball = np.zeros((nk+1,N))\n",
    "mu = np.zeros((nk+1,N))\n",
    "mu_gx = np.zeros((nk+1,N))\n",
    "\n",
    "for i,Li in enumerate(tqdm(L)):\n",
    "    num=len(Li)\n",
    "    entrada = np.array([Li.T[1], Li.T[5], Li.T[6], Li.T[7]]).T\n",
    "    with Pool(processes=num) as pool:\n",
    "        resmap = pool.map(partial_func_unpack,\n",
    "                       entrada)\n",
    "        pool.close()\n",
    "        pool.join()\n",
    "    #### CUIDADO! no está guardando el último slice q tiene diferente tamaño! FALTAN VOIDS!    \n",
    "    for j, res in enumerate(resmap):\n",
    "        km = np.tile(K[i][j], (N,1)).T\n",
    "        numbergx += np.tile(res[0], (nk+1,1))*km\n",
    "        massbin += np.tile(res[1], (nk+1,1))*km\n",
    "        mu += np.tile(res[2]*res[4], (nk+1,1))*km\n",
    "        mu_gx += np.tile(res[2]*res[3], (nk+1,1))*km\n",
    "\n",
    "delta = massbin/mu - 1\n",
    "deltagx = numbergx/mu_gx - 1\n",
    "cov_delta = cov_matrix(delta[1:,:])\n",
    "cov_deltagx = cov_matrix(deltagx[1:,:])"
   ]
  },
  {
   "cell_type": "code",
   "execution_count": 164,
   "id": "9e3e433c-0f98-4afa-ab50-482060594ed1",
   "metadata": {},
   "outputs": [
    {
     "data": {
      "text/plain": [
       "array([-0.91857355, -0.9181412 , -0.85103957, -0.73186657, -0.42654867,\n",
       "        0.1036675 ,  0.36625653,  0.49774699,  0.53761235,  0.46894128,\n",
       "        0.4215634 ,  0.38939164,  0.34982292,  0.30817026,  0.28318399,\n",
       "        0.24482953,  0.21752132,  0.20188931,  0.17962943,  0.18079654,\n",
       "        0.16914112,  0.1566155 ,  0.16224983,  0.15414242,  0.15154892])"
      ]
     },
     "execution_count": 164,
     "metadata": {},
     "output_type": "execute_result"
    }
   ],
   "source": [
    "delta[0]"
   ]
  },
  {
   "cell_type": "code",
   "execution_count": 158,
   "id": "d0d1176c-58b3-4a37-b236-2db04bcfe6f6",
   "metadata": {},
   "outputs": [
    {
     "data": {
      "image/png": "[encoded data removed]",
      "text/plain": [
       "<Figure size 640x480 with 1 Axes>"
      ]
     },
     "metadata": {},
     "output_type": "display_data"
    }
   ],
   "source": [
    "rrr = np.linspace(0,m,N+1)\n",
    "rrr = rrr[:-1] + np.diff(rrr)*0.5\n",
    "\n",
    "plt.errorbar(rrr, delta[0] - 1, np.sqrt(np.diag(cov_delta)), fmt='.', c='r', label='stack')\n",
    "plt.errorbar(rrr, deltagx[0] - 1, np.sqrt(np.diag(cov_deltagx)), fmt='.', c='g', label='stack_gx')\n",
    "\n",
    "plt.axhline(0,ls=':',c='k',alpha=0.5)\n",
    "plt.legend()\n",
    "plt.xlabel(r'R [$R_v$]')\n",
    "plt.ylabel(r'$\\delta$')\n",
    "plt.show()"
   ]
  },
  {
   "cell_type": "code",
   "execution_count": 114,
   "id": "53e4800f-2586-4c77-8975-8c792e689077",
   "metadata": {
    "tags": []
   },
   "outputs": [],
   "source": [
    "h = fits.Header()\n",
    "h.append(('Nvoids', int(nvoids)))\n",
    "h.append(('Rv_min', args[0]))\n",
    "h.append(('Rv_max', args[1]))\n",
    "h.append(('z_min', args[2]))\n",
    "h.append(('z_max', args[3]))\n",
    "h.append(('rho1_min', args[4]))\n",
    "h.append(('rho1_max', args[5]))\n",
    "h.append(('rho2_min', args[6]))\n",
    "h.append(('rho2_max', args[7]))\n",
    "h.append(('rmax', m))\n",
    "\n",
    "primary_hdu = fits.PrimaryHDU(header=h)\n",
    "hdul = fits.HDUList([primary_hdu])\n",
    "\n",
    "r_ad = np.linspace(0,m,N+1)\n",
    "r_ad = r_ad[:-1]+np.diff(r_ad)*0.5\n",
    "\n",
    "for p in P:\n",
    "    r_v = (3*p[2][0]/(4*np.pi))**(1/3)*(N/m)\n",
    "    table = np.array([fits.Column(name='r_phys', format='E', array=r_v*r_ad),\n",
    "                     fits.Column(name='nhalos', format='E', array=p[0]),\n",
    "                     fits.Column(name='mass', format='E', array=p[1]),\n",
    "                     fits.Column(name='vol_phys', format='E', array=p[2]),\n",
    "                     fits.Column(name='mean_mass', format='E', array=p[3]),\n",
    "                     ])\n",
    "    tbhdu = fits.BinTableHDU.from_columns(table)\n",
    "    hdul.append(tbhdu)\n",
    "    \n",
    "if args[7]<=0:\n",
    "    t = 'R'\n",
    "elif args[6]>=0:\n",
    "    t = 'S'\n",
    "else:\n",
    "    t = 'all'\n",
    "    \n",
    "hdul.writeto(f'TEST_allz_denprof_mice_Rv{args[0]}-{args[1]}_z0{int(10*args[2])}-0{int(10*args[3])}_type{t}.fits')"
   ]
  },
  {
   "cell_type": "markdown",
   "id": "3559d739-2265-4c2b-bd1d-69490dcfc169",
   "metadata": {
    "tags": []
   },
   "source": [
    "## Covarianza y plots"
   ]
  },
  {
   "cell_type": "code",
   "execution_count": 87,
   "id": "f9ebcc50-6482-4453-b321-da32776846d8",
   "metadata": {},
   "outputs": [],
   "source": [
    "def cov_matrix(array):\n",
    "        \n",
    "    K = len(array)\n",
    "    Kmean = np.average(array,axis=0)\n",
    "    bins = array.shape[1]\n",
    "    \n",
    "    COV = np.zeros((bins,bins))\n",
    "    \n",
    "    for k in range(K):\n",
    "        dif = (array[k]- Kmean)\n",
    "        COV += np.outer(dif,dif)        \n",
    "    \n",
    "    COV *= (K-1)/K\n",
    "    return COV"
   ]
  },
  {
   "cell_type": "code",
   "execution_count": 104,
   "id": "457fe149-050d-44d7-a0ee-6466af6b80a9",
   "metadata": {
    "collapsed": true,
    "jupyter": {
     "outputs_hidden": true,
     "source_hidden": true
    },
    "tags": []
   },
   "outputs": [
    {
     "name": "stderr",
     "output_type": "stream",
     "text": [
      "/tmp/ipykernel_169885/459383096.py:7: RuntimeWarning: invalid value encountered in divide\n",
      "  plt.plot(rrr, np.nanmean((P[:,1,:]/P[:,2,:])/P[:,-1,:] - 1, axis=0), c='r', label='Mean')\n",
      "/tmp/ipykernel_169885/459383096.py:7: RuntimeWarning: Mean of empty slice\n",
      "  plt.plot(rrr, np.nanmean((P[:,1,:]/P[:,2,:])/P[:,-1,:] - 1, axis=0), c='r', label='Mean')\n",
      "/tmp/ipykernel_169885/459383096.py:8: RuntimeWarning: invalid value encountered in divide\n",
      "  plt.plot(rrr, np.nanmedian((P[:,1,:]/P[:,2,:])/P[:,-1,:] - 1, axis=0), c='b', label='Median')\n",
      "/home/fcaporaso/miniconda3/envs/env_py39/lib/python3.10/site-packages/numpy/lib/nanfunctions.py:1095: RuntimeWarning: All-NaN slice encountered\n",
      "  result = np.apply_along_axis(_nanmedian1d, axis, a, overwrite_input)\n"
     ]
    },
    {
     "data": {
      "image/png": "[encoded data removed]",
      "text/plain": [
       "<Figure size 640x480 with 1 Axes>"
      ]
     },
     "metadata": {},
     "output_type": "display_data"
    }
   ],
   "source": [
    "rrr = np.linspace(0,m,N)\n",
    "\n",
    "# plt.figure(figsize=(7,5))\n",
    "# for i in range(nvoids):\n",
    "#     plt.plot(rrr, (P[i][1]/P[i][2])/P[i][-1] - 1, c='k', alpha=0.05)\n",
    "    \n",
    "plt.plot(rrr, np.nanmean((P[:,1,:]/P[:,2,:])/P[:,-1,:] - 1, axis=0), c='r', label='Mean')\n",
    "plt.plot(rrr, np.nanmedian((P[:,1,:]/P[:,2,:])/P[:,-1,:] - 1, axis=0), c='b', label='Median')\n",
    "# plt.ylim(-1.05,0.6)\n",
    "plt.axhline(0,ls=':',c='k',alpha=0.5)\n",
    "plt.legend()\n",
    "plt.xlabel(r'R [$R_v$]')\n",
    "plt.ylabel(r'$\\delta$')\n",
    "plt.show()\n"
   ]
  },
  {
   "cell_type": "code",
   "execution_count": 121,
   "id": "6d9d658d-2fa5-4224-a270-71718526f3fe",
   "metadata": {},
   "outputs": [
    {
     "data": {
      "text/plain": [
       "(array([  1.,   0.,   1.,   2.,   1.,   4.,   5.,   6.,   4.,   3.,   6.,\n",
       "          2.,   3.,  12.,  14.,  11.,  26.,  30.,  43.,  49.,  41.,  32.,\n",
       "         32.,  41.,  38.,  34.,  38.,  25.,  38.,  37.,  30.,  45.,  31.,\n",
       "         39.,  47.,  49.,  51.,  50.,  63.,  55.,  76.,  86., 138., 187.,\n",
       "        188., 208., 149.,  91.,  27.,  13.]),\n",
       " array([8.22231146e+09, 8.64034110e+09, 9.05837075e+09, 9.47640040e+09,\n",
       "        9.89443005e+09, 1.03124597e+10, 1.07304893e+10, 1.11485190e+10,\n",
       "        1.15665486e+10, 1.19845783e+10, 1.24026079e+10, 1.28206376e+10,\n",
       "        1.32386672e+10, 1.36566969e+10, 1.40747265e+10, 1.44927562e+10,\n",
       "        1.49107858e+10, 1.53288155e+10, 1.57468451e+10, 1.61648748e+10,\n",
       "        1.65829044e+10, 1.70009341e+10, 1.74189637e+10, 1.78369933e+10,\n",
       "        1.82550230e+10, 1.86730526e+10, 1.90910823e+10, 1.95091119e+10,\n",
       "        1.99271416e+10, 2.03451712e+10, 2.07632009e+10, 2.11812305e+10,\n",
       "        2.15992602e+10, 2.20172898e+10, 2.24353195e+10, 2.28533491e+10,\n",
       "        2.32713788e+10, 2.36894084e+10, 2.41074381e+10, 2.45254677e+10,\n",
       "        2.49434973e+10, 2.53615270e+10, 2.57795566e+10, 2.61975863e+10,\n",
       "        2.66156159e+10, 2.70336456e+10, 2.74516752e+10, 2.78697049e+10,\n",
       "        2.82877345e+10, 2.87057642e+10, 2.91237938e+10]),\n",
       " <BarContainer object of 50 artists>)"
      ]
     },
     "execution_count": 121,
     "metadata": {},
     "output_type": "execute_result"
    },
    {
     "data": {
      "image/png": "[encoded data removed]",
      "text/plain": [
       "<Figure size 640x480 with 1 Axes>"
      ]
     },
     "metadata": {},
     "output_type": "display_data"
    }
   ],
   "source": [
    "plt.hist(meandenball[:,0,0], bins=50)"
   ]
  },
  {
   "cell_type": "code",
   "execution_count": 134,
   "id": "06cca51e-c0ea-4a50-89a7-588683b7cd3a",
   "metadata": {},
   "outputs": [],
   "source": [
    "delta = np.zeros((nk+1,N))\n",
    "# delta_gx = np.zeros((nk+1,N))\n",
    "for i in range(nk+1):\n",
    "    delta[i] = np.sum(massbin,axis=0)[i]/np.sum(volphys*meandenball,axis=0)[i]\n",
    "    # delta_gx[i] = np.sum(numbergx,axis=0)[i]/np.sum(volphys*(4096**3/3072**3),axis=0)[i]"
   ]
  },
  {
   "cell_type": "code",
   "execution_count": 135,
   "id": "4fd10314-3ed0-4e42-bad6-dabd0a29ffcc",
   "metadata": {},
   "outputs": [
    {
     "data": {
      "text/plain": [
       "<matplotlib.image.AxesImage at 0x7f182baf8820>"
      ]
     },
     "execution_count": 135,
     "metadata": {},
     "output_type": "execute_result"
    },
    {
     "data": {
      "image/png": "[encoded data removed]",
      "text/plain": [
       "<Figure size 480x480 with 1 Axes>"
      ]
     },
     "metadata": {},
     "output_type": "display_data"
    }
   ],
   "source": [
    "cov_delta = cov_matrix(delta[1:,:])\n",
    "cov_delta_gx = cov_matrix(delta_gx[1:,:])\n",
    "plt.matshow(cov_delta_gx)"
   ]
  },
  {
   "cell_type": "code",
   "execution_count": 136,
   "id": "5ce0c4c0-1389-41aa-8458-1f159b3f4c15",
   "metadata": {},
   "outputs": [
    {
     "data": {
      "image/png": "[encoded data removed]",
      "text/plain": [
       "<Figure size 640x480 with 1 Axes>"
      ]
     },
     "metadata": {},
     "output_type": "display_data"
    }
   ],
   "source": [
    "rrr = np.linspace(0,m,N)\n",
    "# for i in range(nvoids):\n",
    "#     plt.plot(rrr, delta[i], c='k', alpha=0.01)\n",
    "\n",
    "plt.errorbar(rrr, delta[0,:] - 1, np.sqrt(np.diag(cov_delta)), fmt='.', c='r', label='stack')\n",
    "plt.errorbar(rrr, delta_gx[0,:] - 1, np.sqrt(np.diag(cov_delta_gx)), fmt='.', c='g', label='stack gx')\n",
    "# plt.plot(rrr, np.nanmean((massbin[:,0]/volphys[:,0])/meandenball[:,0] - 1, axis=0), c='b', label='mean')\n",
    "# plt.ylim(-1.05,1.50)\n",
    "plt.axhline(0,ls=':',c='k',alpha=0.5)\n",
    "plt.legend()\n",
    "plt.xlabel(r'R [$R_v$]')\n",
    "plt.ylabel(r'$\\delta$')\n",
    "plt.show()\n"
   ]
  },
  {
   "cell_type": "markdown",
   "id": "a0f4515b-0465-46a6-9a4b-baa6a4db9b11",
   "metadata": {
    "jp-MarkdownHeadingCollapsed": true,
    "tags": []
   },
   "source": [
    "## Test of `density_profiles_v2.py`"
   ]
  },
  {
   "cell_type": "code",
   "execution_count": 1,
   "id": "b3d6b55b-22a7-44d7-9eb3-9bbddd42f349",
   "metadata": {},
   "outputs": [
    {
     "name": "stdout",
     "output_type": "stream",
     "text": [
      "# of gx:  329004990\n"
     ]
    }
   ],
   "source": [
    "from density_profiles_v2 import *"
   ]
  },
  {
   "cell_type": "code",
   "execution_count": null,
   "id": "609b98a2-0c19-4556-867b-b1103904a01e",
   "metadata": {
    "tags": []
   },
   "outputs": [],
   "source": [
    "P = main(lens_args=(6.0,9.622,0.2,0.4,-1.0,-0.8,-1.0,100), N=50, ncores=32)"
   ]
  },
  {
   "cell_type": "code",
   "execution_count": 50,
   "id": "fe1fc039-2448-4eda-8eef-4d1ca2d0d425",
   "metadata": {},
   "outputs": [
    {
     "name": "stdout",
     "output_type": "stream",
     "text": [
      "0.011348510161042213\n"
     ]
    }
   ],
   "source": [
    "mean_n_box = 329004990/(3072**3)\n",
    "print(mean_n_box)"
   ]
  },
  {
   "cell_type": "code",
   "execution_count": 61,
   "id": "289aa7ec-dba8-4801-9dcc-a1680d44e56d",
   "metadata": {},
   "outputs": [
    {
     "name": "stdout",
     "output_type": "stream",
     "text": [
      "68719476736\n",
      "2.3703703703703702\n"
     ]
    }
   ],
   "source": [
    "NTRAC = 4096**3\n",
    "LBOX = 3072\n",
    "mean_n_box = NTRAC/(LBOX**3)\n",
    "print(NTRAC)\n",
    "print(mean_n_box)"
   ]
  },
  {
   "cell_type": "code",
   "execution_count": 45,
   "id": "8e6470d6-b97e-4e20-86fa-52792edc3c75",
   "metadata": {},
   "outputs": [],
   "source": [
    "n_cum = np.cumsum(P[:96][:,0], axis=1)\n",
    "vol_cum = np.cumsum(P[:96][:,2],axis=1)"
   ]
  },
  {
   "cell_type": "code",
   "execution_count": 65,
   "id": "f44bf824-99b3-4793-b477-6e16fe4635a8",
   "metadata": {},
   "outputs": [
    {
     "data": {
      "image/png": "[encoded data removed]",
      "text/plain": [
       "<Figure size 640x480 with 1 Axes>"
      ]
     },
     "metadata": {},
     "output_type": "display_data"
    }
   ],
   "source": [
    "plt.plot((P[:96][:,0].T/P[:96][:,2].T), c='C0', alpha=0.1)\n",
    "plt.show()"
   ]
  },
  {
   "cell_type": "markdown",
   "id": "895528a9-c9c6-42df-bcdc-d000fab2259c",
   "metadata": {},
   "source": [
    "? ^ es muy chico los valores comparado con la den media de la simu...\n",
    "capaz q usar la de una tajada?"
   ]
  },
  {
   "cell_type": "code",
   "execution_count": null,
   "id": "602a4498-c1bc-4ec9-9140-48bad237c109",
   "metadata": {},
   "outputs": [],
   "source": [
    "mass = P[:96][:,1]\n",
    "mass_cum = np.cumsum(P[:96][:,1],axis=1)\n",
    "vol = P[:96][:,2]\n",
    "vol_cum = np.cumsum(P[:96][:,2],axis=1)\n",
    "density_contrast = (mass.T/vol.T)/P[:96][:,-1].T - 1\n",
    "density_contrast_cum = (mass_cum.T/vol_cum.T)/P[:96][:,-1].T - 1\n",
    "\n",
    "plt.figure(figsize=(6,8))\n",
    "plt.axhline(0, ls=':', c='gray')\n",
    "plt.plot(density_contrast,\n",
    "         c='C0',alpha=0.1)\n",
    "plt.plot(np.mean(density_contrast,axis=1), c='C0', label='Normal')\n",
    "\n",
    "plt.plot(density_contrast_cum,\n",
    "         c='C1',alpha=0.1)\n",
    "plt.plot(np.mean(density_contrast_cum,axis=1), c='C1', label='Cumulative')\n",
    "plt.legend()\n",
    "plt.show()"
   ]
  },
  {
   "cell_type": "markdown",
   "id": "a688f999-5f94-485f-9437-48d45ac7ac93",
   "metadata": {
    "jp-MarkdownHeadingCollapsed": true,
    "tags": []
   },
   "source": [
    "## Using numba ...?"
   ]
  },
  {
   "cell_type": "code",
   "execution_count": 17,
   "id": "f087700f-c716-456f-b412-0c95a9f0110e",
   "metadata": {},
   "outputs": [],
   "source": [
    "from numba import njit\n",
    "import numpy as np\n",
    "import matplotlib.pyplot as plt\n",
    "from astropy.cosmology import LambdaCDM\n",
    "from astropy.io import fits\n",
    "from functools import partial\n",
    "from multiprocessing import Pool\n",
    "from tqdm import tqdm\n",
    "import sys\n",
    "sys.path.append('/home/fcaporaso/FlagShip/profiles/')\n",
    "from perfiles import lenscat_load"
   ]
  },
  {
   "cell_type": "code",
   "execution_count": 5,
   "id": "9789a2c3-8fac-4d0e-acfb-38990138dc99",
   "metadata": {},
   "outputs": [],
   "source": [
    "cosmo = LambdaCDM(H0=100, Om0=0.25, Ode0=0.75)"
   ]
  },
  {
   "cell_type": "code",
   "execution_count": 56,
   "id": "94f72ce3-1799-431e-8deb-390336ef3eb9",
   "metadata": {},
   "outputs": [],
   "source": [
    "def tracercat_load(catname='mice_sats_18939.fits', if_centrals=True):\n",
    "    \n",
    "    with fits.open('/home/fcaporaso/cats/MICE/'+catname) as f:\n",
    "        ra_gal  = f[1].data.ra_gal.astype('f')\n",
    "        dec_gal = f[1].data.dec_gal.astype('f')\n",
    "        z_gal   = f[1].data.z_cgal.astype('f')\n",
    "        centrals = f[1].data.flag_central == 0\n",
    "        lmhalo = f[1].data.lmhalo.astype('f')\n",
    "        \n",
    "    if if_centrals:\n",
    "        return ra_gal[centrals], dec_gal[centrals], z_gal[centrals], lmhalo[centrals]\n",
    "    \n",
    "    return ra_gal, dec_gal, z_gal"
   ]
  },
  {
   "cell_type": "code",
   "execution_count": 75,
   "id": "c0c56665-d75e-4b18-a7d5-4fdfbc84e336",
   "metadata": {},
   "outputs": [],
   "source": [
    "def ang2xyz(ra, dec, comdist):\n",
    "\n",
    "    x = comdist * np.cos(np.deg2rad(dec)) * np.cos(np.deg2rad(ra))\n",
    "    y = comdist * np.cos(np.deg2rad(dec)) * np.sin(np.deg2rad(ra))\n",
    "    z = comdist * np.sin(np.deg2rad(dec))\n",
    "\n",
    "    return x,y,z"
   ]
  },
  {
   "cell_type": "code",
   "execution_count": 31,
   "id": "f231e8a7-26fb-4998-bb3b-3eafd9aaa938",
   "metadata": {},
   "outputs": [],
   "source": [
    "@njit\n",
    "def density_v2(N, m, xh, yh, zh, lmhalo, void_prop):\n",
    "    rv = void_prop[0]\n",
    "    xv = void_prop[1]\n",
    "    yv = void_prop[2]\n",
    "    zv = void_prop[3]\n",
    "    number_gx = np.zeros(N)\n",
    "    mass_bin = np.zeros(N)\n",
    "    vol = np.zeros(N)\n",
    "    dist = np.sqrt((xh-xv)**2 + (yh-yv)**2 + (zh-zv)**2) ## dist to center of void i\n",
    "    const = m*rv/N\n",
    "\n",
    "    for k in range(N):\n",
    "        mask = (dist < (k+1)*const) & (dist >= k*const)\n",
    "        number_gx[k] = mask.sum()\n",
    "        mass_bin[k] = np.sum( 10.0**(lmhalo[mask]) )\n",
    "        vol[k] = (k+1)**3 - k**3\n",
    "        \n",
    "    mask_mean = (dist < 5*m*const)\n",
    "    mass_ball = np.sum( 10.0**(lmhalo[mask_mean]) )\n",
    "    mean_den_ball = mass_ball/((4/3)*np.pi*(5*m*const)**3)\n",
    "    \n",
    "    vol *= (4/3)*np.pi*const**3\n",
    "    \n",
    "    return number_gx, mass_bin, vol, np.full_like(vol, mean_den_ball)\n"
   ]
  },
  {
   "cell_type": "code",
   "execution_count": 57,
   "id": "ad7c21b2-7e7c-4192-bc30-fcfe36ece66c",
   "metadata": {},
   "outputs": [
    {
     "name": "stdout",
     "output_type": "stream",
     "text": [
      "CPU times: user 13.9 s, sys: 2.21 s, total: 16.1 s\n",
      "Wall time: 16.1 s\n"
     ]
    }
   ],
   "source": [
    "ra_gal, dec_gal, z_gal, lmhalo = tracercat_load()"
   ]
  },
  {
   "cell_type": "code",
   "execution_count": 63,
   "id": "719aef14-2b57-4ad0-9cf5-422c1a075b44",
   "metadata": {},
   "outputs": [
    {
     "name": "stdout",
     "output_type": "stream",
     "text": [
      "CPU times: user 3min 20s, sys: 664 ms, total: 3min 21s\n",
      "Wall time: 3min 21s\n"
     ]
    }
   ],
   "source": [
    "comdist = cosmo.comoving_distance(z_gal).value"
   ]
  },
  {
   "cell_type": "code",
   "execution_count": 74,
   "id": "f55203df-35f2-4002-a2e6-7d1f6aa9743c",
   "metadata": {},
   "outputs": [
    {
     "name": "stdout",
     "output_type": "stream",
     "text": [
      "CPU times: user 14 s, sys: 441 ms, total: 14.5 s\n",
      "Wall time: 14.4 s\n"
     ]
    }
   ],
   "source": [
    "xh, yh, zh = ang2xyz(ra_gal, dec_gal, comdist)"
   ]
  },
  {
   "cell_type": "code",
   "execution_count": 76,
   "id": "d8858f1f-983e-408f-8a3f-966a7be40d4c",
   "metadata": {},
   "outputs": [],
   "source": [
    "del ra_gal, dec_gal, z_gal"
   ]
  },
  {
   "cell_type": "code",
   "execution_count": 77,
   "id": "da4b0265-1bcc-40a5-a0df-bc3e5cda4738",
   "metadata": {},
   "outputs": [],
   "source": [
    "lens_args=(6.0,9.0,0.2,0.3,-1.0,-0.8,0.0,100)\n",
    "ncores=128\n",
    "N=10\n",
    "m=5"
   ]
  },
  {
   "cell_type": "code",
   "execution_count": 88,
   "id": "cc35100d-52b6-45bf-b63d-bfe21007a16e",
   "metadata": {},
   "outputs": [],
   "source": [
    "L,_,nvoids = lenscat_load(*lens_args, \n",
    "                          flag=2.0, lensname=\"/mnt/simulations/MICE/voids_MICE.dat\",\n",
    "                          split=False, NSPLITS=1)"
   ]
  },
  {
   "cell_type": "code",
   "execution_count": 89,
   "id": "6f40e0ee-3fd3-4eec-8f2d-c3280fc25f18",
   "metadata": {},
   "outputs": [],
   "source": [
    "partial_func = partial(density_v2, N, m, xh, yh, zh, lmhalo)"
   ]
  },
  {
   "cell_type": "code",
   "execution_count": 26,
   "id": "1979e09b-cab5-4ca2-9f08-2f5c4794e812",
   "metadata": {
    "collapsed": true,
    "jupyter": {
     "outputs_hidden": true
    },
    "tags": []
   },
   "outputs": [
    {
     "name": "stderr",
     "output_type": "stream",
     "text": [
      "  0%|                                                                                  | 0/18 [00:00<?, ?it/s]"
     ]
    },
    {
     "name": "stdout",
     "output_type": "stream",
     "text": [
      "128\n"
     ]
    },
    {
     "name": "stderr",
     "output_type": "stream",
     "text": [
      "Process ForkPoolWorker-83:\n",
      "Process ForkPoolWorker-123:\n",
      "Process ForkPoolWorker-151:\n",
      "Process ForkPoolWorker-152:\n",
      "Traceback (most recent call last):\n",
      "Traceback (most recent call last):\n",
      "Traceback (most recent call last):\n",
      "  File \"/home/fcaporaso/miniconda3/envs/env_py39/lib/python3.10/multiprocessing/process.py\", line 314, in _bootstrap\n",
      "    self.run()\n",
      "  File \"/home/fcaporaso/miniconda3/envs/env_py39/lib/python3.10/multiprocessing/process.py\", line 108, in run\n",
      "    self._target(*self._args, **self._kwargs)\n",
      "  File \"/home/fcaporaso/miniconda3/envs/env_py39/lib/python3.10/multiprocessing/process.py\", line 314, in _bootstrap\n",
      "    self.run()\n",
      "  File \"/home/fcaporaso/miniconda3/envs/env_py39/lib/python3.10/multiprocessing/process.py\", line 314, in _bootstrap\n",
      "    self.run()\n",
      "  File \"/home/fcaporaso/miniconda3/envs/env_py39/lib/python3.10/multiprocessing/pool.py\", line 114, in worker\n",
      "    task = get()\n",
      "  File \"/home/fcaporaso/miniconda3/envs/env_py39/lib/python3.10/multiprocessing/process.py\", line 108, in run\n",
      "    self._target(*self._args, **self._kwargs)\n",
      "  File \"/home/fcaporaso/miniconda3/envs/env_py39/lib/python3.10/multiprocessing/queues.py\", line 364, in get\n",
      "    with self._rlock:\n",
      "  File \"/home/fcaporaso/miniconda3/envs/env_py39/lib/python3.10/multiprocessing/process.py\", line 108, in run\n",
      "    self._target(*self._args, **self._kwargs)\n",
      "Process ForkPoolWorker-43:\n",
      "Process ForkPoolWorker-91:\n",
      "Process ForkPoolWorker-116:\n",
      "Process ForkPoolWorker-140:\n",
      "Process ForkPoolWorker-118:\n",
      "KeyboardInterrupt\n",
      "  File \"/home/fcaporaso/miniconda3/envs/env_py39/lib/python3.10/multiprocessing/synchronize.py\", line 95, in __enter__\n",
      "    return self._semlock.__enter__()\n",
      "Traceback (most recent call last):\n",
      "  File \"/home/fcaporaso/miniconda3/envs/env_py39/lib/python3.10/multiprocessing/process.py\", line 314, in _bootstrap\n",
      "    self.run()\n",
      "  File \"/home/fcaporaso/miniconda3/envs/env_py39/lib/python3.10/multiprocessing/process.py\", line 108, in run\n",
      "    self._target(*self._args, **self._kwargs)\n",
      "  File \"/home/fcaporaso/miniconda3/envs/env_py39/lib/python3.10/multiprocessing/pool.py\", line 114, in worker\n",
      "    task = get()\n",
      "  File \"/home/fcaporaso/miniconda3/envs/env_py39/lib/python3.10/multiprocessing/queues.py\", line 364, in get\n",
      "    with self._rlock:\n",
      "  File \"/home/fcaporaso/miniconda3/envs/env_py39/lib/python3.10/multiprocessing/synchronize.py\", line 95, in __enter__\n",
      "    return self._semlock.__enter__()\n",
      "KeyboardInterrupt\n",
      "Process ForkPoolWorker-148:\n",
      "Process ForkPoolWorker-135:\n",
      "Process ForkPoolWorker-80:\n",
      "Process ForkPoolWorker-40:\n",
      "Process ForkPoolWorker-142:\n",
      "Process ForkPoolWorker-145:\n",
      "Process ForkPoolWorker-160:\n",
      "Process ForkPoolWorker-130:\n",
      "Process ForkPoolWorker-137:\n",
      "Process ForkPoolWorker-124:\n",
      "Process ForkPoolWorker-159:\n",
      "Process ForkPoolWorker-147:\n",
      "Process ForkPoolWorker-100:\n",
      "Traceback (most recent call last):\n",
      "Process ForkPoolWorker-88:\n",
      "Process ForkPoolWorker-45:\n",
      "Process ForkPoolWorker-111:\n",
      "Traceback (most recent call last):\n",
      "Traceback (most recent call last):\n",
      "Process ForkPoolWorker-103:\n",
      "Process ForkPoolWorker-76:\n",
      "Process ForkPoolWorker-47:\n",
      "Traceback (most recent call last):\n",
      "Process ForkPoolWorker-35:\n",
      "  File \"/home/fcaporaso/miniconda3/envs/env_py39/lib/python3.10/multiprocessing/process.py\", line 314, in _bootstrap\n",
      "    self.run()\n",
      "  File \"/home/fcaporaso/miniconda3/envs/env_py39/lib/python3.10/multiprocessing/process.py\", line 314, in _bootstrap\n",
      "    self.run()\n",
      "Process ForkPoolWorker-98:\n",
      "Process ForkPoolWorker-66:\n",
      "  File \"/home/fcaporaso/miniconda3/envs/env_py39/lib/python3.10/multiprocessing/pool.py\", line 114, in worker\n",
      "    task = get()\n",
      "  File \"/home/fcaporaso/miniconda3/envs/env_py39/lib/python3.10/multiprocessing/pool.py\", line 114, in worker\n",
      "    task = get()\n",
      "Process ForkPoolWorker-104:\n",
      "Process ForkPoolWorker-108:\n",
      "Process ForkPoolWorker-97:\n",
      "Process ForkPoolWorker-68:\n",
      "Process ForkPoolWorker-65:\n",
      "Process ForkPoolWorker-126:\n",
      "Process ForkPoolWorker-144:\n",
      "Process ForkPoolWorker-70:\n",
      "Process ForkPoolWorker-115:\n",
      "Process ForkPoolWorker-56:\n",
      "Process ForkPoolWorker-57:\n",
      "Process ForkPoolWorker-79:\n",
      "Process ForkPoolWorker-96:\n",
      "Process ForkPoolWorker-82:\n",
      "Process ForkPoolWorker-113:\n",
      "Process ForkPoolWorker-101:\n",
      "Process ForkPoolWorker-106:\n",
      "Process ForkPoolWorker-89:\n",
      "Process ForkPoolWorker-59:\n",
      "Process ForkPoolWorker-50:\n",
      "Process ForkPoolWorker-90:\n",
      "Process ForkPoolWorker-62:\n",
      "Process ForkPoolWorker-93:\n",
      "Process ForkPoolWorker-69:\n",
      "Process ForkPoolWorker-99:\n",
      "Process ForkPoolWorker-67:\n",
      "Process ForkPoolWorker-114:\n",
      "Process ForkPoolWorker-94:\n",
      "Process ForkPoolWorker-63:\n",
      "Process ForkPoolWorker-95:\n",
      "Process ForkPoolWorker-71:\n",
      "Process ForkPoolWorker-84:\n",
      "Process ForkPoolWorker-64:\n",
      "Process ForkPoolWorker-110:\n",
      "Process ForkPoolWorker-75:\n",
      "Process ForkPoolWorker-92:\n",
      "Process ForkPoolWorker-102:\n",
      "  File \"/home/fcaporaso/miniconda3/envs/env_py39/lib/python3.10/multiprocessing/process.py\", line 314, in _bootstrap\n",
      "    self.run()\n",
      "  File \"/home/fcaporaso/miniconda3/envs/env_py39/lib/python3.10/multiprocessing/process.py\", line 314, in _bootstrap\n",
      "    self.run()\n",
      "  File \"/home/fcaporaso/miniconda3/envs/env_py39/lib/python3.10/multiprocessing/process.py\", line 108, in run\n",
      "    self._target(*self._args, **self._kwargs)\n",
      "  File \"/home/fcaporaso/miniconda3/envs/env_py39/lib/python3.10/multiprocessing/process.py\", line 108, in run\n",
      "    self._target(*self._args, **self._kwargs)\n",
      "Traceback (most recent call last):\n",
      "Process ForkPoolWorker-54:\n",
      "Process ForkPoolWorker-87:\n",
      "Process ForkPoolWorker-37:\n",
      "Process ForkPoolWorker-74:\n",
      "Process ForkPoolWorker-132:\n",
      "Process ForkPoolWorker-158:\n",
      "Process ForkPoolWorker-129:\n",
      "Process ForkPoolWorker-48:\n",
      "Process ForkPoolWorker-39:\n",
      "Process ForkPoolWorker-73:\n",
      "Process ForkPoolWorker-85:\n",
      "Process ForkPoolWorker-146:\n",
      "Process ForkPoolWorker-127:\n",
      "Process ForkPoolWorker-128:\n",
      "Process ForkPoolWorker-117:\n",
      "Process ForkPoolWorker-154:\n",
      "Process ForkPoolWorker-107:\n",
      "Process ForkPoolWorker-156:\n",
      "Process ForkPoolWorker-122:\n",
      "Process ForkPoolWorker-72:\n",
      "Process ForkPoolWorker-119:\n",
      "Process ForkPoolWorker-86:\n",
      "Process ForkPoolWorker-139:\n",
      "Process ForkPoolWorker-150:\n",
      "Process ForkPoolWorker-51:\n",
      "Process ForkPoolWorker-157:\n",
      "Process ForkPoolWorker-153:\n",
      "Process ForkPoolWorker-77:\n",
      "Process ForkPoolWorker-33:\n",
      "Process ForkPoolWorker-105:\n",
      "Process ForkPoolWorker-109:\n",
      "Process ForkPoolWorker-134:\n",
      "Process ForkPoolWorker-155:\n",
      "Process ForkPoolWorker-141:\n",
      "Process ForkPoolWorker-112:\n",
      "Process ForkPoolWorker-81:\n",
      "Process ForkPoolWorker-55:\n",
      "Process ForkPoolWorker-149:\n",
      "Process ForkPoolWorker-52:\n",
      "Process ForkPoolWorker-125:\n",
      "Process ForkPoolWorker-58:\n",
      "Process ForkPoolWorker-121:\n",
      "Process ForkPoolWorker-46:\n",
      "Process ForkPoolWorker-136:\n",
      "Process ForkPoolWorker-53:\n",
      "Process ForkPoolWorker-143:\n",
      "Process ForkPoolWorker-60:\n",
      "  File \"/home/fcaporaso/miniconda3/envs/env_py39/lib/python3.10/multiprocessing/queues.py\", line 364, in get\n",
      "    with self._rlock:\n",
      "Process ForkPoolWorker-133:\n",
      "Process ForkPoolWorker-120:\n",
      "Process ForkPoolWorker-38:\n",
      "Process ForkPoolWorker-61:\n",
      "  File \"/home/fcaporaso/miniconda3/envs/env_py39/lib/python3.10/multiprocessing/queues.py\", line 364, in get\n",
      "    with self._rlock:\n",
      "Process ForkPoolWorker-34:\n",
      "Process ForkPoolWorker-44:\n",
      "Process ForkPoolWorker-36:\n",
      "Process ForkPoolWorker-131:\n",
      "Process ForkPoolWorker-49:\n",
      "Process ForkPoolWorker-78:\n",
      "Process ForkPoolWorker-42:\n",
      "  File \"/home/fcaporaso/miniconda3/envs/env_py39/lib/python3.10/multiprocessing/process.py\", line 108, in run\n",
      "    self._target(*self._args, **self._kwargs)\n",
      "Process ForkPoolWorker-138:\n",
      "  File \"/home/fcaporaso/miniconda3/envs/env_py39/lib/python3.10/multiprocessing/process.py\", line 108, in run\n",
      "    self._target(*self._args, **self._kwargs)\n",
      "  File \"/home/fcaporaso/miniconda3/envs/env_py39/lib/python3.10/multiprocessing/pool.py\", line 114, in worker\n",
      "    task = get()\n",
      "  File \"/home/fcaporaso/miniconda3/envs/env_py39/lib/python3.10/multiprocessing/pool.py\", line 114, in worker\n",
      "    task = get()\n",
      "  File \"/home/fcaporaso/miniconda3/envs/env_py39/lib/python3.10/multiprocessing/process.py\", line 314, in _bootstrap\n",
      "    self.run()\n",
      "  File \"/home/fcaporaso/miniconda3/envs/env_py39/lib/python3.10/multiprocessing/synchronize.py\", line 95, in __enter__\n",
      "    return self._semlock.__enter__()\n",
      "  File \"/home/fcaporaso/miniconda3/envs/env_py39/lib/python3.10/multiprocessing/synchronize.py\", line 95, in __enter__\n",
      "    return self._semlock.__enter__()\n",
      "  File \"/home/fcaporaso/miniconda3/envs/env_py39/lib/python3.10/multiprocessing/pool.py\", line 114, in worker\n",
      "    task = get()\n",
      "  File \"/home/fcaporaso/miniconda3/envs/env_py39/lib/python3.10/multiprocessing/pool.py\", line 114, in worker\n",
      "    task = get()\n",
      "  File \"/home/fcaporaso/miniconda3/envs/env_py39/lib/python3.10/multiprocessing/queues.py\", line 364, in get\n",
      "    with self._rlock:\n",
      "  File \"/home/fcaporaso/miniconda3/envs/env_py39/lib/python3.10/multiprocessing/queues.py\", line 364, in get\n",
      "    with self._rlock:\n",
      "  File \"/home/fcaporaso/miniconda3/envs/env_py39/lib/python3.10/multiprocessing/process.py\", line 108, in run\n",
      "    self._target(*self._args, **self._kwargs)\n",
      "KeyboardInterrupt\n",
      "KeyboardInterrupt\n",
      "  File \"/home/fcaporaso/miniconda3/envs/env_py39/lib/python3.10/multiprocessing/queues.py\", line 364, in get\n",
      "    with self._rlock:\n",
      "  File \"/home/fcaporaso/miniconda3/envs/env_py39/lib/python3.10/multiprocessing/synchronize.py\", line 95, in __enter__\n",
      "    return self._semlock.__enter__()\n",
      "  File \"/home/fcaporaso/miniconda3/envs/env_py39/lib/python3.10/multiprocessing/synchronize.py\", line 95, in __enter__\n",
      "    return self._semlock.__enter__()\n",
      "  File \"/home/fcaporaso/miniconda3/envs/env_py39/lib/python3.10/multiprocessing/synchronize.py\", line 95, in __enter__\n",
      "    return self._semlock.__enter__()\n",
      "  File \"/home/fcaporaso/miniconda3/envs/env_py39/lib/python3.10/multiprocessing/queues.py\", line 364, in get\n",
      "    with self._rlock:\n",
      "  File \"/home/fcaporaso/miniconda3/envs/env_py39/lib/python3.10/multiprocessing/pool.py\", line 114, in worker\n",
      "    task = get()\n",
      "KeyboardInterrupt\n",
      "KeyboardInterrupt\n",
      "  File \"/home/fcaporaso/miniconda3/envs/env_py39/lib/python3.10/multiprocessing/synchronize.py\", line 95, in __enter__\n",
      "    return self._semlock.__enter__()\n",
      "  File \"/home/fcaporaso/miniconda3/envs/env_py39/lib/python3.10/multiprocessing/queues.py\", line 364, in get\n",
      "    with self._rlock:\n",
      "KeyboardInterrupt\n",
      "  File \"/home/fcaporaso/miniconda3/envs/env_py39/lib/python3.10/multiprocessing/synchronize.py\", line 95, in __enter__\n",
      "    return self._semlock.__enter__()\n",
      "KeyboardInterrupt\n",
      "KeyboardInterrupt\n",
      "Traceback (most recent call last):\n",
      "  File \"/home/fcaporaso/miniconda3/envs/env_py39/lib/python3.10/multiprocessing/process.py\", line 314, in _bootstrap\n",
      "    self.run()\n",
      "  File \"/home/fcaporaso/miniconda3/envs/env_py39/lib/python3.10/multiprocessing/process.py\", line 108, in run\n",
      "    self._target(*self._args, **self._kwargs)\n",
      "Traceback (most recent call last):\n",
      "  File \"/home/fcaporaso/miniconda3/envs/env_py39/lib/python3.10/multiprocessing/pool.py\", line 114, in worker\n",
      "    task = get()\n",
      "  File \"/home/fcaporaso/miniconda3/envs/env_py39/lib/python3.10/multiprocessing/process.py\", line 314, in _bootstrap\n",
      "    self.run()\n",
      "  File \"/home/fcaporaso/miniconda3/envs/env_py39/lib/python3.10/multiprocessing/queues.py\", line 364, in get\n",
      "    with self._rlock:\n",
      "  File \"/home/fcaporaso/miniconda3/envs/env_py39/lib/python3.10/multiprocessing/process.py\", line 108, in run\n",
      "    self._target(*self._args, **self._kwargs)\n",
      "  File \"/home/fcaporaso/miniconda3/envs/env_py39/lib/python3.10/multiprocessing/synchronize.py\", line 95, in __enter__\n",
      "    return self._semlock.__enter__()\n",
      "  File \"/home/fcaporaso/miniconda3/envs/env_py39/lib/python3.10/multiprocessing/pool.py\", line 114, in worker\n",
      "    task = get()\n",
      "KeyboardInterrupt\n",
      "  File \"/home/fcaporaso/miniconda3/envs/env_py39/lib/python3.10/multiprocessing/queues.py\", line 364, in get\n",
      "    with self._rlock:\n",
      "  File \"/home/fcaporaso/miniconda3/envs/env_py39/lib/python3.10/multiprocessing/synchronize.py\", line 95, in __enter__\n",
      "    return self._semlock.__enter__()\n",
      "KeyboardInterrupt\n",
      "Traceback (most recent call last):\n",
      "  File \"/home/fcaporaso/miniconda3/envs/env_py39/lib/python3.10/multiprocessing/process.py\", line 314, in _bootstrap\n",
      "    self.run()\n",
      "  File \"/home/fcaporaso/miniconda3/envs/env_py39/lib/python3.10/multiprocessing/process.py\", line 108, in run\n",
      "    self._target(*self._args, **self._kwargs)\n",
      "  File \"/home/fcaporaso/miniconda3/envs/env_py39/lib/python3.10/multiprocessing/pool.py\", line 114, in worker\n",
      "    task = get()\n",
      "  File \"/home/fcaporaso/miniconda3/envs/env_py39/lib/python3.10/multiprocessing/queues.py\", line 364, in get\n",
      "    with self._rlock:\n",
      "  File \"/home/fcaporaso/miniconda3/envs/env_py39/lib/python3.10/multiprocessing/synchronize.py\", line 95, in __enter__\n",
      "    return self._semlock.__enter__()\n",
      "KeyboardInterrupt\n",
      "Traceback (most recent call last):\n",
      "  File \"/home/fcaporaso/miniconda3/envs/env_py39/lib/python3.10/multiprocessing/process.py\", line 314, in _bootstrap\n",
      "    self.run()\n",
      "Traceback (most recent call last):\n",
      "  File \"/home/fcaporaso/miniconda3/envs/env_py39/lib/python3.10/multiprocessing/process.py\", line 108, in run\n",
      "    self._target(*self._args, **self._kwargs)\n",
      "Traceback (most recent call last):\n",
      "  File \"/home/fcaporaso/miniconda3/envs/env_py39/lib/python3.10/multiprocessing/process.py\", line 314, in _bootstrap\n",
      "    self.run()\n",
      "  File \"/home/fcaporaso/miniconda3/envs/env_py39/lib/python3.10/multiprocessing/pool.py\", line 114, in worker\n",
      "    task = get()\n",
      "  File \"/home/fcaporaso/miniconda3/envs/env_py39/lib/python3.10/multiprocessing/process.py\", line 314, in _bootstrap\n",
      "    self.run()\n",
      "  File \"/home/fcaporaso/miniconda3/envs/env_py39/lib/python3.10/multiprocessing/process.py\", line 108, in run\n",
      "    self._target(*self._args, **self._kwargs)\n",
      "  File \"/home/fcaporaso/miniconda3/envs/env_py39/lib/python3.10/multiprocessing/queues.py\", line 364, in get\n",
      "    with self._rlock:\n",
      "  File \"/home/fcaporaso/miniconda3/envs/env_py39/lib/python3.10/multiprocessing/process.py\", line 108, in run\n",
      "    self._target(*self._args, **self._kwargs)\n",
      "  File \"/home/fcaporaso/miniconda3/envs/env_py39/lib/python3.10/multiprocessing/pool.py\", line 114, in worker\n",
      "    task = get()\n",
      "  File \"/home/fcaporaso/miniconda3/envs/env_py39/lib/python3.10/multiprocessing/synchronize.py\", line 95, in __enter__\n",
      "    return self._semlock.__enter__()\n",
      "  File \"/home/fcaporaso/miniconda3/envs/env_py39/lib/python3.10/multiprocessing/pool.py\", line 114, in worker\n",
      "    task = get()\n",
      "  File \"/home/fcaporaso/miniconda3/envs/env_py39/lib/python3.10/multiprocessing/queues.py\", line 364, in get\n",
      "    with self._rlock:\n",
      "KeyboardInterrupt\n",
      "  File \"/home/fcaporaso/miniconda3/envs/env_py39/lib/python3.10/multiprocessing/queues.py\", line 364, in get\n",
      "    with self._rlock:\n",
      "  File \"/home/fcaporaso/miniconda3/envs/env_py39/lib/python3.10/multiprocessing/synchronize.py\", line 95, in __enter__\n",
      "    return self._semlock.__enter__()\n",
      "Traceback (most recent call last):\n",
      "  File \"/home/fcaporaso/miniconda3/envs/env_py39/lib/python3.10/multiprocessing/synchronize.py\", line 95, in __enter__\n",
      "    return self._semlock.__enter__()\n",
      "KeyboardInterrupt\n",
      "  File \"/home/fcaporaso/miniconda3/envs/env_py39/lib/python3.10/multiprocessing/process.py\", line 314, in _bootstrap\n",
      "    self.run()\n",
      "KeyboardInterrupt\n",
      "  File \"/home/fcaporaso/miniconda3/envs/env_py39/lib/python3.10/multiprocessing/process.py\", line 108, in run\n",
      "    self._target(*self._args, **self._kwargs)\n",
      "  File \"/home/fcaporaso/miniconda3/envs/env_py39/lib/python3.10/multiprocessing/pool.py\", line 114, in worker\n",
      "    task = get()\n",
      "  File \"/home/fcaporaso/miniconda3/envs/env_py39/lib/python3.10/multiprocessing/queues.py\", line 364, in get\n",
      "    with self._rlock:\n",
      "  File \"/home/fcaporaso/miniconda3/envs/env_py39/lib/python3.10/multiprocessing/synchronize.py\", line 95, in __enter__\n",
      "    return self._semlock.__enter__()\n",
      "KeyboardInterrupt\n",
      "Traceback (most recent call last):\n",
      "  File \"/home/fcaporaso/miniconda3/envs/env_py39/lib/python3.10/multiprocessing/process.py\", line 314, in _bootstrap\n",
      "    self.run()\n",
      "Traceback (most recent call last):\n",
      "  File \"/home/fcaporaso/miniconda3/envs/env_py39/lib/python3.10/multiprocessing/process.py\", line 108, in run\n",
      "    self._target(*self._args, **self._kwargs)\n",
      "Traceback (most recent call last):\n",
      "  File \"/home/fcaporaso/miniconda3/envs/env_py39/lib/python3.10/multiprocessing/pool.py\", line 114, in worker\n",
      "    task = get()\n",
      "  File \"/home/fcaporaso/miniconda3/envs/env_py39/lib/python3.10/multiprocessing/process.py\", line 314, in _bootstrap\n",
      "    self.run()\n",
      "  File \"/home/fcaporaso/miniconda3/envs/env_py39/lib/python3.10/multiprocessing/process.py\", line 314, in _bootstrap\n",
      "    self.run()\n",
      "Traceback (most recent call last):\n",
      "  File \"/home/fcaporaso/miniconda3/envs/env_py39/lib/python3.10/multiprocessing/queues.py\", line 364, in get\n",
      "    with self._rlock:\n",
      "  File \"/home/fcaporaso/miniconda3/envs/env_py39/lib/python3.10/multiprocessing/process.py\", line 108, in run\n",
      "    self._target(*self._args, **self._kwargs)\n",
      "  File \"/home/fcaporaso/miniconda3/envs/env_py39/lib/python3.10/multiprocessing/process.py\", line 314, in _bootstrap\n",
      "    self.run()\n",
      "  File \"/home/fcaporaso/miniconda3/envs/env_py39/lib/python3.10/multiprocessing/synchronize.py\", line 95, in __enter__\n",
      "    return self._semlock.__enter__()\n",
      "  File \"/home/fcaporaso/miniconda3/envs/env_py39/lib/python3.10/multiprocessing/pool.py\", line 114, in worker\n",
      "    task = get()\n",
      "  File \"/home/fcaporaso/miniconda3/envs/env_py39/lib/python3.10/multiprocessing/process.py\", line 108, in run\n",
      "    self._target(*self._args, **self._kwargs)\n",
      "  File \"/home/fcaporaso/miniconda3/envs/env_py39/lib/python3.10/multiprocessing/process.py\", line 108, in run\n",
      "    self._target(*self._args, **self._kwargs)\n",
      "KeyboardInterrupt\n",
      "  File \"/home/fcaporaso/miniconda3/envs/env_py39/lib/python3.10/multiprocessing/pool.py\", line 114, in worker\n",
      "    task = get()\n",
      "  File \"/home/fcaporaso/miniconda3/envs/env_py39/lib/python3.10/multiprocessing/queues.py\", line 364, in get\n",
      "    with self._rlock:\n",
      "  File \"/home/fcaporaso/miniconda3/envs/env_py39/lib/python3.10/multiprocessing/queues.py\", line 364, in get\n",
      "    with self._rlock:\n",
      "  File \"/home/fcaporaso/miniconda3/envs/env_py39/lib/python3.10/multiprocessing/pool.py\", line 114, in worker\n",
      "    task = get()\n",
      "  File \"/home/fcaporaso/miniconda3/envs/env_py39/lib/python3.10/multiprocessing/synchronize.py\", line 95, in __enter__\n",
      "    return self._semlock.__enter__()\n",
      "  File \"/home/fcaporaso/miniconda3/envs/env_py39/lib/python3.10/multiprocessing/synchronize.py\", line 95, in __enter__\n",
      "    return self._semlock.__enter__()\n",
      "KeyboardInterrupt\n",
      "KeyboardInterrupt\n",
      "  File \"/home/fcaporaso/miniconda3/envs/env_py39/lib/python3.10/multiprocessing/queues.py\", line 364, in get\n",
      "    with self._rlock:\n",
      "  File \"/home/fcaporaso/miniconda3/envs/env_py39/lib/python3.10/multiprocessing/synchronize.py\", line 95, in __enter__\n",
      "    return self._semlock.__enter__()\n",
      "KeyboardInterrupt\n",
      "Traceback (most recent call last):\n",
      "  File \"/home/fcaporaso/miniconda3/envs/env_py39/lib/python3.10/multiprocessing/process.py\", line 314, in _bootstrap\n",
      "    self.run()\n",
      "  File \"/home/fcaporaso/miniconda3/envs/env_py39/lib/python3.10/multiprocessing/process.py\", line 108, in run\n",
      "    self._target(*self._args, **self._kwargs)\n",
      "  File \"/home/fcaporaso/miniconda3/envs/env_py39/lib/python3.10/multiprocessing/pool.py\", line 114, in worker\n",
      "    task = get()\n",
      "Traceback (most recent call last):\n",
      "  File \"/home/fcaporaso/miniconda3/envs/env_py39/lib/python3.10/multiprocessing/queues.py\", line 364, in get\n",
      "    with self._rlock:\n",
      "  File \"/home/fcaporaso/miniconda3/envs/env_py39/lib/python3.10/multiprocessing/process.py\", line 314, in _bootstrap\n",
      "    self.run()\n",
      "  File \"/home/fcaporaso/miniconda3/envs/env_py39/lib/python3.10/multiprocessing/synchronize.py\", line 95, in __enter__\n",
      "    return self._semlock.__enter__()\n",
      "  File \"/home/fcaporaso/miniconda3/envs/env_py39/lib/python3.10/multiprocessing/process.py\", line 108, in run\n",
      "    self._target(*self._args, **self._kwargs)\n",
      "KeyboardInterrupt\n",
      "  File \"/home/fcaporaso/miniconda3/envs/env_py39/lib/python3.10/multiprocessing/pool.py\", line 114, in worker\n",
      "    task = get()\n",
      "  File \"/home/fcaporaso/miniconda3/envs/env_py39/lib/python3.10/multiprocessing/queues.py\", line 364, in get\n",
      "    with self._rlock:\n",
      "  File \"/home/fcaporaso/miniconda3/envs/env_py39/lib/python3.10/multiprocessing/synchronize.py\", line 95, in __enter__\n",
      "    return self._semlock.__enter__()\n",
      "KeyboardInterrupt\n",
      "Traceback (most recent call last):\n",
      "  File \"/home/fcaporaso/miniconda3/envs/env_py39/lib/python3.10/multiprocessing/process.py\", line 314, in _bootstrap\n",
      "    self.run()\n",
      "  File \"/home/fcaporaso/miniconda3/envs/env_py39/lib/python3.10/multiprocessing/process.py\", line 108, in run\n",
      "    self._target(*self._args, **self._kwargs)\n",
      "  File \"/home/fcaporaso/miniconda3/envs/env_py39/lib/python3.10/multiprocessing/pool.py\", line 114, in worker\n",
      "    task = get()\n",
      "  File \"/home/fcaporaso/miniconda3/envs/env_py39/lib/python3.10/multiprocessing/queues.py\", line 364, in get\n",
      "    with self._rlock:\n",
      "  File \"/home/fcaporaso/miniconda3/envs/env_py39/lib/python3.10/multiprocessing/synchronize.py\", line 95, in __enter__\n",
      "    return self._semlock.__enter__()\n",
      "KeyboardInterrupt\n",
      "Traceback (most recent call last):\n",
      "  File \"/home/fcaporaso/miniconda3/envs/env_py39/lib/python3.10/multiprocessing/process.py\", line 314, in _bootstrap\n",
      "    self.run()\n",
      "  File \"/home/fcaporaso/miniconda3/envs/env_py39/lib/python3.10/multiprocessing/process.py\", line 108, in run\n",
      "    self._target(*self._args, **self._kwargs)\n",
      "  File \"/home/fcaporaso/miniconda3/envs/env_py39/lib/python3.10/multiprocessing/pool.py\", line 114, in worker\n",
      "    task = get()\n",
      "  File \"/home/fcaporaso/miniconda3/envs/env_py39/lib/python3.10/multiprocessing/queues.py\", line 364, in get\n",
      "    with self._rlock:\n",
      "  File \"/home/fcaporaso/miniconda3/envs/env_py39/lib/python3.10/multiprocessing/synchronize.py\", line 95, in __enter__\n",
      "    return self._semlock.__enter__()\n",
      "KeyboardInterrupt\n",
      "Traceback (most recent call last):\n",
      "  File \"/home/fcaporaso/miniconda3/envs/env_py39/lib/python3.10/multiprocessing/process.py\", line 314, in _bootstrap\n",
      "    self.run()\n",
      "  File \"/home/fcaporaso/miniconda3/envs/env_py39/lib/python3.10/multiprocessing/process.py\", line 108, in run\n",
      "    self._target(*self._args, **self._kwargs)\n",
      "  File \"/home/fcaporaso/miniconda3/envs/env_py39/lib/python3.10/multiprocessing/pool.py\", line 114, in worker\n",
      "    task = get()\n",
      "  File \"/home/fcaporaso/miniconda3/envs/env_py39/lib/python3.10/multiprocessing/queues.py\", line 365, in get\n",
      "    res = self._reader.recv_bytes()\n",
      "  File \"/home/fcaporaso/miniconda3/envs/env_py39/lib/python3.10/multiprocessing/connection.py\", line 216, in recv_bytes\n",
      "    buf = self._recv_bytes(maxlength)\n",
      "  File \"/home/fcaporaso/miniconda3/envs/env_py39/lib/python3.10/multiprocessing/connection.py\", line 421, in _recv_bytes\n",
      "    return self._recv(size)\n",
      "  File \"/home/fcaporaso/miniconda3/envs/env_py39/lib/python3.10/multiprocessing/connection.py\", line 379, in _recv\n",
      "    chunk = read(handle, remaining)\n",
      "KeyboardInterrupt\n",
      "Traceback (most recent call last):\n",
      "  File \"/home/fcaporaso/miniconda3/envs/env_py39/lib/python3.10/multiprocessing/process.py\", line 314, in _bootstrap\n",
      "    self.run()\n",
      "  File \"/home/fcaporaso/miniconda3/envs/env_py39/lib/python3.10/multiprocessing/process.py\", line 108, in run\n",
      "    self._target(*self._args, **self._kwargs)\n",
      "  File \"/home/fcaporaso/miniconda3/envs/env_py39/lib/python3.10/multiprocessing/pool.py\", line 114, in worker\n",
      "    task = get()\n",
      "Traceback (most recent call last):\n",
      "  File \"/home/fcaporaso/miniconda3/envs/env_py39/lib/python3.10/multiprocessing/queues.py\", line 364, in get\n",
      "    with self._rlock:\n",
      "  File \"/home/fcaporaso/miniconda3/envs/env_py39/lib/python3.10/multiprocessing/process.py\", line 314, in _bootstrap\n",
      "    self.run()\n",
      "  File \"/home/fcaporaso/miniconda3/envs/env_py39/lib/python3.10/multiprocessing/synchronize.py\", line 95, in __enter__\n",
      "    return self._semlock.__enter__()\n",
      "  File \"/home/fcaporaso/miniconda3/envs/env_py39/lib/python3.10/multiprocessing/process.py\", line 108, in run\n",
      "    self._target(*self._args, **self._kwargs)\n",
      "KeyboardInterrupt\n",
      "  File \"/home/fcaporaso/miniconda3/envs/env_py39/lib/python3.10/multiprocessing/pool.py\", line 114, in worker\n",
      "    task = get()\n",
      "  File \"/home/fcaporaso/miniconda3/envs/env_py39/lib/python3.10/multiprocessing/queues.py\", line 364, in get\n",
      "    with self._rlock:\n",
      "  File \"/home/fcaporaso/miniconda3/envs/env_py39/lib/python3.10/multiprocessing/synchronize.py\", line 95, in __enter__\n",
      "    return self._semlock.__enter__()\n",
      "KeyboardInterrupt\n",
      "Traceback (most recent call last):\n",
      "Traceback (most recent call last):\n",
      "  File \"/home/fcaporaso/miniconda3/envs/env_py39/lib/python3.10/multiprocessing/process.py\", line 314, in _bootstrap\n",
      "    self.run()\n",
      "Traceback (most recent call last):\n",
      "  File \"/home/fcaporaso/miniconda3/envs/env_py39/lib/python3.10/multiprocessing/process.py\", line 108, in run\n",
      "    self._target(*self._args, **self._kwargs)\n",
      "  File \"/home/fcaporaso/miniconda3/envs/env_py39/lib/python3.10/multiprocessing/process.py\", line 314, in _bootstrap\n",
      "    self.run()\n",
      "  File \"/home/fcaporaso/miniconda3/envs/env_py39/lib/python3.10/multiprocessing/pool.py\", line 114, in worker\n",
      "    task = get()\n",
      "  File \"/home/fcaporaso/miniconda3/envs/env_py39/lib/python3.10/multiprocessing/process.py\", line 314, in _bootstrap\n",
      "    self.run()\n",
      "  File \"/home/fcaporaso/miniconda3/envs/env_py39/lib/python3.10/multiprocessing/process.py\", line 108, in run\n",
      "    self._target(*self._args, **self._kwargs)\n",
      "  File \"/home/fcaporaso/miniconda3/envs/env_py39/lib/python3.10/multiprocessing/queues.py\", line 364, in get\n",
      "    with self._rlock:\n",
      "  File \"/home/fcaporaso/miniconda3/envs/env_py39/lib/python3.10/multiprocessing/process.py\", line 108, in run\n",
      "    self._target(*self._args, **self._kwargs)\n",
      "Traceback (most recent call last):\n",
      "  File \"/home/fcaporaso/miniconda3/envs/env_py39/lib/python3.10/multiprocessing/pool.py\", line 114, in worker\n",
      "    task = get()\n",
      "  File \"/home/fcaporaso/miniconda3/envs/env_py39/lib/python3.10/multiprocessing/synchronize.py\", line 95, in __enter__\n",
      "    return self._semlock.__enter__()\n",
      "  File \"/home/fcaporaso/miniconda3/envs/env_py39/lib/python3.10/multiprocessing/queues.py\", line 364, in get\n",
      "    with self._rlock:\n",
      "  File \"/home/fcaporaso/miniconda3/envs/env_py39/lib/python3.10/multiprocessing/pool.py\", line 114, in worker\n",
      "    task = get()\n",
      "KeyboardInterrupt\n",
      "  File \"/home/fcaporaso/miniconda3/envs/env_py39/lib/python3.10/multiprocessing/process.py\", line 314, in _bootstrap\n",
      "    self.run()\n",
      "Traceback (most recent call last):\n",
      "  File \"/home/fcaporaso/miniconda3/envs/env_py39/lib/python3.10/multiprocessing/synchronize.py\", line 95, in __enter__\n",
      "    return self._semlock.__enter__()\n",
      "  File \"/home/fcaporaso/miniconda3/envs/env_py39/lib/python3.10/multiprocessing/queues.py\", line 364, in get\n",
      "    with self._rlock:\n",
      "  File \"/home/fcaporaso/miniconda3/envs/env_py39/lib/python3.10/multiprocessing/process.py\", line 108, in run\n",
      "    self._target(*self._args, **self._kwargs)\n",
      "KeyboardInterrupt\n",
      "  File \"/home/fcaporaso/miniconda3/envs/env_py39/lib/python3.10/multiprocessing/process.py\", line 314, in _bootstrap\n",
      "    self.run()\n",
      "  File \"/home/fcaporaso/miniconda3/envs/env_py39/lib/python3.10/multiprocessing/synchronize.py\", line 95, in __enter__\n",
      "    return self._semlock.__enter__()\n",
      "  File \"/home/fcaporaso/miniconda3/envs/env_py39/lib/python3.10/multiprocessing/pool.py\", line 114, in worker\n",
      "    task = get()\n",
      "  File \"/home/fcaporaso/miniconda3/envs/env_py39/lib/python3.10/multiprocessing/process.py\", line 108, in run\n",
      "    self._target(*self._args, **self._kwargs)\n",
      "  File \"/home/fcaporaso/miniconda3/envs/env_py39/lib/python3.10/multiprocessing/queues.py\", line 364, in get\n",
      "    with self._rlock:\n",
      "KeyboardInterrupt\n",
      "  File \"/home/fcaporaso/miniconda3/envs/env_py39/lib/python3.10/multiprocessing/pool.py\", line 114, in worker\n",
      "    task = get()\n",
      "  File \"/home/fcaporaso/miniconda3/envs/env_py39/lib/python3.10/multiprocessing/synchronize.py\", line 95, in __enter__\n",
      "    return self._semlock.__enter__()\n",
      "  File \"/home/fcaporaso/miniconda3/envs/env_py39/lib/python3.10/multiprocessing/queues.py\", line 364, in get\n",
      "    with self._rlock:\n",
      "KeyboardInterrupt\n",
      "  File \"/home/fcaporaso/miniconda3/envs/env_py39/lib/python3.10/multiprocessing/synchronize.py\", line 95, in __enter__\n",
      "    return self._semlock.__enter__()\n",
      "Traceback (most recent call last):\n",
      "Traceback (most recent call last):\n",
      "Traceback (most recent call last):\n",
      "KeyboardInterrupt\n",
      "Traceback (most recent call last):\n",
      "Traceback (most recent call last):\n",
      "  File \"/home/fcaporaso/miniconda3/envs/env_py39/lib/python3.10/multiprocessing/process.py\", line 314, in _bootstrap\n",
      "    self.run()\n",
      "Traceback (most recent call last):\n",
      "  File \"/home/fcaporaso/miniconda3/envs/env_py39/lib/python3.10/multiprocessing/process.py\", line 314, in _bootstrap\n",
      "    self.run()\n",
      "  File \"/home/fcaporaso/miniconda3/envs/env_py39/lib/python3.10/multiprocessing/process.py\", line 314, in _bootstrap\n",
      "    self.run()\n",
      "Traceback (most recent call last):\n",
      "Traceback (most recent call last):\n",
      "Traceback (most recent call last):\n",
      "Traceback (most recent call last):\n",
      "  File \"/home/fcaporaso/miniconda3/envs/env_py39/lib/python3.10/multiprocessing/process.py\", line 314, in _bootstrap\n",
      "    self.run()\n",
      "  File \"/home/fcaporaso/miniconda3/envs/env_py39/lib/python3.10/multiprocessing/process.py\", line 314, in _bootstrap\n",
      "    self.run()\n",
      "Traceback (most recent call last):\n",
      "  File \"/home/fcaporaso/miniconda3/envs/env_py39/lib/python3.10/multiprocessing/process.py\", line 108, in run\n",
      "    self._target(*self._args, **self._kwargs)\n",
      "  File \"/home/fcaporaso/miniconda3/envs/env_py39/lib/python3.10/multiprocessing/process.py\", line 108, in run\n",
      "    self._target(*self._args, **self._kwargs)\n",
      "Traceback (most recent call last):\n",
      "  File \"/home/fcaporaso/miniconda3/envs/env_py39/lib/python3.10/multiprocessing/process.py\", line 108, in run\n",
      "    self._target(*self._args, **self._kwargs)\n",
      "  File \"/home/fcaporaso/miniconda3/envs/env_py39/lib/python3.10/multiprocessing/process.py\", line 314, in _bootstrap\n",
      "    self.run()\n",
      "  File \"/home/fcaporaso/miniconda3/envs/env_py39/lib/python3.10/multiprocessing/process.py\", line 314, in _bootstrap\n",
      "    self.run()\n",
      "Traceback (most recent call last):\n",
      "Traceback (most recent call last):\n",
      "  File \"/home/fcaporaso/miniconda3/envs/env_py39/lib/python3.10/multiprocessing/process.py\", line 314, in _bootstrap\n",
      "    self.run()\n",
      "  File \"/home/fcaporaso/miniconda3/envs/env_py39/lib/python3.10/multiprocessing/process.py\", line 108, in run\n",
      "    self._target(*self._args, **self._kwargs)\n",
      "  File \"/home/fcaporaso/miniconda3/envs/env_py39/lib/python3.10/multiprocessing/process.py\", line 314, in _bootstrap\n",
      "    self.run()\n",
      "Traceback (most recent call last):\n",
      "  File \"/home/fcaporaso/miniconda3/envs/env_py39/lib/python3.10/multiprocessing/process.py\", line 314, in _bootstrap\n",
      "    self.run()\n",
      "  File \"/home/fcaporaso/miniconda3/envs/env_py39/lib/python3.10/multiprocessing/process.py\", line 108, in run\n",
      "    self._target(*self._args, **self._kwargs)\n",
      "  File \"/home/fcaporaso/miniconda3/envs/env_py39/lib/python3.10/multiprocessing/pool.py\", line 114, in worker\n",
      "    task = get()\n",
      "Traceback (most recent call last):\n",
      "  File \"/home/fcaporaso/miniconda3/envs/env_py39/lib/python3.10/multiprocessing/process.py\", line 314, in _bootstrap\n",
      "    self.run()\n",
      "  File \"/home/fcaporaso/miniconda3/envs/env_py39/lib/python3.10/multiprocessing/pool.py\", line 114, in worker\n",
      "    task = get()\n",
      "  File \"/home/fcaporaso/miniconda3/envs/env_py39/lib/python3.10/multiprocessing/process.py\", line 314, in _bootstrap\n",
      "    self.run()\n",
      "  File \"/home/fcaporaso/miniconda3/envs/env_py39/lib/python3.10/multiprocessing/pool.py\", line 114, in worker\n",
      "    task = get()\n",
      "  File \"/home/fcaporaso/miniconda3/envs/env_py39/lib/python3.10/multiprocessing/process.py\", line 108, in run\n",
      "    self._target(*self._args, **self._kwargs)\n",
      "  File \"/home/fcaporaso/miniconda3/envs/env_py39/lib/python3.10/multiprocessing/process.py\", line 108, in run\n",
      "    self._target(*self._args, **self._kwargs)\n",
      "Traceback (most recent call last):\n",
      "  File \"/home/fcaporaso/miniconda3/envs/env_py39/lib/python3.10/multiprocessing/process.py\", line 108, in run\n",
      "    self._target(*self._args, **self._kwargs)\n",
      "  File \"/home/fcaporaso/miniconda3/envs/env_py39/lib/python3.10/multiprocessing/process.py\", line 314, in _bootstrap\n",
      "    self.run()\n",
      "  File \"/home/fcaporaso/miniconda3/envs/env_py39/lib/python3.10/multiprocessing/pool.py\", line 114, in worker\n",
      "    task = get()\n",
      "  File \"/home/fcaporaso/miniconda3/envs/env_py39/lib/python3.10/multiprocessing/process.py\", line 108, in run\n",
      "    self._target(*self._args, **self._kwargs)\n",
      "  File \"/home/fcaporaso/miniconda3/envs/env_py39/lib/python3.10/multiprocessing/process.py\", line 314, in _bootstrap\n",
      "    self.run()\n",
      "Traceback (most recent call last):\n",
      "Traceback (most recent call last):\n",
      "  File \"/home/fcaporaso/miniconda3/envs/env_py39/lib/python3.10/multiprocessing/pool.py\", line 114, in worker\n",
      "    task = get()\n",
      "  File \"/home/fcaporaso/miniconda3/envs/env_py39/lib/python3.10/multiprocessing/queues.py\", line 364, in get\n",
      "    with self._rlock:\n",
      "Traceback (most recent call last):\n",
      "  File \"/home/fcaporaso/miniconda3/envs/env_py39/lib/python3.10/multiprocessing/process.py\", line 108, in run\n",
      "    self._target(*self._args, **self._kwargs)\n",
      "  File \"/home/fcaporaso/miniconda3/envs/env_py39/lib/python3.10/multiprocessing/process.py\", line 314, in _bootstrap\n",
      "    self.run()\n",
      "Traceback (most recent call last):\n",
      "  File \"/home/fcaporaso/miniconda3/envs/env_py39/lib/python3.10/multiprocessing/process.py\", line 314, in _bootstrap\n",
      "    self.run()\n",
      "  File \"/home/fcaporaso/miniconda3/envs/env_py39/lib/python3.10/multiprocessing/queues.py\", line 364, in get\n",
      "    with self._rlock:\n",
      "  File \"/home/fcaporaso/miniconda3/envs/env_py39/lib/python3.10/multiprocessing/process.py\", line 108, in run\n",
      "    self._target(*self._args, **self._kwargs)\n",
      "Traceback (most recent call last):\n",
      "  File \"/home/fcaporaso/miniconda3/envs/env_py39/lib/python3.10/multiprocessing/process.py\", line 108, in run\n",
      "    self._target(*self._args, **self._kwargs)\n",
      "Traceback (most recent call last):\n",
      "  File \"/home/fcaporaso/miniconda3/envs/env_py39/lib/python3.10/multiprocessing/queues.py\", line 364, in get\n",
      "    with self._rlock:\n",
      "  File \"/home/fcaporaso/miniconda3/envs/env_py39/lib/python3.10/multiprocessing/pool.py\", line 114, in worker\n",
      "    task = get()\n",
      "  File \"/home/fcaporaso/miniconda3/envs/env_py39/lib/python3.10/multiprocessing/pool.py\", line 114, in worker\n",
      "    task = get()\n",
      "  File \"/home/fcaporaso/miniconda3/envs/env_py39/lib/python3.10/multiprocessing/process.py\", line 314, in _bootstrap\n",
      "    self.run()\n",
      "  File \"/home/fcaporaso/miniconda3/envs/env_py39/lib/python3.10/multiprocessing/pool.py\", line 114, in worker\n",
      "    task = get()\n",
      "Traceback (most recent call last):\n",
      "  File \"/home/fcaporaso/miniconda3/envs/env_py39/lib/python3.10/multiprocessing/queues.py\", line 364, in get\n",
      "    with self._rlock:\n",
      "Traceback (most recent call last):\n",
      "  File \"/home/fcaporaso/miniconda3/envs/env_py39/lib/python3.10/multiprocessing/pool.py\", line 114, in worker\n",
      "    task = get()\n",
      "  File \"/home/fcaporaso/miniconda3/envs/env_py39/lib/python3.10/multiprocessing/process.py\", line 108, in run\n",
      "    self._target(*self._args, **self._kwargs)\n",
      "  File \"/home/fcaporaso/miniconda3/envs/env_py39/lib/python3.10/multiprocessing/process.py\", line 108, in run\n",
      "    self._target(*self._args, **self._kwargs)\n",
      "  File \"/home/fcaporaso/miniconda3/envs/env_py39/lib/python3.10/multiprocessing/queues.py\", line 364, in get\n",
      "    with self._rlock:\n",
      "  File \"/home/fcaporaso/miniconda3/envs/env_py39/lib/python3.10/multiprocessing/process.py\", line 314, in _bootstrap\n",
      "    self.run()\n",
      "  File \"/home/fcaporaso/miniconda3/envs/env_py39/lib/python3.10/multiprocessing/process.py\", line 314, in _bootstrap\n",
      "    self.run()\n",
      "  File \"/home/fcaporaso/miniconda3/envs/env_py39/lib/python3.10/multiprocessing/synchronize.py\", line 95, in __enter__\n",
      "    return self._semlock.__enter__()\n",
      "Traceback (most recent call last):\n",
      "Traceback (most recent call last):\n",
      "Traceback (most recent call last):\n",
      "Traceback (most recent call last):\n",
      "  File \"/home/fcaporaso/miniconda3/envs/env_py39/lib/python3.10/multiprocessing/pool.py\", line 114, in worker\n",
      "    task = get()\n",
      "  File \"/home/fcaporaso/miniconda3/envs/env_py39/lib/python3.10/multiprocessing/process.py\", line 108, in run\n",
      "    self._target(*self._args, **self._kwargs)\n",
      "  File \"/home/fcaporaso/miniconda3/envs/env_py39/lib/python3.10/multiprocessing/process.py\", line 314, in _bootstrap\n",
      "    self.run()\n",
      "  File \"/home/fcaporaso/miniconda3/envs/env_py39/lib/python3.10/multiprocessing/process.py\", line 108, in run\n",
      "    self._target(*self._args, **self._kwargs)\n",
      "  File \"/home/fcaporaso/miniconda3/envs/env_py39/lib/python3.10/multiprocessing/synchronize.py\", line 95, in __enter__\n",
      "    return self._semlock.__enter__()\n",
      "  File \"/home/fcaporaso/miniconda3/envs/env_py39/lib/python3.10/multiprocessing/process.py\", line 314, in _bootstrap\n",
      "    self.run()\n",
      "  File \"/home/fcaporaso/miniconda3/envs/env_py39/lib/python3.10/multiprocessing/pool.py\", line 114, in worker\n",
      "    task = get()\n",
      "Traceback (most recent call last):\n",
      "Traceback (most recent call last):\n",
      "  File \"/home/fcaporaso/miniconda3/envs/env_py39/lib/python3.10/multiprocessing/pool.py\", line 114, in worker\n",
      "    task = get()\n",
      "  File \"/home/fcaporaso/miniconda3/envs/env_py39/lib/python3.10/multiprocessing/synchronize.py\", line 95, in __enter__\n",
      "    return self._semlock.__enter__()\n",
      "  File \"/home/fcaporaso/miniconda3/envs/env_py39/lib/python3.10/multiprocessing/queues.py\", line 364, in get\n",
      "    with self._rlock:\n",
      "  File \"/home/fcaporaso/miniconda3/envs/env_py39/lib/python3.10/multiprocessing/process.py\", line 108, in run\n",
      "    self._target(*self._args, **self._kwargs)\n",
      "  File \"/home/fcaporaso/miniconda3/envs/env_py39/lib/python3.10/multiprocessing/queues.py\", line 364, in get\n",
      "    with self._rlock:\n",
      "  File \"/home/fcaporaso/miniconda3/envs/env_py39/lib/python3.10/multiprocessing/process.py\", line 314, in _bootstrap\n",
      "    self.run()\n",
      "  File \"/home/fcaporaso/miniconda3/envs/env_py39/lib/python3.10/multiprocessing/process.py\", line 314, in _bootstrap\n",
      "    self.run()\n",
      "  File \"/home/fcaporaso/miniconda3/envs/env_py39/lib/python3.10/multiprocessing/queues.py\", line 364, in get\n",
      "    with self._rlock:\n",
      "  File \"/home/fcaporaso/miniconda3/envs/env_py39/lib/python3.10/multiprocessing/synchronize.py\", line 95, in __enter__\n",
      "    return self._semlock.__enter__()\n",
      "Traceback (most recent call last):\n",
      "Traceback (most recent call last):\n",
      "Traceback (most recent call last):\n",
      "Traceback (most recent call last):\n",
      "  File \"/home/fcaporaso/miniconda3/envs/env_py39/lib/python3.10/multiprocessing/process.py\", line 314, in _bootstrap\n",
      "    self.run()\n",
      "  File \"/home/fcaporaso/miniconda3/envs/env_py39/lib/python3.10/multiprocessing/queues.py\", line 364, in get\n",
      "    with self._rlock:\n",
      "  File \"/home/fcaporaso/miniconda3/envs/env_py39/lib/python3.10/multiprocessing/synchronize.py\", line 95, in __enter__\n",
      "    return self._semlock.__enter__()\n",
      "  File \"/home/fcaporaso/miniconda3/envs/env_py39/lib/python3.10/multiprocessing/pool.py\", line 114, in worker\n",
      "    task = get()\n",
      "Traceback (most recent call last):\n",
      "  File \"/home/fcaporaso/miniconda3/envs/env_py39/lib/python3.10/multiprocessing/pool.py\", line 114, in worker\n",
      "    task = get()\n",
      "  File \"/home/fcaporaso/miniconda3/envs/env_py39/lib/python3.10/multiprocessing/process.py\", line 108, in run\n",
      "    self._target(*self._args, **self._kwargs)\n",
      "KeyboardInterrupt\n",
      "  File \"/home/fcaporaso/miniconda3/envs/env_py39/lib/python3.10/multiprocessing/process.py\", line 108, in run\n",
      "    self._target(*self._args, **self._kwargs)\n",
      "  File \"/home/fcaporaso/miniconda3/envs/env_py39/lib/python3.10/multiprocessing/process.py\", line 314, in _bootstrap\n",
      "    self.run()\n",
      "Traceback (most recent call last):\n",
      "Traceback (most recent call last):\n",
      "  File \"/home/fcaporaso/miniconda3/envs/env_py39/lib/python3.10/multiprocessing/process.py\", line 314, in _bootstrap\n",
      "    self.run()\n",
      "  File \"/home/fcaporaso/miniconda3/envs/env_py39/lib/python3.10/multiprocessing/queues.py\", line 364, in get\n",
      "    with self._rlock:\n",
      "  File \"/home/fcaporaso/miniconda3/envs/env_py39/lib/python3.10/multiprocessing/process.py\", line 314, in _bootstrap\n",
      "    self.run()\n",
      "Traceback (most recent call last):\n",
      "  File \"/home/fcaporaso/miniconda3/envs/env_py39/lib/python3.10/multiprocessing/process.py\", line 314, in _bootstrap\n",
      "    self.run()\n",
      "Traceback (most recent call last):\n",
      "  File \"/home/fcaporaso/miniconda3/envs/env_py39/lib/python3.10/multiprocessing/pool.py\", line 114, in worker\n",
      "    task = get()\n",
      "  File \"/home/fcaporaso/miniconda3/envs/env_py39/lib/python3.10/multiprocessing/process.py\", line 314, in _bootstrap\n",
      "    self.run()\n",
      "KeyboardInterrupt\n",
      "Traceback (most recent call last):\n",
      "  File \"/home/fcaporaso/miniconda3/envs/env_py39/lib/python3.10/multiprocessing/pool.py\", line 114, in worker\n",
      "    task = get()\n",
      "  File \"/home/fcaporaso/miniconda3/envs/env_py39/lib/python3.10/multiprocessing/process.py\", line 108, in run\n",
      "    self._target(*self._args, **self._kwargs)\n",
      "Traceback (most recent call last):\n",
      "  File \"/home/fcaporaso/miniconda3/envs/env_py39/lib/python3.10/multiprocessing/process.py\", line 108, in run\n",
      "    self._target(*self._args, **self._kwargs)\n",
      "  File \"/home/fcaporaso/miniconda3/envs/env_py39/lib/python3.10/multiprocessing/queues.py\", line 364, in get\n",
      "    with self._rlock:\n",
      "  File \"/home/fcaporaso/miniconda3/envs/env_py39/lib/python3.10/multiprocessing/process.py\", line 314, in _bootstrap\n",
      "    self.run()\n",
      "KeyboardInterrupt\n",
      "  File \"/home/fcaporaso/miniconda3/envs/env_py39/lib/python3.10/multiprocessing/process.py\", line 314, in _bootstrap\n",
      "    self.run()\n",
      "Traceback (most recent call last):\n",
      "  File \"/home/fcaporaso/miniconda3/envs/env_py39/lib/python3.10/multiprocessing/queues.py\", line 364, in get\n",
      "    with self._rlock:\n",
      "  File \"/home/fcaporaso/miniconda3/envs/env_py39/lib/python3.10/multiprocessing/synchronize.py\", line 95, in __enter__\n",
      "    return self._semlock.__enter__()\n",
      "Traceback (most recent call last):\n",
      "Traceback (most recent call last):\n",
      "  File \"/home/fcaporaso/miniconda3/envs/env_py39/lib/python3.10/multiprocessing/pool.py\", line 114, in worker\n",
      "    task = get()\n",
      "  File \"/home/fcaporaso/miniconda3/envs/env_py39/lib/python3.10/multiprocessing/process.py\", line 108, in run\n",
      "    self._target(*self._args, **self._kwargs)\n",
      "  File \"/home/fcaporaso/miniconda3/envs/env_py39/lib/python3.10/multiprocessing/synchronize.py\", line 95, in __enter__\n",
      "    return self._semlock.__enter__()\n",
      "  File \"/home/fcaporaso/miniconda3/envs/env_py39/lib/python3.10/multiprocessing/process.py\", line 108, in run\n",
      "    self._target(*self._args, **self._kwargs)\n",
      "  File \"/home/fcaporaso/miniconda3/envs/env_py39/lib/python3.10/multiprocessing/synchronize.py\", line 95, in __enter__\n",
      "    return self._semlock.__enter__()\n",
      "Traceback (most recent call last):\n",
      "KeyboardInterrupt\n",
      "  File \"/home/fcaporaso/miniconda3/envs/env_py39/lib/python3.10/multiprocessing/process.py\", line 314, in _bootstrap\n",
      "    self.run()\n",
      "  File \"/home/fcaporaso/miniconda3/envs/env_py39/lib/python3.10/multiprocessing/process.py\", line 314, in _bootstrap\n",
      "    self.run()\n",
      "Traceback (most recent call last):\n",
      "  File \"/home/fcaporaso/miniconda3/envs/env_py39/lib/python3.10/multiprocessing/process.py\", line 108, in run\n",
      "    self._target(*self._args, **self._kwargs)\n",
      "  File \"/home/fcaporaso/miniconda3/envs/env_py39/lib/python3.10/multiprocessing/synchronize.py\", line 95, in __enter__\n",
      "    return self._semlock.__enter__()\n",
      "  File \"/home/fcaporaso/miniconda3/envs/env_py39/lib/python3.10/multiprocessing/process.py\", line 314, in _bootstrap\n",
      "    self.run()\n",
      "KeyboardInterrupt\n",
      "  File \"/home/fcaporaso/miniconda3/envs/env_py39/lib/python3.10/multiprocessing/process.py\", line 314, in _bootstrap\n",
      "    self.run()\n",
      "  File \"/home/fcaporaso/miniconda3/envs/env_py39/lib/python3.10/multiprocessing/process.py\", line 314, in _bootstrap\n",
      "    self.run()\n",
      "  File \"/home/fcaporaso/miniconda3/envs/env_py39/lib/python3.10/multiprocessing/pool.py\", line 114, in worker\n",
      "    task = get()\n",
      "  File \"/home/fcaporaso/miniconda3/envs/env_py39/lib/python3.10/multiprocessing/queues.py\", line 364, in get\n",
      "    with self._rlock:\n",
      "  File \"/home/fcaporaso/miniconda3/envs/env_py39/lib/python3.10/multiprocessing/pool.py\", line 114, in worker\n",
      "    task = get()\n",
      "  File \"/home/fcaporaso/miniconda3/envs/env_py39/lib/python3.10/multiprocessing/process.py\", line 108, in run\n",
      "    self._target(*self._args, **self._kwargs)\n",
      "  File \"/home/fcaporaso/miniconda3/envs/env_py39/lib/python3.10/multiprocessing/queues.py\", line 364, in get\n",
      "    with self._rlock:\n",
      "  File \"/home/fcaporaso/miniconda3/envs/env_py39/lib/python3.10/multiprocessing/process.py\", line 314, in _bootstrap\n",
      "    self.run()\n",
      "  File \"/home/fcaporaso/miniconda3/envs/env_py39/lib/python3.10/multiprocessing/process.py\", line 108, in run\n",
      "    self._target(*self._args, **self._kwargs)\n",
      "  File \"/home/fcaporaso/miniconda3/envs/env_py39/lib/python3.10/multiprocessing/process.py\", line 314, in _bootstrap\n",
      "    self.run()\n",
      "Traceback (most recent call last):\n",
      "  File \"/home/fcaporaso/miniconda3/envs/env_py39/lib/python3.10/multiprocessing/process.py\", line 108, in run\n",
      "    self._target(*self._args, **self._kwargs)\n",
      "  File \"/home/fcaporaso/miniconda3/envs/env_py39/lib/python3.10/multiprocessing/process.py\", line 108, in run\n",
      "    self._target(*self._args, **self._kwargs)\n",
      "  File \"/home/fcaporaso/miniconda3/envs/env_py39/lib/python3.10/multiprocessing/process.py\", line 314, in _bootstrap\n",
      "    self.run()\n",
      "  File \"/home/fcaporaso/miniconda3/envs/env_py39/lib/python3.10/multiprocessing/process.py\", line 314, in _bootstrap\n",
      "    self.run()\n",
      "  File \"/home/fcaporaso/miniconda3/envs/env_py39/lib/python3.10/multiprocessing/synchronize.py\", line 95, in __enter__\n",
      "    return self._semlock.__enter__()\n",
      "  File \"/home/fcaporaso/miniconda3/envs/env_py39/lib/python3.10/multiprocessing/process.py\", line 108, in run\n",
      "    self._target(*self._args, **self._kwargs)\n",
      "Traceback (most recent call last):\n",
      "  File \"/home/fcaporaso/miniconda3/envs/env_py39/lib/python3.10/multiprocessing/process.py\", line 314, in _bootstrap\n",
      "    self.run()\n",
      "  File \"/home/fcaporaso/miniconda3/envs/env_py39/lib/python3.10/multiprocessing/queues.py\", line 364, in get\n",
      "    with self._rlock:\n",
      "  File \"/home/fcaporaso/miniconda3/envs/env_py39/lib/python3.10/multiprocessing/pool.py\", line 114, in worker\n",
      "    task = get()\n",
      "Traceback (most recent call last):\n",
      "  File \"/home/fcaporaso/miniconda3/envs/env_py39/lib/python3.10/multiprocessing/process.py\", line 314, in _bootstrap\n",
      "    self.run()\n",
      "  File \"/home/fcaporaso/miniconda3/envs/env_py39/lib/python3.10/multiprocessing/queues.py\", line 364, in get\n",
      "    with self._rlock:\n",
      "Traceback (most recent call last):\n",
      "  File \"/home/fcaporaso/miniconda3/envs/env_py39/lib/python3.10/multiprocessing/process.py\", line 108, in run\n",
      "    self._target(*self._args, **self._kwargs)\n",
      "  File \"/home/fcaporaso/miniconda3/envs/env_py39/lib/python3.10/multiprocessing/pool.py\", line 114, in worker\n",
      "    task = get()\n",
      "  File \"/home/fcaporaso/miniconda3/envs/env_py39/lib/python3.10/multiprocessing/synchronize.py\", line 95, in __enter__\n",
      "    return self._semlock.__enter__()\n",
      "  File \"/home/fcaporaso/miniconda3/envs/env_py39/lib/python3.10/multiprocessing/synchronize.py\", line 95, in __enter__\n",
      "    return self._semlock.__enter__()\n",
      "  File \"/home/fcaporaso/miniconda3/envs/env_py39/lib/python3.10/multiprocessing/process.py\", line 108, in run\n",
      "    self._target(*self._args, **self._kwargs)\n",
      "  File \"/home/fcaporaso/miniconda3/envs/env_py39/lib/python3.10/multiprocessing/process.py\", line 314, in _bootstrap\n",
      "    self.run()\n",
      "Traceback (most recent call last):\n",
      "KeyboardInterrupt\n",
      "  File \"/home/fcaporaso/miniconda3/envs/env_py39/lib/python3.10/multiprocessing/queues.py\", line 364, in get\n",
      "    with self._rlock:\n",
      "  File \"/home/fcaporaso/miniconda3/envs/env_py39/lib/python3.10/multiprocessing/process.py\", line 314, in _bootstrap\n",
      "    self.run()\n",
      "  File \"/home/fcaporaso/miniconda3/envs/env_py39/lib/python3.10/multiprocessing/pool.py\", line 114, in worker\n",
      "    task = get()\n",
      "Traceback (most recent call last):\n",
      "  File \"/home/fcaporaso/miniconda3/envs/env_py39/lib/python3.10/multiprocessing/pool.py\", line 114, in worker\n",
      "    task = get()\n",
      "KeyboardInterrupt\n",
      "Traceback (most recent call last):\n",
      "Traceback (most recent call last):\n",
      "  File \"/home/fcaporaso/miniconda3/envs/env_py39/lib/python3.10/multiprocessing/process.py\", line 108, in run\n",
      "    self._target(*self._args, **self._kwargs)\n",
      "  File \"/home/fcaporaso/miniconda3/envs/env_py39/lib/python3.10/multiprocessing/process.py\", line 108, in run\n",
      "    self._target(*self._args, **self._kwargs)\n",
      "Traceback (most recent call last):\n",
      "  File \"/home/fcaporaso/miniconda3/envs/env_py39/lib/python3.10/multiprocessing/pool.py\", line 114, in worker\n",
      "    task = get()\n",
      "  File \"/home/fcaporaso/miniconda3/envs/env_py39/lib/python3.10/multiprocessing/process.py\", line 314, in _bootstrap\n",
      "    self.run()\n",
      "  File \"/home/fcaporaso/miniconda3/envs/env_py39/lib/python3.10/multiprocessing/process.py\", line 314, in _bootstrap\n",
      "    self.run()\n",
      "KeyboardInterrupt\n",
      "Traceback (most recent call last):\n",
      "Traceback (most recent call last):\n",
      "Traceback (most recent call last):\n",
      "  File \"/home/fcaporaso/miniconda3/envs/env_py39/lib/python3.10/multiprocessing/queues.py\", line 364, in get\n",
      "    with self._rlock:\n",
      "Traceback (most recent call last):\n",
      "  File \"/home/fcaporaso/miniconda3/envs/env_py39/lib/python3.10/multiprocessing/process.py\", line 108, in run\n",
      "    self._target(*self._args, **self._kwargs)\n",
      "Traceback (most recent call last):\n",
      "  File \"/home/fcaporaso/miniconda3/envs/env_py39/lib/python3.10/multiprocessing/process.py\", line 108, in run\n",
      "    self._target(*self._args, **self._kwargs)\n",
      "  File \"/home/fcaporaso/miniconda3/envs/env_py39/lib/python3.10/multiprocessing/pool.py\", line 114, in worker\n",
      "    task = get()\n",
      "Traceback (most recent call last):\n",
      "  File \"/home/fcaporaso/miniconda3/envs/env_py39/lib/python3.10/multiprocessing/synchronize.py\", line 95, in __enter__\n",
      "    return self._semlock.__enter__()\n",
      "  File \"/home/fcaporaso/miniconda3/envs/env_py39/lib/python3.10/multiprocessing/queues.py\", line 364, in get\n",
      "    with self._rlock:\n",
      "  File \"/home/fcaporaso/miniconda3/envs/env_py39/lib/python3.10/multiprocessing/process.py\", line 108, in run\n",
      "    self._target(*self._args, **self._kwargs)\n",
      "KeyboardInterrupt\n",
      "  File \"/home/fcaporaso/miniconda3/envs/env_py39/lib/python3.10/multiprocessing/pool.py\", line 114, in worker\n",
      "    task = get()\n",
      "  File \"/home/fcaporaso/miniconda3/envs/env_py39/lib/python3.10/multiprocessing/process.py\", line 314, in _bootstrap\n",
      "    self.run()\n",
      "  File \"/home/fcaporaso/miniconda3/envs/env_py39/lib/python3.10/multiprocessing/pool.py\", line 114, in worker\n",
      "    task = get()\n",
      "  File \"/home/fcaporaso/miniconda3/envs/env_py39/lib/python3.10/multiprocessing/process.py\", line 108, in run\n",
      "    self._target(*self._args, **self._kwargs)\n",
      "Traceback (most recent call last):\n",
      "  File \"/home/fcaporaso/miniconda3/envs/env_py39/lib/python3.10/multiprocessing/process.py\", line 314, in _bootstrap\n",
      "    self.run()\n",
      "Traceback (most recent call last):\n",
      "Traceback (most recent call last):\n",
      "Traceback (most recent call last):\n",
      "  File \"/home/fcaporaso/miniconda3/envs/env_py39/lib/python3.10/multiprocessing/process.py\", line 108, in run\n",
      "    self._target(*self._args, **self._kwargs)\n",
      "Traceback (most recent call last):\n",
      "Traceback (most recent call last):\n",
      "  File \"/home/fcaporaso/miniconda3/envs/env_py39/lib/python3.10/multiprocessing/process.py\", line 108, in run\n",
      "    self._target(*self._args, **self._kwargs)\n",
      "  File \"/home/fcaporaso/miniconda3/envs/env_py39/lib/python3.10/multiprocessing/pool.py\", line 114, in worker\n",
      "    task = get()\n",
      "Traceback (most recent call last):\n",
      "Traceback (most recent call last):\n",
      "  File \"/home/fcaporaso/miniconda3/envs/env_py39/lib/python3.10/multiprocessing/process.py\", line 314, in _bootstrap\n",
      "    self.run()\n",
      "Traceback (most recent call last):\n",
      "  File \"/home/fcaporaso/miniconda3/envs/env_py39/lib/python3.10/multiprocessing/process.py\", line 108, in run\n",
      "    self._target(*self._args, **self._kwargs)\n",
      "  File \"/home/fcaporaso/miniconda3/envs/env_py39/lib/python3.10/multiprocessing/pool.py\", line 114, in worker\n",
      "    task = get()\n",
      "KeyboardInterrupt\n",
      "  File \"/home/fcaporaso/miniconda3/envs/env_py39/lib/python3.10/multiprocessing/synchronize.py\", line 95, in __enter__\n",
      "    return self._semlock.__enter__()\n",
      "Traceback (most recent call last):\n",
      "  File \"/home/fcaporaso/miniconda3/envs/env_py39/lib/python3.10/multiprocessing/synchronize.py\", line 95, in __enter__\n",
      "    return self._semlock.__enter__()\n",
      "  File \"/home/fcaporaso/miniconda3/envs/env_py39/lib/python3.10/multiprocessing/process.py\", line 314, in _bootstrap\n",
      "    self.run()\n",
      "Traceback (most recent call last):\n",
      "  File \"/home/fcaporaso/miniconda3/envs/env_py39/lib/python3.10/multiprocessing/process.py\", line 108, in run\n",
      "    self._target(*self._args, **self._kwargs)\n",
      "Traceback (most recent call last):\n",
      "  File \"/home/fcaporaso/miniconda3/envs/env_py39/lib/python3.10/multiprocessing/process.py\", line 108, in run\n",
      "    self._target(*self._args, **self._kwargs)\n",
      "Traceback (most recent call last):\n",
      "  File \"/home/fcaporaso/miniconda3/envs/env_py39/lib/python3.10/multiprocessing/pool.py\", line 114, in worker\n",
      "    task = get()\n",
      "  File \"/home/fcaporaso/miniconda3/envs/env_py39/lib/python3.10/multiprocessing/queues.py\", line 364, in get\n",
      "    with self._rlock:\n",
      "Traceback (most recent call last):\n",
      "  File \"/home/fcaporaso/miniconda3/envs/env_py39/lib/python3.10/multiprocessing/process.py\", line 314, in _bootstrap\n",
      "    self.run()\n",
      "  File \"/home/fcaporaso/miniconda3/envs/env_py39/lib/python3.10/multiprocessing/queues.py\", line 364, in get\n",
      "    with self._rlock:\n",
      "  File \"/home/fcaporaso/miniconda3/envs/env_py39/lib/python3.10/multiprocessing/process.py\", line 108, in run\n",
      "    self._target(*self._args, **self._kwargs)\n",
      "  File \"/home/fcaporaso/miniconda3/envs/env_py39/lib/python3.10/multiprocessing/pool.py\", line 114, in worker\n",
      "    task = get()\n",
      "  File \"/home/fcaporaso/miniconda3/envs/env_py39/lib/python3.10/multiprocessing/process.py\", line 314, in _bootstrap\n",
      "    self.run()\n",
      "KeyboardInterrupt\n",
      "  File \"/home/fcaporaso/miniconda3/envs/env_py39/lib/python3.10/multiprocessing/synchronize.py\", line 95, in __enter__\n",
      "    return self._semlock.__enter__()\n",
      "Traceback (most recent call last):\n",
      "  File \"/home/fcaporaso/miniconda3/envs/env_py39/lib/python3.10/multiprocessing/queues.py\", line 364, in get\n",
      "    with self._rlock:\n",
      "Traceback (most recent call last):\n",
      "  File \"/home/fcaporaso/miniconda3/envs/env_py39/lib/python3.10/multiprocessing/process.py\", line 314, in _bootstrap\n",
      "    self.run()\n",
      "  File \"/home/fcaporaso/miniconda3/envs/env_py39/lib/python3.10/multiprocessing/synchronize.py\", line 95, in __enter__\n",
      "    return self._semlock.__enter__()\n",
      "  File \"/home/fcaporaso/miniconda3/envs/env_py39/lib/python3.10/multiprocessing/queues.py\", line 364, in get\n",
      "    with self._rlock:\n",
      "Traceback (most recent call last):\n",
      "  File \"/home/fcaporaso/miniconda3/envs/env_py39/lib/python3.10/multiprocessing/process.py\", line 108, in run\n",
      "    self._target(*self._args, **self._kwargs)\n",
      "Traceback (most recent call last):\n",
      "Traceback (most recent call last):\n",
      "  File \"/home/fcaporaso/miniconda3/envs/env_py39/lib/python3.10/multiprocessing/pool.py\", line 114, in worker\n",
      "    task = get()\n",
      "  File \"/home/fcaporaso/miniconda3/envs/env_py39/lib/python3.10/multiprocessing/pool.py\", line 114, in worker\n",
      "    task = get()\n",
      "Traceback (most recent call last):\n",
      "Traceback (most recent call last):\n",
      "  File \"/home/fcaporaso/miniconda3/envs/env_py39/lib/python3.10/multiprocessing/queues.py\", line 364, in get\n",
      "    with self._rlock:\n",
      "Traceback (most recent call last):\n",
      "  File \"/home/fcaporaso/miniconda3/envs/env_py39/lib/python3.10/multiprocessing/process.py\", line 314, in _bootstrap\n",
      "    self.run()\n",
      "Traceback (most recent call last):\n",
      "Traceback (most recent call last):\n",
      "  File \"/home/fcaporaso/miniconda3/envs/env_py39/lib/python3.10/multiprocessing/process.py\", line 108, in run\n",
      "    self._target(*self._args, **self._kwargs)\n",
      "  File \"/home/fcaporaso/miniconda3/envs/env_py39/lib/python3.10/multiprocessing/process.py\", line 314, in _bootstrap\n",
      "    self.run()\n",
      "  File \"/home/fcaporaso/miniconda3/envs/env_py39/lib/python3.10/multiprocessing/process.py\", line 108, in run\n",
      "    self._target(*self._args, **self._kwargs)\n",
      "KeyboardInterrupt\n",
      "Traceback (most recent call last):\n",
      "Traceback (most recent call last):\n",
      "Traceback (most recent call last):\n",
      "Traceback (most recent call last):\n",
      "  File \"/home/fcaporaso/miniconda3/envs/env_py39/lib/python3.10/multiprocessing/process.py\", line 314, in _bootstrap\n",
      "    self.run()\n",
      "  File \"/home/fcaporaso/miniconda3/envs/env_py39/lib/python3.10/multiprocessing/process.py\", line 314, in _bootstrap\n",
      "    self.run()\n",
      "  File \"/home/fcaporaso/miniconda3/envs/env_py39/lib/python3.10/multiprocessing/process.py\", line 314, in _bootstrap\n",
      "    self.run()\n",
      "  File \"/home/fcaporaso/miniconda3/envs/env_py39/lib/python3.10/multiprocessing/process.py\", line 314, in _bootstrap\n",
      "    self.run()\n",
      "  File \"/home/fcaporaso/miniconda3/envs/env_py39/lib/python3.10/multiprocessing/process.py\", line 314, in _bootstrap\n",
      "    self.run()\n",
      "  File \"/home/fcaporaso/miniconda3/envs/env_py39/lib/python3.10/multiprocessing/process.py\", line 314, in _bootstrap\n",
      "    self.run()\n",
      "Traceback (most recent call last):\n",
      "  File \"/home/fcaporaso/miniconda3/envs/env_py39/lib/python3.10/multiprocessing/pool.py\", line 114, in worker\n",
      "    task = get()\n",
      "  File \"/home/fcaporaso/miniconda3/envs/env_py39/lib/python3.10/multiprocessing/queues.py\", line 364, in get\n",
      "    with self._rlock:\n",
      "Traceback (most recent call last):\n",
      "KeyboardInterrupt\n",
      "  File \"/home/fcaporaso/miniconda3/envs/env_py39/lib/python3.10/multiprocessing/pool.py\", line 114, in worker\n",
      "    task = get()\n",
      "  File \"/home/fcaporaso/miniconda3/envs/env_py39/lib/python3.10/multiprocessing/pool.py\", line 114, in worker\n",
      "    task = get()\n",
      "  File \"/home/fcaporaso/miniconda3/envs/env_py39/lib/python3.10/multiprocessing/process.py\", line 314, in _bootstrap\n",
      "    self.run()\n",
      "  File \"/home/fcaporaso/miniconda3/envs/env_py39/lib/python3.10/multiprocessing/queues.py\", line 364, in get\n",
      "    with self._rlock:\n",
      "Traceback (most recent call last):\n",
      "Traceback (most recent call last):\n",
      "  File \"/home/fcaporaso/miniconda3/envs/env_py39/lib/python3.10/multiprocessing/queues.py\", line 364, in get\n",
      "    with self._rlock:\n",
      "  File \"/home/fcaporaso/miniconda3/envs/env_py39/lib/python3.10/multiprocessing/synchronize.py\", line 95, in __enter__\n",
      "    return self._semlock.__enter__()\n",
      "  File \"/home/fcaporaso/miniconda3/envs/env_py39/lib/python3.10/multiprocessing/synchronize.py\", line 95, in __enter__\n",
      "    return self._semlock.__enter__()\n",
      "  File \"/home/fcaporaso/miniconda3/envs/env_py39/lib/python3.10/multiprocessing/process.py\", line 314, in _bootstrap\n",
      "    self.run()\n",
      "  File \"/home/fcaporaso/miniconda3/envs/env_py39/lib/python3.10/multiprocessing/process.py\", line 108, in run\n",
      "    self._target(*self._args, **self._kwargs)\n",
      "  File \"/home/fcaporaso/miniconda3/envs/env_py39/lib/python3.10/multiprocessing/pool.py\", line 114, in worker\n",
      "    task = get()\n",
      "Traceback (most recent call last):\n",
      "  File \"/home/fcaporaso/miniconda3/envs/env_py39/lib/python3.10/multiprocessing/process.py\", line 314, in _bootstrap\n",
      "    self.run()\n",
      "  File \"/home/fcaporaso/miniconda3/envs/env_py39/lib/python3.10/multiprocessing/process.py\", line 108, in run\n",
      "    self._target(*self._args, **self._kwargs)\n",
      "  File \"/home/fcaporaso/miniconda3/envs/env_py39/lib/python3.10/multiprocessing/process.py\", line 314, in _bootstrap\n",
      "    self.run()\n",
      "  File \"/home/fcaporaso/miniconda3/envs/env_py39/lib/python3.10/multiprocessing/pool.py\", line 114, in worker\n",
      "    task = get()\n",
      "  File \"/home/fcaporaso/miniconda3/envs/env_py39/lib/python3.10/multiprocessing/process.py\", line 314, in _bootstrap\n",
      "    self.run()\n",
      "  File \"/home/fcaporaso/miniconda3/envs/env_py39/lib/python3.10/multiprocessing/pool.py\", line 114, in worker\n",
      "    task = get()\n",
      "  File \"/home/fcaporaso/miniconda3/envs/env_py39/lib/python3.10/multiprocessing/process.py\", line 314, in _bootstrap\n",
      "    self.run()\n",
      "  File \"/home/fcaporaso/miniconda3/envs/env_py39/lib/python3.10/multiprocessing/queues.py\", line 364, in get\n",
      "    with self._rlock:\n",
      "  File \"/home/fcaporaso/miniconda3/envs/env_py39/lib/python3.10/multiprocessing/process.py\", line 314, in _bootstrap\n",
      "    self.run()\n",
      "  File \"/home/fcaporaso/miniconda3/envs/env_py39/lib/python3.10/multiprocessing/process.py\", line 314, in _bootstrap\n",
      "    self.run()\n",
      "  File \"/home/fcaporaso/miniconda3/envs/env_py39/lib/python3.10/multiprocessing/process.py\", line 314, in _bootstrap\n",
      "    self.run()\n",
      "  File \"/home/fcaporaso/miniconda3/envs/env_py39/lib/python3.10/multiprocessing/process.py\", line 108, in run\n",
      "    self._target(*self._args, **self._kwargs)\n",
      "  File \"/home/fcaporaso/miniconda3/envs/env_py39/lib/python3.10/multiprocessing/pool.py\", line 114, in worker\n",
      "    task = get()\n",
      "  File \"/home/fcaporaso/miniconda3/envs/env_py39/lib/python3.10/multiprocessing/process.py\", line 314, in _bootstrap\n",
      "    self.run()\n",
      "  File \"/home/fcaporaso/miniconda3/envs/env_py39/lib/python3.10/multiprocessing/queues.py\", line 364, in get\n",
      "    with self._rlock:\n",
      "  File \"/home/fcaporaso/miniconda3/envs/env_py39/lib/python3.10/multiprocessing/process.py\", line 108, in run\n",
      "    self._target(*self._args, **self._kwargs)\n",
      "KeyboardInterrupt\n",
      "  File \"/home/fcaporaso/miniconda3/envs/env_py39/lib/python3.10/multiprocessing/process.py\", line 314, in _bootstrap\n",
      "    self.run()\n",
      "  File \"/home/fcaporaso/miniconda3/envs/env_py39/lib/python3.10/multiprocessing/process.py\", line 314, in _bootstrap\n",
      "    self.run()\n",
      "  File \"/home/fcaporaso/miniconda3/envs/env_py39/lib/python3.10/multiprocessing/queues.py\", line 364, in get\n",
      "    with self._rlock:\n",
      "  File \"/home/fcaporaso/miniconda3/envs/env_py39/lib/python3.10/multiprocessing/pool.py\", line 114, in worker\n",
      "    task = get()\n",
      "  File \"/home/fcaporaso/miniconda3/envs/env_py39/lib/python3.10/multiprocessing/process.py\", line 314, in _bootstrap\n",
      "    self.run()\n",
      "  File \"/home/fcaporaso/miniconda3/envs/env_py39/lib/python3.10/multiprocessing/pool.py\", line 114, in worker\n",
      "    task = get()\n",
      "KeyboardInterrupt\n",
      "  File \"/home/fcaporaso/miniconda3/envs/env_py39/lib/python3.10/multiprocessing/process.py\", line 314, in _bootstrap\n",
      "    self.run()\n",
      "  File \"/home/fcaporaso/miniconda3/envs/env_py39/lib/python3.10/multiprocessing/process.py\", line 108, in run\n",
      "    self._target(*self._args, **self._kwargs)\n",
      "  File \"/home/fcaporaso/miniconda3/envs/env_py39/lib/python3.10/multiprocessing/synchronize.py\", line 95, in __enter__\n",
      "    return self._semlock.__enter__()\n",
      "  File \"/home/fcaporaso/miniconda3/envs/env_py39/lib/python3.10/multiprocessing/synchronize.py\", line 95, in __enter__\n",
      "    return self._semlock.__enter__()\n",
      "  File \"/home/fcaporaso/miniconda3/envs/env_py39/lib/python3.10/multiprocessing/pool.py\", line 114, in worker\n",
      "    task = get()\n",
      "  File \"/home/fcaporaso/miniconda3/envs/env_py39/lib/python3.10/multiprocessing/queues.py\", line 364, in get\n",
      "    with self._rlock:\n",
      "  File \"/home/fcaporaso/miniconda3/envs/env_py39/lib/python3.10/multiprocessing/process.py\", line 108, in run\n",
      "    self._target(*self._args, **self._kwargs)\n",
      "  File \"/home/fcaporaso/miniconda3/envs/env_py39/lib/python3.10/multiprocessing/process.py\", line 314, in _bootstrap\n",
      "    self.run()\n",
      "  File \"/home/fcaporaso/miniconda3/envs/env_py39/lib/python3.10/multiprocessing/synchronize.py\", line 95, in __enter__\n",
      "    return self._semlock.__enter__()\n",
      "KeyboardInterrupt\n",
      "  File \"/home/fcaporaso/miniconda3/envs/env_py39/lib/python3.10/multiprocessing/process.py\", line 108, in run\n",
      "    self._target(*self._args, **self._kwargs)\n",
      "  File \"/home/fcaporaso/miniconda3/envs/env_py39/lib/python3.10/multiprocessing/process.py\", line 314, in _bootstrap\n",
      "    self.run()\n",
      "  File \"/home/fcaporaso/miniconda3/envs/env_py39/lib/python3.10/multiprocessing/process.py\", line 314, in _bootstrap\n",
      "    self.run()\n",
      "  File \"/home/fcaporaso/miniconda3/envs/env_py39/lib/python3.10/multiprocessing/synchronize.py\", line 95, in __enter__\n",
      "    return self._semlock.__enter__()\n",
      "KeyboardInterrupt\n",
      "  File \"/home/fcaporaso/miniconda3/envs/env_py39/lib/python3.10/multiprocessing/process.py\", line 314, in _bootstrap\n",
      "    self.run()\n",
      "  File \"/home/fcaporaso/miniconda3/envs/env_py39/lib/python3.10/multiprocessing/pool.py\", line 114, in worker\n",
      "    task = get()\n",
      "  File \"/home/fcaporaso/miniconda3/envs/env_py39/lib/python3.10/multiprocessing/queues.py\", line 364, in get\n",
      "    with self._rlock:\n",
      "  File \"/home/fcaporaso/miniconda3/envs/env_py39/lib/python3.10/multiprocessing/process.py\", line 314, in _bootstrap\n",
      "    self.run()\n",
      "  File \"/home/fcaporaso/miniconda3/envs/env_py39/lib/python3.10/multiprocessing/process.py\", line 314, in _bootstrap\n",
      "    self.run()\n",
      "  File \"/home/fcaporaso/miniconda3/envs/env_py39/lib/python3.10/multiprocessing/queues.py\", line 364, in get\n",
      "    with self._rlock:\n",
      "  File \"/home/fcaporaso/miniconda3/envs/env_py39/lib/python3.10/multiprocessing/process.py\", line 314, in _bootstrap\n",
      "    self.run()\n",
      "  File \"/home/fcaporaso/miniconda3/envs/env_py39/lib/python3.10/multiprocessing/synchronize.py\", line 95, in __enter__\n",
      "    return self._semlock.__enter__()\n",
      "  File \"/home/fcaporaso/miniconda3/envs/env_py39/lib/python3.10/multiprocessing/process.py\", line 314, in _bootstrap\n",
      "    self.run()\n",
      "  File \"/home/fcaporaso/miniconda3/envs/env_py39/lib/python3.10/multiprocessing/process.py\", line 314, in _bootstrap\n",
      "    self.run()\n",
      "  File \"/home/fcaporaso/miniconda3/envs/env_py39/lib/python3.10/multiprocessing/process.py\", line 108, in run\n",
      "    self._target(*self._args, **self._kwargs)\n",
      "  File \"/home/fcaporaso/miniconda3/envs/env_py39/lib/python3.10/multiprocessing/pool.py\", line 114, in worker\n",
      "    task = get()\n",
      "  File \"/home/fcaporaso/miniconda3/envs/env_py39/lib/python3.10/multiprocessing/process.py\", line 314, in _bootstrap\n",
      "    self.run()\n",
      "  File \"/home/fcaporaso/miniconda3/envs/env_py39/lib/python3.10/multiprocessing/pool.py\", line 114, in worker\n",
      "    task = get()\n",
      "  File \"/home/fcaporaso/miniconda3/envs/env_py39/lib/python3.10/multiprocessing/process.py\", line 108, in run\n",
      "    self._target(*self._args, **self._kwargs)\n",
      "  File \"/home/fcaporaso/miniconda3/envs/env_py39/lib/python3.10/multiprocessing/process.py\", line 314, in _bootstrap\n",
      "    self.run()\n",
      "  File \"/home/fcaporaso/miniconda3/envs/env_py39/lib/python3.10/multiprocessing/process.py\", line 314, in _bootstrap\n",
      "    self.run()\n",
      "  File \"/home/fcaporaso/miniconda3/envs/env_py39/lib/python3.10/multiprocessing/process.py\", line 314, in _bootstrap\n",
      "    self.run()\n",
      "  File \"/home/fcaporaso/miniconda3/envs/env_py39/lib/python3.10/multiprocessing/process.py\", line 108, in run\n",
      "    self._target(*self._args, **self._kwargs)\n",
      "  File \"/home/fcaporaso/miniconda3/envs/env_py39/lib/python3.10/multiprocessing/process.py\", line 108, in run\n",
      "    self._target(*self._args, **self._kwargs)\n",
      "  File \"/home/fcaporaso/miniconda3/envs/env_py39/lib/python3.10/multiprocessing/process.py\", line 314, in _bootstrap\n",
      "    self.run()\n",
      "  File \"/home/fcaporaso/miniconda3/envs/env_py39/lib/python3.10/multiprocessing/process.py\", line 108, in run\n",
      "    self._target(*self._args, **self._kwargs)\n",
      "  File \"/home/fcaporaso/miniconda3/envs/env_py39/lib/python3.10/multiprocessing/process.py\", line 314, in _bootstrap\n",
      "    self.run()\n",
      "  File \"/home/fcaporaso/miniconda3/envs/env_py39/lib/python3.10/multiprocessing/process.py\", line 108, in run\n",
      "    self._target(*self._args, **self._kwargs)\n",
      "  File \"/home/fcaporaso/miniconda3/envs/env_py39/lib/python3.10/multiprocessing/process.py\", line 108, in run\n",
      "    self._target(*self._args, **self._kwargs)\n",
      "  File \"/home/fcaporaso/miniconda3/envs/env_py39/lib/python3.10/multiprocessing/process.py\", line 108, in run\n",
      "    self._target(*self._args, **self._kwargs)\n",
      "  File \"/home/fcaporaso/miniconda3/envs/env_py39/lib/python3.10/multiprocessing/synchronize.py\", line 95, in __enter__\n",
      "    return self._semlock.__enter__()\n",
      "  File \"/home/fcaporaso/miniconda3/envs/env_py39/lib/python3.10/multiprocessing/process.py\", line 314, in _bootstrap\n",
      "    self.run()\n",
      "  File \"/home/fcaporaso/miniconda3/envs/env_py39/lib/python3.10/multiprocessing/queues.py\", line 364, in get\n",
      "    with self._rlock:\n",
      "  File \"/home/fcaporaso/miniconda3/envs/env_py39/lib/python3.10/multiprocessing/process.py\", line 314, in _bootstrap\n",
      "    self.run()\n",
      "  File \"/home/fcaporaso/miniconda3/envs/env_py39/lib/python3.10/multiprocessing/queues.py\", line 364, in get\n",
      "    with self._rlock:\n",
      "  File \"/home/fcaporaso/miniconda3/envs/env_py39/lib/python3.10/multiprocessing/synchronize.py\", line 95, in __enter__\n",
      "    return self._semlock.__enter__()\n",
      "  File \"/home/fcaporaso/miniconda3/envs/env_py39/lib/python3.10/multiprocessing/process.py\", line 108, in run\n",
      "    self._target(*self._args, **self._kwargs)\n",
      "  File \"/home/fcaporaso/miniconda3/envs/env_py39/lib/python3.10/multiprocessing/queues.py\", line 364, in get\n",
      "    with self._rlock:\n",
      "  File \"/home/fcaporaso/miniconda3/envs/env_py39/lib/python3.10/multiprocessing/synchronize.py\", line 95, in __enter__\n",
      "    return self._semlock.__enter__()\n",
      "  File \"/home/fcaporaso/miniconda3/envs/env_py39/lib/python3.10/multiprocessing/process.py\", line 108, in run\n",
      "    self._target(*self._args, **self._kwargs)\n",
      "  File \"/home/fcaporaso/miniconda3/envs/env_py39/lib/python3.10/multiprocessing/queues.py\", line 364, in get\n",
      "    with self._rlock:\n",
      "  File \"/home/fcaporaso/miniconda3/envs/env_py39/lib/python3.10/multiprocessing/pool.py\", line 114, in worker\n",
      "    task = get()\n",
      "KeyboardInterrupt\n",
      "  File \"/home/fcaporaso/miniconda3/envs/env_py39/lib/python3.10/multiprocessing/process.py\", line 314, in _bootstrap\n",
      "    self.run()\n",
      "  File \"/home/fcaporaso/miniconda3/envs/env_py39/lib/python3.10/multiprocessing/process.py\", line 108, in run\n",
      "    self._target(*self._args, **self._kwargs)\n",
      "  File \"/home/fcaporaso/miniconda3/envs/env_py39/lib/python3.10/multiprocessing/process.py\", line 108, in run\n",
      "    self._target(*self._args, **self._kwargs)\n",
      "  File \"/home/fcaporaso/miniconda3/envs/env_py39/lib/python3.10/multiprocessing/process.py\", line 108, in run\n",
      "    self._target(*self._args, **self._kwargs)\n",
      "  File \"/home/fcaporaso/miniconda3/envs/env_py39/lib/python3.10/multiprocessing/pool.py\", line 114, in worker\n",
      "    task = get()\n",
      "  File \"/home/fcaporaso/miniconda3/envs/env_py39/lib/python3.10/multiprocessing/queues.py\", line 364, in get\n",
      "    with self._rlock:\n",
      "  File \"/home/fcaporaso/miniconda3/envs/env_py39/lib/python3.10/multiprocessing/process.py\", line 314, in _bootstrap\n",
      "    self.run()\n",
      "  File \"/home/fcaporaso/miniconda3/envs/env_py39/lib/python3.10/multiprocessing/queues.py\", line 364, in get\n",
      "    with self._rlock:\n",
      "  File \"/home/fcaporaso/miniconda3/envs/env_py39/lib/python3.10/multiprocessing/synchronize.py\", line 95, in __enter__\n",
      "    return self._semlock.__enter__()\n",
      "  File \"/home/fcaporaso/miniconda3/envs/env_py39/lib/python3.10/multiprocessing/process.py\", line 314, in _bootstrap\n",
      "    self.run()\n",
      "  File \"/home/fcaporaso/miniconda3/envs/env_py39/lib/python3.10/multiprocessing/process.py\", line 108, in run\n",
      "    self._target(*self._args, **self._kwargs)\n",
      "  File \"/home/fcaporaso/miniconda3/envs/env_py39/lib/python3.10/multiprocessing/process.py\", line 108, in run\n",
      "    self._target(*self._args, **self._kwargs)\n",
      "  File \"/home/fcaporaso/miniconda3/envs/env_py39/lib/python3.10/multiprocessing/process.py\", line 108, in run\n",
      "    self._target(*self._args, **self._kwargs)\n",
      "  File \"/home/fcaporaso/miniconda3/envs/env_py39/lib/python3.10/multiprocessing/pool.py\", line 114, in worker\n",
      "    task = get()\n",
      "  File \"/home/fcaporaso/miniconda3/envs/env_py39/lib/python3.10/multiprocessing/process.py\", line 108, in run\n",
      "    self._target(*self._args, **self._kwargs)\n",
      "  File \"/home/fcaporaso/miniconda3/envs/env_py39/lib/python3.10/multiprocessing/queues.py\", line 364, in get\n",
      "    with self._rlock:\n",
      "  File \"/home/fcaporaso/miniconda3/envs/env_py39/lib/python3.10/multiprocessing/pool.py\", line 114, in worker\n",
      "    task = get()\n",
      "KeyboardInterrupt\n",
      "  File \"/home/fcaporaso/miniconda3/envs/env_py39/lib/python3.10/multiprocessing/process.py\", line 108, in run\n",
      "    self._target(*self._args, **self._kwargs)\n",
      "  File \"/home/fcaporaso/miniconda3/envs/env_py39/lib/python3.10/multiprocessing/synchronize.py\", line 95, in __enter__\n",
      "    return self._semlock.__enter__()\n",
      "  File \"/home/fcaporaso/miniconda3/envs/env_py39/lib/python3.10/multiprocessing/synchronize.py\", line 95, in __enter__\n",
      "    return self._semlock.__enter__()\n",
      "  File \"/home/fcaporaso/miniconda3/envs/env_py39/lib/python3.10/multiprocessing/process.py\", line 108, in run\n",
      "    self._target(*self._args, **self._kwargs)\n",
      "  File \"/home/fcaporaso/miniconda3/envs/env_py39/lib/python3.10/multiprocessing/queues.py\", line 364, in get\n",
      "    with self._rlock:\n",
      "  File \"/home/fcaporaso/miniconda3/envs/env_py39/lib/python3.10/multiprocessing/process.py\", line 108, in run\n",
      "    self._target(*self._args, **self._kwargs)\n",
      "  File \"/home/fcaporaso/miniconda3/envs/env_py39/lib/python3.10/multiprocessing/process.py\", line 108, in run\n",
      "    self._target(*self._args, **self._kwargs)\n",
      "  File \"/home/fcaporaso/miniconda3/envs/env_py39/lib/python3.10/multiprocessing/pool.py\", line 114, in worker\n",
      "    task = get()\n",
      "KeyboardInterrupt\n",
      "  File \"/home/fcaporaso/miniconda3/envs/env_py39/lib/python3.10/multiprocessing/queues.py\", line 364, in get\n",
      "    with self._rlock:\n",
      "  File \"/home/fcaporaso/miniconda3/envs/env_py39/lib/python3.10/multiprocessing/process.py\", line 108, in run\n",
      "    self._target(*self._args, **self._kwargs)\n",
      "  File \"/home/fcaporaso/miniconda3/envs/env_py39/lib/python3.10/multiprocessing/synchronize.py\", line 95, in __enter__\n",
      "    return self._semlock.__enter__()\n",
      "KeyboardInterrupt\n",
      "  File \"/home/fcaporaso/miniconda3/envs/env_py39/lib/python3.10/multiprocessing/pool.py\", line 114, in worker\n",
      "    task = get()\n",
      "KeyboardInterrupt\n",
      "  File \"/home/fcaporaso/miniconda3/envs/env_py39/lib/python3.10/multiprocessing/pool.py\", line 114, in worker\n",
      "    task = get()\n",
      "KeyboardInterrupt\n",
      "  File \"/home/fcaporaso/miniconda3/envs/env_py39/lib/python3.10/multiprocessing/process.py\", line 108, in run\n",
      "    self._target(*self._args, **self._kwargs)\n",
      "  File \"/home/fcaporaso/miniconda3/envs/env_py39/lib/python3.10/multiprocessing/process.py\", line 108, in run\n",
      "    self._target(*self._args, **self._kwargs)\n",
      "  File \"/home/fcaporaso/miniconda3/envs/env_py39/lib/python3.10/multiprocessing/process.py\", line 108, in run\n",
      "    self._target(*self._args, **self._kwargs)\n",
      "  File \"/home/fcaporaso/miniconda3/envs/env_py39/lib/python3.10/multiprocessing/queues.py\", line 364, in get\n",
      "    with self._rlock:\n",
      "  File \"/home/fcaporaso/miniconda3/envs/env_py39/lib/python3.10/multiprocessing/process.py\", line 108, in run\n",
      "    self._target(*self._args, **self._kwargs)\n",
      "  File \"/home/fcaporaso/miniconda3/envs/env_py39/lib/python3.10/multiprocessing/process.py\", line 108, in run\n",
      "    self._target(*self._args, **self._kwargs)\n",
      "  File \"/home/fcaporaso/miniconda3/envs/env_py39/lib/python3.10/multiprocessing/synchronize.py\", line 95, in __enter__\n",
      "    return self._semlock.__enter__()\n",
      "  File \"/home/fcaporaso/miniconda3/envs/env_py39/lib/python3.10/multiprocessing/queues.py\", line 364, in get\n",
      "    with self._rlock:\n",
      "  File \"/home/fcaporaso/miniconda3/envs/env_py39/lib/python3.10/multiprocessing/synchronize.py\", line 95, in __enter__\n",
      "    return self._semlock.__enter__()\n",
      "KeyboardInterrupt\n",
      "  File \"/home/fcaporaso/miniconda3/envs/env_py39/lib/python3.10/multiprocessing/process.py\", line 108, in run\n",
      "    self._target(*self._args, **self._kwargs)\n",
      "  File \"/home/fcaporaso/miniconda3/envs/env_py39/lib/python3.10/multiprocessing/process.py\", line 108, in run\n",
      "    self._target(*self._args, **self._kwargs)\n",
      "  File \"/home/fcaporaso/miniconda3/envs/env_py39/lib/python3.10/multiprocessing/process.py\", line 108, in run\n",
      "    self._target(*self._args, **self._kwargs)\n",
      "  File \"/home/fcaporaso/miniconda3/envs/env_py39/lib/python3.10/multiprocessing/queues.py\", line 364, in get\n",
      "    with self._rlock:\n",
      "  File \"/home/fcaporaso/miniconda3/envs/env_py39/lib/python3.10/multiprocessing/pool.py\", line 114, in worker\n",
      "    task = get()\n",
      "  File \"/home/fcaporaso/miniconda3/envs/env_py39/lib/python3.10/multiprocessing/queues.py\", line 364, in get\n",
      "    with self._rlock:\n",
      "  File \"/home/fcaporaso/miniconda3/envs/env_py39/lib/python3.10/multiprocessing/process.py\", line 108, in run\n",
      "    self._target(*self._args, **self._kwargs)\n",
      "  File \"/home/fcaporaso/miniconda3/envs/env_py39/lib/python3.10/multiprocessing/process.py\", line 108, in run\n",
      "    self._target(*self._args, **self._kwargs)\n",
      "  File \"/home/fcaporaso/miniconda3/envs/env_py39/lib/python3.10/multiprocessing/process.py\", line 108, in run\n",
      "    self._target(*self._args, **self._kwargs)\n",
      "  File \"/home/fcaporaso/miniconda3/envs/env_py39/lib/python3.10/multiprocessing/pool.py\", line 114, in worker\n",
      "    task = get()\n",
      "  File \"/home/fcaporaso/miniconda3/envs/env_py39/lib/python3.10/multiprocessing/pool.py\", line 114, in worker\n",
      "    task = get()\n",
      "  File \"/home/fcaporaso/miniconda3/envs/env_py39/lib/python3.10/multiprocessing/process.py\", line 108, in run\n",
      "    self._target(*self._args, **self._kwargs)\n",
      "  File \"/home/fcaporaso/miniconda3/envs/env_py39/lib/python3.10/multiprocessing/process.py\", line 108, in run\n",
      "    self._target(*self._args, **self._kwargs)\n",
      "  File \"/home/fcaporaso/miniconda3/envs/env_py39/lib/python3.10/multiprocessing/pool.py\", line 114, in worker\n",
      "    task = get()\n",
      "  File \"/home/fcaporaso/miniconda3/envs/env_py39/lib/python3.10/multiprocessing/process.py\", line 108, in run\n",
      "    self._target(*self._args, **self._kwargs)\n",
      "  File \"/home/fcaporaso/miniconda3/envs/env_py39/lib/python3.10/multiprocessing/pool.py\", line 114, in worker\n",
      "    task = get()\n",
      "  File \"/home/fcaporaso/miniconda3/envs/env_py39/lib/python3.10/multiprocessing/pool.py\", line 114, in worker\n",
      "    task = get()\n",
      "  File \"/home/fcaporaso/miniconda3/envs/env_py39/lib/python3.10/multiprocessing/pool.py\", line 114, in worker\n",
      "    task = get()\n",
      "KeyboardInterrupt\n",
      "  File \"/home/fcaporaso/miniconda3/envs/env_py39/lib/python3.10/multiprocessing/process.py\", line 108, in run\n",
      "    self._target(*self._args, **self._kwargs)\n",
      "  File \"/home/fcaporaso/miniconda3/envs/env_py39/lib/python3.10/multiprocessing/synchronize.py\", line 95, in __enter__\n",
      "    return self._semlock.__enter__()\n",
      "  File \"/home/fcaporaso/miniconda3/envs/env_py39/lib/python3.10/multiprocessing/process.py\", line 108, in run\n",
      "    self._target(*self._args, **self._kwargs)\n",
      "KeyboardInterrupt\n",
      "KeyboardInterrupt\n",
      "  File \"/home/fcaporaso/miniconda3/envs/env_py39/lib/python3.10/multiprocessing/synchronize.py\", line 95, in __enter__\n",
      "    return self._semlock.__enter__()\n",
      "  File \"/home/fcaporaso/miniconda3/envs/env_py39/lib/python3.10/multiprocessing/process.py\", line 108, in run\n",
      "    self._target(*self._args, **self._kwargs)\n",
      "  File \"/home/fcaporaso/miniconda3/envs/env_py39/lib/python3.10/multiprocessing/pool.py\", line 114, in worker\n",
      "    task = get()\n",
      "  File \"/home/fcaporaso/miniconda3/envs/env_py39/lib/python3.10/multiprocessing/pool.py\", line 114, in worker\n",
      "    task = get()\n",
      "  File \"/home/fcaporaso/miniconda3/envs/env_py39/lib/python3.10/multiprocessing/queues.py\", line 364, in get\n",
      "    with self._rlock:\n",
      "  File \"/home/fcaporaso/miniconda3/envs/env_py39/lib/python3.10/multiprocessing/pool.py\", line 114, in worker\n",
      "    task = get()\n",
      "  File \"/home/fcaporaso/miniconda3/envs/env_py39/lib/python3.10/multiprocessing/pool.py\", line 114, in worker\n",
      "    task = get()\n",
      "  File \"/home/fcaporaso/miniconda3/envs/env_py39/lib/python3.10/multiprocessing/synchronize.py\", line 95, in __enter__\n",
      "    return self._semlock.__enter__()\n",
      "  File \"/home/fcaporaso/miniconda3/envs/env_py39/lib/python3.10/multiprocessing/process.py\", line 108, in run\n",
      "    self._target(*self._args, **self._kwargs)\n",
      "  File \"/home/fcaporaso/miniconda3/envs/env_py39/lib/python3.10/multiprocessing/queues.py\", line 364, in get\n",
      "    with self._rlock:\n",
      "  File \"/home/fcaporaso/miniconda3/envs/env_py39/lib/python3.10/multiprocessing/synchronize.py\", line 95, in __enter__\n",
      "    return self._semlock.__enter__()\n",
      "  File \"/home/fcaporaso/miniconda3/envs/env_py39/lib/python3.10/multiprocessing/pool.py\", line 114, in worker\n",
      "    task = get()\n",
      "  File \"/home/fcaporaso/miniconda3/envs/env_py39/lib/python3.10/multiprocessing/process.py\", line 108, in run\n",
      "    self._target(*self._args, **self._kwargs)\n",
      "  File \"/home/fcaporaso/miniconda3/envs/env_py39/lib/python3.10/multiprocessing/synchronize.py\", line 95, in __enter__\n",
      "    return self._semlock.__enter__()\n",
      "  File \"/home/fcaporaso/miniconda3/envs/env_py39/lib/python3.10/multiprocessing/queues.py\", line 364, in get\n",
      "    with self._rlock:\n",
      "  File \"/home/fcaporaso/miniconda3/envs/env_py39/lib/python3.10/multiprocessing/synchronize.py\", line 95, in __enter__\n",
      "    return self._semlock.__enter__()\n",
      "KeyboardInterrupt\n",
      "  File \"/home/fcaporaso/miniconda3/envs/env_py39/lib/python3.10/multiprocessing/pool.py\", line 114, in worker\n",
      "    task = get()\n",
      "  File \"/home/fcaporaso/miniconda3/envs/env_py39/lib/python3.10/multiprocessing/process.py\", line 108, in run\n",
      "    self._target(*self._args, **self._kwargs)\n",
      "  File \"/home/fcaporaso/miniconda3/envs/env_py39/lib/python3.10/multiprocessing/queues.py\", line 364, in get\n",
      "    with self._rlock:\n",
      "  File \"/home/fcaporaso/miniconda3/envs/env_py39/lib/python3.10/multiprocessing/pool.py\", line 114, in worker\n",
      "    task = get()\n",
      "  File \"/home/fcaporaso/miniconda3/envs/env_py39/lib/python3.10/multiprocessing/pool.py\", line 114, in worker\n",
      "    task = get()\n",
      "  File \"/home/fcaporaso/miniconda3/envs/env_py39/lib/python3.10/multiprocessing/pool.py\", line 114, in worker\n",
      "    task = get()\n",
      "  File \"/home/fcaporaso/miniconda3/envs/env_py39/lib/python3.10/multiprocessing/synchronize.py\", line 95, in __enter__\n",
      "    return self._semlock.__enter__()\n",
      "  File \"/home/fcaporaso/miniconda3/envs/env_py39/lib/python3.10/multiprocessing/pool.py\", line 114, in worker\n",
      "    task = get()\n",
      "  File \"/home/fcaporaso/miniconda3/envs/env_py39/lib/python3.10/multiprocessing/pool.py\", line 114, in worker\n",
      "    task = get()\n",
      "  File \"/home/fcaporaso/miniconda3/envs/env_py39/lib/python3.10/multiprocessing/pool.py\", line 114, in worker\n",
      "    task = get()\n",
      "  File \"/home/fcaporaso/miniconda3/envs/env_py39/lib/python3.10/multiprocessing/queues.py\", line 364, in get\n",
      "    with self._rlock:\n",
      "  File \"/home/fcaporaso/miniconda3/envs/env_py39/lib/python3.10/multiprocessing/pool.py\", line 114, in worker\n",
      "    task = get()\n",
      "  File \"/home/fcaporaso/miniconda3/envs/env_py39/lib/python3.10/multiprocessing/synchronize.py\", line 95, in __enter__\n",
      "    return self._semlock.__enter__()\n",
      "  File \"/home/fcaporaso/miniconda3/envs/env_py39/lib/python3.10/multiprocessing/pool.py\", line 114, in worker\n",
      "    task = get()\n",
      "  File \"/home/fcaporaso/miniconda3/envs/env_py39/lib/python3.10/multiprocessing/synchronize.py\", line 95, in __enter__\n",
      "    return self._semlock.__enter__()\n",
      "KeyboardInterrupt\n",
      "KeyboardInterrupt\n",
      "  File \"/home/fcaporaso/miniconda3/envs/env_py39/lib/python3.10/multiprocessing/queues.py\", line 364, in get\n",
      "    with self._rlock:\n",
      "KeyboardInterrupt\n",
      "  File \"/home/fcaporaso/miniconda3/envs/env_py39/lib/python3.10/multiprocessing/pool.py\", line 114, in worker\n",
      "    task = get()\n",
      "  File \"/home/fcaporaso/miniconda3/envs/env_py39/lib/python3.10/multiprocessing/queues.py\", line 364, in get\n",
      "    with self._rlock:\n",
      "  File \"/home/fcaporaso/miniconda3/envs/env_py39/lib/python3.10/multiprocessing/pool.py\", line 114, in worker\n",
      "    task = get()\n",
      "  File \"/home/fcaporaso/miniconda3/envs/env_py39/lib/python3.10/multiprocessing/pool.py\", line 114, in worker\n",
      "    task = get()\n",
      "  File \"/home/fcaporaso/miniconda3/envs/env_py39/lib/python3.10/multiprocessing/pool.py\", line 114, in worker\n",
      "    task = get()\n",
      "  File \"/home/fcaporaso/miniconda3/envs/env_py39/lib/python3.10/multiprocessing/synchronize.py\", line 95, in __enter__\n",
      "    return self._semlock.__enter__()\n",
      "  File \"/home/fcaporaso/miniconda3/envs/env_py39/lib/python3.10/multiprocessing/pool.py\", line 114, in worker\n",
      "    task = get()\n",
      "KeyboardInterrupt\n",
      "  File \"/home/fcaporaso/miniconda3/envs/env_py39/lib/python3.10/multiprocessing/pool.py\", line 114, in worker\n",
      "    task = get()\n",
      "  File \"/home/fcaporaso/miniconda3/envs/env_py39/lib/python3.10/multiprocessing/synchronize.py\", line 95, in __enter__\n",
      "    return self._semlock.__enter__()\n",
      "  File \"/home/fcaporaso/miniconda3/envs/env_py39/lib/python3.10/multiprocessing/pool.py\", line 114, in worker\n",
      "    task = get()\n",
      "  File \"/home/fcaporaso/miniconda3/envs/env_py39/lib/python3.10/multiprocessing/pool.py\", line 114, in worker\n",
      "    task = get()\n",
      "  File \"/home/fcaporaso/miniconda3/envs/env_py39/lib/python3.10/multiprocessing/synchronize.py\", line 95, in __enter__\n",
      "    return self._semlock.__enter__()\n",
      "  File \"/home/fcaporaso/miniconda3/envs/env_py39/lib/python3.10/multiprocessing/queues.py\", line 364, in get\n",
      "    with self._rlock:\n",
      "KeyboardInterrupt\n",
      "  File \"/home/fcaporaso/miniconda3/envs/env_py39/lib/python3.10/multiprocessing/pool.py\", line 114, in worker\n",
      "    task = get()\n",
      "  File \"/home/fcaporaso/miniconda3/envs/env_py39/lib/python3.10/multiprocessing/pool.py\", line 114, in worker\n",
      "    task = get()\n",
      "  File \"/home/fcaporaso/miniconda3/envs/env_py39/lib/python3.10/multiprocessing/queues.py\", line 364, in get\n",
      "    with self._rlock:\n",
      "  File \"/home/fcaporaso/miniconda3/envs/env_py39/lib/python3.10/multiprocessing/synchronize.py\", line 95, in __enter__\n",
      "    return self._semlock.__enter__()\n",
      "  File \"/home/fcaporaso/miniconda3/envs/env_py39/lib/python3.10/multiprocessing/pool.py\", line 114, in worker\n",
      "    task = get()\n",
      "  File \"/home/fcaporaso/miniconda3/envs/env_py39/lib/python3.10/multiprocessing/queues.py\", line 364, in get\n",
      "    with self._rlock:\n",
      "  File \"/home/fcaporaso/miniconda3/envs/env_py39/lib/python3.10/multiprocessing/pool.py\", line 114, in worker\n",
      "    task = get()\n",
      "  File \"/home/fcaporaso/miniconda3/envs/env_py39/lib/python3.10/multiprocessing/pool.py\", line 114, in worker\n",
      "    task = get()\n",
      "  File \"/home/fcaporaso/miniconda3/envs/env_py39/lib/python3.10/multiprocessing/queues.py\", line 364, in get\n",
      "    with self._rlock:\n",
      "  File \"/home/fcaporaso/miniconda3/envs/env_py39/lib/python3.10/multiprocessing/pool.py\", line 114, in worker\n",
      "    task = get()\n",
      "  File \"/home/fcaporaso/miniconda3/envs/env_py39/lib/python3.10/multiprocessing/queues.py\", line 364, in get\n",
      "    with self._rlock:\n",
      "KeyboardInterrupt\n",
      "  File \"/home/fcaporaso/miniconda3/envs/env_py39/lib/python3.10/multiprocessing/queues.py\", line 364, in get\n",
      "    with self._rlock:\n",
      "  File \"/home/fcaporaso/miniconda3/envs/env_py39/lib/python3.10/multiprocessing/pool.py\", line 114, in worker\n",
      "    task = get()\n",
      "  File \"/home/fcaporaso/miniconda3/envs/env_py39/lib/python3.10/multiprocessing/queues.py\", line 364, in get\n",
      "    with self._rlock:\n",
      "  File \"/home/fcaporaso/miniconda3/envs/env_py39/lib/python3.10/multiprocessing/pool.py\", line 114, in worker\n",
      "    task = get()\n",
      "  File \"/home/fcaporaso/miniconda3/envs/env_py39/lib/python3.10/multiprocessing/pool.py\", line 114, in worker\n",
      "    task = get()\n",
      "  File \"/home/fcaporaso/miniconda3/envs/env_py39/lib/python3.10/multiprocessing/pool.py\", line 114, in worker\n",
      "    task = get()\n",
      "  File \"/home/fcaporaso/miniconda3/envs/env_py39/lib/python3.10/multiprocessing/queues.py\", line 364, in get\n",
      "    with self._rlock:\n",
      "KeyboardInterrupt\n",
      "  File \"/home/fcaporaso/miniconda3/envs/env_py39/lib/python3.10/multiprocessing/queues.py\", line 364, in get\n",
      "    with self._rlock:\n",
      "  File \"/home/fcaporaso/miniconda3/envs/env_py39/lib/python3.10/multiprocessing/queues.py\", line 364, in get\n",
      "    with self._rlock:\n",
      "  File \"/home/fcaporaso/miniconda3/envs/env_py39/lib/python3.10/multiprocessing/queues.py\", line 364, in get\n",
      "    with self._rlock:\n",
      "  File \"/home/fcaporaso/miniconda3/envs/env_py39/lib/python3.10/multiprocessing/synchronize.py\", line 95, in __enter__\n",
      "    return self._semlock.__enter__()\n",
      "  File \"/home/fcaporaso/miniconda3/envs/env_py39/lib/python3.10/multiprocessing/synchronize.py\", line 95, in __enter__\n",
      "    return self._semlock.__enter__()\n",
      "  File \"/home/fcaporaso/miniconda3/envs/env_py39/lib/python3.10/multiprocessing/pool.py\", line 114, in worker\n",
      "    task = get()\n",
      "KeyboardInterrupt\n",
      "  File \"/home/fcaporaso/miniconda3/envs/env_py39/lib/python3.10/multiprocessing/queues.py\", line 364, in get\n",
      "    with self._rlock:\n",
      "KeyboardInterrupt\n",
      "KeyboardInterrupt\n",
      "  File \"/home/fcaporaso/miniconda3/envs/env_py39/lib/python3.10/multiprocessing/synchronize.py\", line 95, in __enter__\n",
      "    return self._semlock.__enter__()\n",
      "  File \"/home/fcaporaso/miniconda3/envs/env_py39/lib/python3.10/multiprocessing/pool.py\", line 114, in worker\n",
      "    task = get()\n",
      "  File \"/home/fcaporaso/miniconda3/envs/env_py39/lib/python3.10/multiprocessing/pool.py\", line 114, in worker\n",
      "    task = get()\n",
      "  File \"/home/fcaporaso/miniconda3/envs/env_py39/lib/python3.10/multiprocessing/queues.py\", line 364, in get\n",
      "    with self._rlock:\n",
      "KeyboardInterrupt\n",
      "  File \"/home/fcaporaso/miniconda3/envs/env_py39/lib/python3.10/multiprocessing/queues.py\", line 364, in get\n",
      "    with self._rlock:\n",
      "  File \"/home/fcaporaso/miniconda3/envs/env_py39/lib/python3.10/multiprocessing/queues.py\", line 364, in get\n",
      "    with self._rlock:\n",
      "  File \"/home/fcaporaso/miniconda3/envs/env_py39/lib/python3.10/multiprocessing/queues.py\", line 364, in get\n",
      "    with self._rlock:\n",
      "  File \"/home/fcaporaso/miniconda3/envs/env_py39/lib/python3.10/multiprocessing/synchronize.py\", line 95, in __enter__\n",
      "    return self._semlock.__enter__()\n",
      "  File \"/home/fcaporaso/miniconda3/envs/env_py39/lib/python3.10/multiprocessing/synchronize.py\", line 95, in __enter__\n",
      "    return self._semlock.__enter__()\n",
      "  File \"/home/fcaporaso/miniconda3/envs/env_py39/lib/python3.10/multiprocessing/queues.py\", line 364, in get\n",
      "    with self._rlock:\n",
      "  File \"/home/fcaporaso/miniconda3/envs/env_py39/lib/python3.10/multiprocessing/queues.py\", line 364, in get\n",
      "    with self._rlock:\n",
      "  File \"/home/fcaporaso/miniconda3/envs/env_py39/lib/python3.10/multiprocessing/queues.py\", line 364, in get\n",
      "    with self._rlock:\n",
      "KeyboardInterrupt\n",
      "KeyboardInterrupt\n",
      "  File \"/home/fcaporaso/miniconda3/envs/env_py39/lib/python3.10/multiprocessing/queues.py\", line 364, in get\n",
      "    with self._rlock:\n",
      "  File \"/home/fcaporaso/miniconda3/envs/env_py39/lib/python3.10/multiprocessing/queues.py\", line 364, in get\n",
      "    with self._rlock:\n",
      "  File \"/home/fcaporaso/miniconda3/envs/env_py39/lib/python3.10/multiprocessing/synchronize.py\", line 95, in __enter__\n",
      "    return self._semlock.__enter__()\n",
      "  File \"/home/fcaporaso/miniconda3/envs/env_py39/lib/python3.10/multiprocessing/queues.py\", line 364, in get\n",
      "    with self._rlock:\n",
      "KeyboardInterrupt\n",
      "  File \"/home/fcaporaso/miniconda3/envs/env_py39/lib/python3.10/multiprocessing/queues.py\", line 364, in get\n",
      "    with self._rlock:\n",
      "KeyboardInterrupt\n",
      "  File \"/home/fcaporaso/miniconda3/envs/env_py39/lib/python3.10/multiprocessing/queues.py\", line 364, in get\n",
      "    with self._rlock:\n",
      "  File \"/home/fcaporaso/miniconda3/envs/env_py39/lib/python3.10/multiprocessing/queues.py\", line 364, in get\n",
      "    with self._rlock:\n",
      "  File \"/home/fcaporaso/miniconda3/envs/env_py39/lib/python3.10/multiprocessing/synchronize.py\", line 95, in __enter__\n",
      "    return self._semlock.__enter__()\n",
      "  File \"/home/fcaporaso/miniconda3/envs/env_py39/lib/python3.10/multiprocessing/queues.py\", line 364, in get\n",
      "    with self._rlock:\n",
      "  File \"/home/fcaporaso/miniconda3/envs/env_py39/lib/python3.10/multiprocessing/queues.py\", line 364, in get\n",
      "    with self._rlock:\n",
      "KeyboardInterrupt\n",
      "  File \"/home/fcaporaso/miniconda3/envs/env_py39/lib/python3.10/multiprocessing/synchronize.py\", line 95, in __enter__\n",
      "    return self._semlock.__enter__()\n",
      "  File \"/home/fcaporaso/miniconda3/envs/env_py39/lib/python3.10/multiprocessing/queues.py\", line 364, in get\n",
      "    with self._rlock:\n",
      "  File \"/home/fcaporaso/miniconda3/envs/env_py39/lib/python3.10/multiprocessing/synchronize.py\", line 95, in __enter__\n",
      "    return self._semlock.__enter__()\n",
      "  File \"/home/fcaporaso/miniconda3/envs/env_py39/lib/python3.10/multiprocessing/synchronize.py\", line 95, in __enter__\n",
      "    return self._semlock.__enter__()\n",
      "KeyboardInterrupt\n",
      "  File \"/home/fcaporaso/miniconda3/envs/env_py39/lib/python3.10/multiprocessing/queues.py\", line 364, in get\n",
      "    with self._rlock:\n",
      "  File \"/home/fcaporaso/miniconda3/envs/env_py39/lib/python3.10/multiprocessing/queues.py\", line 364, in get\n",
      "    with self._rlock:\n",
      "  File \"/home/fcaporaso/miniconda3/envs/env_py39/lib/python3.10/multiprocessing/queues.py\", line 364, in get\n",
      "    with self._rlock:\n",
      "  File \"/home/fcaporaso/miniconda3/envs/env_py39/lib/python3.10/multiprocessing/queues.py\", line 364, in get\n",
      "    with self._rlock:\n",
      "  File \"/home/fcaporaso/miniconda3/envs/env_py39/lib/python3.10/multiprocessing/queues.py\", line 364, in get\n",
      "    with self._rlock:\n",
      "  File \"/home/fcaporaso/miniconda3/envs/env_py39/lib/python3.10/multiprocessing/synchronize.py\", line 95, in __enter__\n",
      "    return self._semlock.__enter__()\n",
      "  File \"/home/fcaporaso/miniconda3/envs/env_py39/lib/python3.10/multiprocessing/queues.py\", line 364, in get\n",
      "    with self._rlock:\n",
      "  File \"/home/fcaporaso/miniconda3/envs/env_py39/lib/python3.10/multiprocessing/queues.py\", line 364, in get\n",
      "    with self._rlock:\n",
      "  File \"/home/fcaporaso/miniconda3/envs/env_py39/lib/python3.10/multiprocessing/queues.py\", line 364, in get\n",
      "    with self._rlock:\n",
      "  File \"/home/fcaporaso/miniconda3/envs/env_py39/lib/python3.10/multiprocessing/synchronize.py\", line 95, in __enter__\n",
      "    return self._semlock.__enter__()\n",
      "  File \"/home/fcaporaso/miniconda3/envs/env_py39/lib/python3.10/multiprocessing/synchronize.py\", line 95, in __enter__\n",
      "    return self._semlock.__enter__()\n",
      "KeyboardInterrupt\n",
      "  File \"/home/fcaporaso/miniconda3/envs/env_py39/lib/python3.10/multiprocessing/queues.py\", line 364, in get\n",
      "    with self._rlock:\n",
      "  File \"/home/fcaporaso/miniconda3/envs/env_py39/lib/python3.10/multiprocessing/synchronize.py\", line 95, in __enter__\n",
      "    return self._semlock.__enter__()\n",
      "KeyboardInterrupt\n",
      "  File \"/home/fcaporaso/miniconda3/envs/env_py39/lib/python3.10/multiprocessing/synchronize.py\", line 95, in __enter__\n",
      "    return self._semlock.__enter__()\n",
      "  File \"/home/fcaporaso/miniconda3/envs/env_py39/lib/python3.10/multiprocessing/synchronize.py\", line 95, in __enter__\n",
      "    return self._semlock.__enter__()\n",
      "KeyboardInterrupt\n",
      "  File \"/home/fcaporaso/miniconda3/envs/env_py39/lib/python3.10/multiprocessing/synchronize.py\", line 95, in __enter__\n",
      "    return self._semlock.__enter__()\n",
      "  File \"/home/fcaporaso/miniconda3/envs/env_py39/lib/python3.10/multiprocessing/queues.py\", line 364, in get\n",
      "    with self._rlock:\n",
      "KeyboardInterrupt\n",
      "  File \"/home/fcaporaso/miniconda3/envs/env_py39/lib/python3.10/multiprocessing/synchronize.py\", line 95, in __enter__\n",
      "    return self._semlock.__enter__()\n",
      "  File \"/home/fcaporaso/miniconda3/envs/env_py39/lib/python3.10/multiprocessing/synchronize.py\", line 95, in __enter__\n",
      "    return self._semlock.__enter__()\n",
      "  File \"/home/fcaporaso/miniconda3/envs/env_py39/lib/python3.10/multiprocessing/synchronize.py\", line 95, in __enter__\n",
      "    return self._semlock.__enter__()\n",
      "  File \"/home/fcaporaso/miniconda3/envs/env_py39/lib/python3.10/multiprocessing/synchronize.py\", line 95, in __enter__\n",
      "    return self._semlock.__enter__()\n",
      "  File \"/home/fcaporaso/miniconda3/envs/env_py39/lib/python3.10/multiprocessing/queues.py\", line 364, in get\n",
      "    with self._rlock:\n",
      "  File \"/home/fcaporaso/miniconda3/envs/env_py39/lib/python3.10/multiprocessing/queues.py\", line 364, in get\n",
      "    with self._rlock:\n",
      "KeyboardInterrupt\n",
      "  File \"/home/fcaporaso/miniconda3/envs/env_py39/lib/python3.10/multiprocessing/queues.py\", line 364, in get\n",
      "    with self._rlock:\n",
      "  File \"/home/fcaporaso/miniconda3/envs/env_py39/lib/python3.10/multiprocessing/synchronize.py\", line 95, in __enter__\n",
      "    return self._semlock.__enter__()\n",
      "  File \"/home/fcaporaso/miniconda3/envs/env_py39/lib/python3.10/multiprocessing/synchronize.py\", line 95, in __enter__\n",
      "    return self._semlock.__enter__()\n",
      "KeyboardInterrupt\n",
      "  File \"/home/fcaporaso/miniconda3/envs/env_py39/lib/python3.10/multiprocessing/synchronize.py\", line 95, in __enter__\n",
      "    return self._semlock.__enter__()\n",
      "  File \"/home/fcaporaso/miniconda3/envs/env_py39/lib/python3.10/multiprocessing/synchronize.py\", line 95, in __enter__\n",
      "    return self._semlock.__enter__()\n",
      "  File \"/home/fcaporaso/miniconda3/envs/env_py39/lib/python3.10/multiprocessing/synchronize.py\", line 95, in __enter__\n",
      "    return self._semlock.__enter__()\n",
      "  File \"/home/fcaporaso/miniconda3/envs/env_py39/lib/python3.10/multiprocessing/queues.py\", line 364, in get\n",
      "    with self._rlock:\n",
      "  File \"/home/fcaporaso/miniconda3/envs/env_py39/lib/python3.10/multiprocessing/synchronize.py\", line 95, in __enter__\n",
      "    return self._semlock.__enter__()\n",
      "  File \"/home/fcaporaso/miniconda3/envs/env_py39/lib/python3.10/multiprocessing/synchronize.py\", line 95, in __enter__\n",
      "    return self._semlock.__enter__()\n",
      "KeyboardInterrupt\n",
      "  File \"/home/fcaporaso/miniconda3/envs/env_py39/lib/python3.10/multiprocessing/synchronize.py\", line 95, in __enter__\n",
      "    return self._semlock.__enter__()\n",
      "KeyboardInterrupt\n",
      "  File \"/home/fcaporaso/miniconda3/envs/env_py39/lib/python3.10/multiprocessing/synchronize.py\", line 95, in __enter__\n",
      "    return self._semlock.__enter__()\n",
      "  File \"/home/fcaporaso/miniconda3/envs/env_py39/lib/python3.10/multiprocessing/synchronize.py\", line 95, in __enter__\n",
      "    return self._semlock.__enter__()\n",
      "  File \"/home/fcaporaso/miniconda3/envs/env_py39/lib/python3.10/multiprocessing/synchronize.py\", line 95, in __enter__\n",
      "    return self._semlock.__enter__()\n",
      "KeyboardInterrupt\n",
      "  File \"/home/fcaporaso/miniconda3/envs/env_py39/lib/python3.10/multiprocessing/synchronize.py\", line 95, in __enter__\n",
      "    return self._semlock.__enter__()\n",
      "  File \"/home/fcaporaso/miniconda3/envs/env_py39/lib/python3.10/multiprocessing/synchronize.py\", line 95, in __enter__\n",
      "    return self._semlock.__enter__()\n",
      "  File \"/home/fcaporaso/miniconda3/envs/env_py39/lib/python3.10/multiprocessing/synchronize.py\", line 95, in __enter__\n",
      "    return self._semlock.__enter__()\n",
      "  File \"/home/fcaporaso/miniconda3/envs/env_py39/lib/python3.10/multiprocessing/synchronize.py\", line 95, in __enter__\n",
      "    return self._semlock.__enter__()\n",
      "KeyboardInterrupt\n",
      "KeyboardInterrupt\n",
      "  File \"/home/fcaporaso/miniconda3/envs/env_py39/lib/python3.10/multiprocessing/synchronize.py\", line 95, in __enter__\n",
      "    return self._semlock.__enter__()\n",
      "  File \"/home/fcaporaso/miniconda3/envs/env_py39/lib/python3.10/multiprocessing/synchronize.py\", line 95, in __enter__\n",
      "    return self._semlock.__enter__()\n",
      "  File \"/home/fcaporaso/miniconda3/envs/env_py39/lib/python3.10/multiprocessing/synchronize.py\", line 95, in __enter__\n",
      "    return self._semlock.__enter__()\n",
      "  File \"/home/fcaporaso/miniconda3/envs/env_py39/lib/python3.10/multiprocessing/synchronize.py\", line 95, in __enter__\n",
      "    return self._semlock.__enter__()\n",
      "KeyboardInterrupt\n",
      "KeyboardInterrupt\n",
      "  File \"/home/fcaporaso/miniconda3/envs/env_py39/lib/python3.10/multiprocessing/synchronize.py\", line 95, in __enter__\n",
      "    return self._semlock.__enter__()\n",
      "KeyboardInterrupt\n",
      "KeyboardInterrupt\n",
      "  File \"/home/fcaporaso/miniconda3/envs/env_py39/lib/python3.10/multiprocessing/synchronize.py\", line 95, in __enter__\n",
      "    return self._semlock.__enter__()\n",
      "KeyboardInterrupt\n",
      "KeyboardInterrupt\n",
      "KeyboardInterrupt\n",
      "  File \"/home/fcaporaso/miniconda3/envs/env_py39/lib/python3.10/multiprocessing/synchronize.py\", line 95, in __enter__\n",
      "    return self._semlock.__enter__()\n",
      "KeyboardInterrupt\n",
      "  File \"/home/fcaporaso/miniconda3/envs/env_py39/lib/python3.10/multiprocessing/synchronize.py\", line 95, in __enter__\n",
      "    return self._semlock.__enter__()\n",
      "KeyboardInterrupt\n",
      "KeyboardInterrupt\n",
      "KeyboardInterrupt\n",
      "KeyboardInterrupt\n",
      "KeyboardInterrupt\n",
      "KeyboardInterrupt\n",
      "  File \"/home/fcaporaso/miniconda3/envs/env_py39/lib/python3.10/multiprocessing/synchronize.py\", line 95, in __enter__\n",
      "    return self._semlock.__enter__()\n",
      "KeyboardInterrupt\n",
      "  File \"/home/fcaporaso/miniconda3/envs/env_py39/lib/python3.10/multiprocessing/synchronize.py\", line 95, in __enter__\n",
      "    return self._semlock.__enter__()\n",
      "KeyboardInterrupt\n",
      "KeyboardInterrupt\n",
      "KeyboardInterrupt\n",
      "KeyboardInterrupt\n",
      "  File \"/home/fcaporaso/miniconda3/envs/env_py39/lib/python3.10/multiprocessing/synchronize.py\", line 95, in __enter__\n",
      "    return self._semlock.__enter__()\n",
      "KeyboardInterrupt\n",
      "  File \"/home/fcaporaso/miniconda3/envs/env_py39/lib/python3.10/multiprocessing/synchronize.py\", line 95, in __enter__\n",
      "    return self._semlock.__enter__()\n",
      "KeyboardInterrupt\n",
      "KeyboardInterrupt\n",
      "KeyboardInterrupt\n",
      "KeyboardInterrupt\n",
      "KeyboardInterrupt\n",
      "  File \"/home/fcaporaso/miniconda3/envs/env_py39/lib/python3.10/multiprocessing/synchronize.py\", line 95, in __enter__\n",
      "    return self._semlock.__enter__()\n",
      "KeyboardInterrupt\n",
      "KeyboardInterrupt\n",
      "KeyboardInterrupt\n",
      "KeyboardInterrupt\n",
      "KeyboardInterrupt\n",
      "KeyboardInterrupt\n",
      "KeyboardInterrupt\n",
      "KeyboardInterrupt\n",
      "KeyboardInterrupt\n",
      "KeyboardInterrupt\n",
      "KeyboardInterrupt\n",
      "KeyboardInterrupt\n",
      "KeyboardInterrupt\n",
      "KeyboardInterrupt\n",
      "  0%|                                                                                  | 0/18 [01:24<?, ?it/s]\n"
     ]
    },
    {
     "ename": "UnpicklingError",
     "evalue": "invalid load key, '\\xe4'.",
     "output_type": "error",
     "traceback": [
      "\u001b[0;31m---------------------------------------------------------------------------\u001b[0m",
      "\u001b[0;31mKeyboardInterrupt\u001b[0m                         Traceback (most recent call last)",
      "Cell \u001b[0;32mIn[26], line 7\u001b[0m\n\u001b[1;32m      6\u001b[0m \u001b[38;5;28;01mwith\u001b[39;00m Pool(processes\u001b[38;5;241m=\u001b[39mnum) \u001b[38;5;28;01mas\u001b[39;00m pool:\n\u001b[0;32m----> 7\u001b[0m     resmap \u001b[38;5;241m=\u001b[39m \u001b[43mpool\u001b[49m\u001b[38;5;241;43m.\u001b[39;49m\u001b[43mmap\u001b[49m\u001b[43m(\u001b[49m\u001b[43mpartial_func\u001b[49m\u001b[43m,\u001b[49m\n\u001b[1;32m      8\u001b[0m \u001b[43m                      \u001b[49m\u001b[43mentrada\u001b[49m\u001b[43m)\u001b[49m\n\u001b[1;32m      9\u001b[0m     pool\u001b[38;5;241m.\u001b[39mclose()\n",
      "File \u001b[0;32m~/miniconda3/envs/env_py39/lib/python3.10/multiprocessing/pool.py:367\u001b[0m, in \u001b[0;36mPool.map\u001b[0;34m(self, func, iterable, chunksize)\u001b[0m\n\u001b[1;32m    363\u001b[0m \u001b[38;5;124;03m'''\u001b[39;00m\n\u001b[1;32m    364\u001b[0m \u001b[38;5;124;03mApply `func` to each element in `iterable`, collecting the results\u001b[39;00m\n\u001b[1;32m    365\u001b[0m \u001b[38;5;124;03min a list that is returned.\u001b[39;00m\n\u001b[1;32m    366\u001b[0m \u001b[38;5;124;03m'''\u001b[39;00m\n\u001b[0;32m--> 367\u001b[0m \u001b[38;5;28;01mreturn\u001b[39;00m \u001b[38;5;28;43mself\u001b[39;49m\u001b[38;5;241;43m.\u001b[39;49m\u001b[43m_map_async\u001b[49m\u001b[43m(\u001b[49m\u001b[43mfunc\u001b[49m\u001b[43m,\u001b[49m\u001b[43m \u001b[49m\u001b[43miterable\u001b[49m\u001b[43m,\u001b[49m\u001b[43m \u001b[49m\u001b[43mmapstar\u001b[49m\u001b[43m,\u001b[49m\u001b[43m \u001b[49m\u001b[43mchunksize\u001b[49m\u001b[43m)\u001b[49m\u001b[38;5;241;43m.\u001b[39;49m\u001b[43mget\u001b[49m\u001b[43m(\u001b[49m\u001b[43m)\u001b[49m\n",
      "File \u001b[0;32m~/miniconda3/envs/env_py39/lib/python3.10/multiprocessing/pool.py:768\u001b[0m, in \u001b[0;36mApplyResult.get\u001b[0;34m(self, timeout)\u001b[0m\n\u001b[1;32m    767\u001b[0m \u001b[38;5;28;01mdef\u001b[39;00m \u001b[38;5;21mget\u001b[39m(\u001b[38;5;28mself\u001b[39m, timeout\u001b[38;5;241m=\u001b[39m\u001b[38;5;28;01mNone\u001b[39;00m):\n\u001b[0;32m--> 768\u001b[0m     \u001b[38;5;28;43mself\u001b[39;49m\u001b[38;5;241;43m.\u001b[39;49m\u001b[43mwait\u001b[49m\u001b[43m(\u001b[49m\u001b[43mtimeout\u001b[49m\u001b[43m)\u001b[49m\n\u001b[1;32m    769\u001b[0m     \u001b[38;5;28;01mif\u001b[39;00m \u001b[38;5;129;01mnot\u001b[39;00m \u001b[38;5;28mself\u001b[39m\u001b[38;5;241m.\u001b[39mready():\n",
      "File \u001b[0;32m~/miniconda3/envs/env_py39/lib/python3.10/multiprocessing/pool.py:765\u001b[0m, in \u001b[0;36mApplyResult.wait\u001b[0;34m(self, timeout)\u001b[0m\n\u001b[1;32m    764\u001b[0m \u001b[38;5;28;01mdef\u001b[39;00m \u001b[38;5;21mwait\u001b[39m(\u001b[38;5;28mself\u001b[39m, timeout\u001b[38;5;241m=\u001b[39m\u001b[38;5;28;01mNone\u001b[39;00m):\n\u001b[0;32m--> 765\u001b[0m     \u001b[38;5;28;43mself\u001b[39;49m\u001b[38;5;241;43m.\u001b[39;49m\u001b[43m_event\u001b[49m\u001b[38;5;241;43m.\u001b[39;49m\u001b[43mwait\u001b[49m\u001b[43m(\u001b[49m\u001b[43mtimeout\u001b[49m\u001b[43m)\u001b[49m\n",
      "File \u001b[0;32m~/miniconda3/envs/env_py39/lib/python3.10/threading.py:607\u001b[0m, in \u001b[0;36mEvent.wait\u001b[0;34m(self, timeout)\u001b[0m\n\u001b[1;32m    606\u001b[0m \u001b[38;5;28;01mif\u001b[39;00m \u001b[38;5;129;01mnot\u001b[39;00m signaled:\n\u001b[0;32m--> 607\u001b[0m     signaled \u001b[38;5;241m=\u001b[39m \u001b[38;5;28;43mself\u001b[39;49m\u001b[38;5;241;43m.\u001b[39;49m\u001b[43m_cond\u001b[49m\u001b[38;5;241;43m.\u001b[39;49m\u001b[43mwait\u001b[49m\u001b[43m(\u001b[49m\u001b[43mtimeout\u001b[49m\u001b[43m)\u001b[49m\n\u001b[1;32m    608\u001b[0m \u001b[38;5;28;01mreturn\u001b[39;00m signaled\n",
      "File \u001b[0;32m~/miniconda3/envs/env_py39/lib/python3.10/threading.py:320\u001b[0m, in \u001b[0;36mCondition.wait\u001b[0;34m(self, timeout)\u001b[0m\n\u001b[1;32m    319\u001b[0m \u001b[38;5;28;01mif\u001b[39;00m timeout \u001b[38;5;129;01mis\u001b[39;00m \u001b[38;5;28;01mNone\u001b[39;00m:\n\u001b[0;32m--> 320\u001b[0m     \u001b[43mwaiter\u001b[49m\u001b[38;5;241;43m.\u001b[39;49m\u001b[43macquire\u001b[49m\u001b[43m(\u001b[49m\u001b[43m)\u001b[49m\n\u001b[1;32m    321\u001b[0m     gotit \u001b[38;5;241m=\u001b[39m \u001b[38;5;28;01mTrue\u001b[39;00m\n",
      "\u001b[0;31mKeyboardInterrupt\u001b[0m: ",
      "\nDuring handling of the above exception, another exception occurred:\n",
      "\u001b[0;31mUnpicklingError\u001b[0m                           Traceback (most recent call last)",
      "Cell \u001b[0;32mIn[26], line 6\u001b[0m\n\u001b[1;32m      4\u001b[0m \u001b[38;5;28mprint\u001b[39m(num)\n\u001b[1;32m      5\u001b[0m entrada \u001b[38;5;241m=\u001b[39m np\u001b[38;5;241m.\u001b[39marray([Li\u001b[38;5;241m.\u001b[39mT[\u001b[38;5;241m1\u001b[39m], Li\u001b[38;5;241m.\u001b[39mT[\u001b[38;5;241m5\u001b[39m], Li\u001b[38;5;241m.\u001b[39mT[\u001b[38;5;241m6\u001b[39m], Li\u001b[38;5;241m.\u001b[39mT[\u001b[38;5;241m7\u001b[39m]])\u001b[38;5;241m.\u001b[39mT\n\u001b[0;32m----> 6\u001b[0m \u001b[38;5;28;01mwith\u001b[39;00m Pool(processes\u001b[38;5;241m=\u001b[39mnum) \u001b[38;5;28;01mas\u001b[39;00m pool:\n\u001b[1;32m      7\u001b[0m     resmap \u001b[38;5;241m=\u001b[39m pool\u001b[38;5;241m.\u001b[39mmap(partial_func,\n\u001b[1;32m      8\u001b[0m                       entrada)\n\u001b[1;32m      9\u001b[0m     pool\u001b[38;5;241m.\u001b[39mclose()\n",
      "File \u001b[0;32m~/miniconda3/envs/env_py39/lib/python3.10/multiprocessing/pool.py:739\u001b[0m, in \u001b[0;36mPool.__exit__\u001b[0;34m(self, exc_type, exc_val, exc_tb)\u001b[0m\n\u001b[1;32m    738\u001b[0m \u001b[38;5;28;01mdef\u001b[39;00m \u001b[38;5;21m__exit__\u001b[39m(\u001b[38;5;28mself\u001b[39m, exc_type, exc_val, exc_tb):\n\u001b[0;32m--> 739\u001b[0m     \u001b[38;5;28;43mself\u001b[39;49m\u001b[38;5;241;43m.\u001b[39;49m\u001b[43mterminate\u001b[49m\u001b[43m(\u001b[49m\u001b[43m)\u001b[49m\n",
      "File \u001b[0;32m~/miniconda3/envs/env_py39/lib/python3.10/multiprocessing/pool.py:657\u001b[0m, in \u001b[0;36mPool.terminate\u001b[0;34m(self)\u001b[0m\n\u001b[1;32m    655\u001b[0m util\u001b[38;5;241m.\u001b[39mdebug(\u001b[38;5;124m'\u001b[39m\u001b[38;5;124mterminating pool\u001b[39m\u001b[38;5;124m'\u001b[39m)\n\u001b[1;32m    656\u001b[0m \u001b[38;5;28mself\u001b[39m\u001b[38;5;241m.\u001b[39m_state \u001b[38;5;241m=\u001b[39m TERMINATE\n\u001b[0;32m--> 657\u001b[0m \u001b[38;5;28;43mself\u001b[39;49m\u001b[38;5;241;43m.\u001b[39;49m\u001b[43m_terminate\u001b[49m\u001b[43m(\u001b[49m\u001b[43m)\u001b[49m\n",
      "File \u001b[0;32m~/miniconda3/envs/env_py39/lib/python3.10/multiprocessing/util.py:224\u001b[0m, in \u001b[0;36mFinalize.__call__\u001b[0;34m(self, wr, _finalizer_registry, sub_debug, getpid)\u001b[0m\n\u001b[1;32m    221\u001b[0m \u001b[38;5;28;01melse\u001b[39;00m:\n\u001b[1;32m    222\u001b[0m     sub_debug(\u001b[38;5;124m'\u001b[39m\u001b[38;5;124mfinalizer calling \u001b[39m\u001b[38;5;132;01m%s\u001b[39;00m\u001b[38;5;124m with args \u001b[39m\u001b[38;5;132;01m%s\u001b[39;00m\u001b[38;5;124m and kwargs \u001b[39m\u001b[38;5;132;01m%s\u001b[39;00m\u001b[38;5;124m'\u001b[39m,\n\u001b[1;32m    223\u001b[0m               \u001b[38;5;28mself\u001b[39m\u001b[38;5;241m.\u001b[39m_callback, \u001b[38;5;28mself\u001b[39m\u001b[38;5;241m.\u001b[39m_args, \u001b[38;5;28mself\u001b[39m\u001b[38;5;241m.\u001b[39m_kwargs)\n\u001b[0;32m--> 224\u001b[0m     res \u001b[38;5;241m=\u001b[39m \u001b[38;5;28;43mself\u001b[39;49m\u001b[38;5;241;43m.\u001b[39;49m\u001b[43m_callback\u001b[49m\u001b[43m(\u001b[49m\u001b[38;5;241;43m*\u001b[39;49m\u001b[38;5;28;43mself\u001b[39;49m\u001b[38;5;241;43m.\u001b[39;49m\u001b[43m_args\u001b[49m\u001b[43m,\u001b[49m\u001b[43m \u001b[49m\u001b[38;5;241;43m*\u001b[39;49m\u001b[38;5;241;43m*\u001b[39;49m\u001b[38;5;28;43mself\u001b[39;49m\u001b[38;5;241;43m.\u001b[39;49m\u001b[43m_kwargs\u001b[49m\u001b[43m)\u001b[49m\n\u001b[1;32m    225\u001b[0m \u001b[38;5;28mself\u001b[39m\u001b[38;5;241m.\u001b[39m_weakref \u001b[38;5;241m=\u001b[39m \u001b[38;5;28mself\u001b[39m\u001b[38;5;241m.\u001b[39m_callback \u001b[38;5;241m=\u001b[39m \u001b[38;5;28mself\u001b[39m\u001b[38;5;241m.\u001b[39m_args \u001b[38;5;241m=\u001b[39m \\\n\u001b[1;32m    226\u001b[0m                 \u001b[38;5;28mself\u001b[39m\u001b[38;5;241m.\u001b[39m_kwargs \u001b[38;5;241m=\u001b[39m \u001b[38;5;28mself\u001b[39m\u001b[38;5;241m.\u001b[39m_key \u001b[38;5;241m=\u001b[39m \u001b[38;5;28;01mNone\u001b[39;00m\n\u001b[1;32m    227\u001b[0m \u001b[38;5;28;01mreturn\u001b[39;00m res\n",
      "File \u001b[0;32m~/miniconda3/envs/env_py39/lib/python3.10/multiprocessing/pool.py:695\u001b[0m, in \u001b[0;36mPool._terminate_pool\u001b[0;34m(cls, taskqueue, inqueue, outqueue, pool, change_notifier, worker_handler, task_handler, result_handler, cache)\u001b[0m\n\u001b[1;32m    692\u001b[0m task_handler\u001b[38;5;241m.\u001b[39m_state \u001b[38;5;241m=\u001b[39m TERMINATE\n\u001b[1;32m    694\u001b[0m util\u001b[38;5;241m.\u001b[39mdebug(\u001b[38;5;124m'\u001b[39m\u001b[38;5;124mhelping task handler/workers to finish\u001b[39m\u001b[38;5;124m'\u001b[39m)\n\u001b[0;32m--> 695\u001b[0m \u001b[38;5;28;43mcls\u001b[39;49m\u001b[38;5;241;43m.\u001b[39;49m\u001b[43m_help_stuff_finish\u001b[49m\u001b[43m(\u001b[49m\u001b[43minqueue\u001b[49m\u001b[43m,\u001b[49m\u001b[43m \u001b[49m\u001b[43mtask_handler\u001b[49m\u001b[43m,\u001b[49m\u001b[43m \u001b[49m\u001b[38;5;28;43mlen\u001b[39;49m\u001b[43m(\u001b[49m\u001b[43mpool\u001b[49m\u001b[43m)\u001b[49m\u001b[43m)\u001b[49m\n\u001b[1;32m    697\u001b[0m \u001b[38;5;28;01mif\u001b[39;00m (\u001b[38;5;129;01mnot\u001b[39;00m result_handler\u001b[38;5;241m.\u001b[39mis_alive()) \u001b[38;5;129;01mand\u001b[39;00m (\u001b[38;5;28mlen\u001b[39m(cache) \u001b[38;5;241m!=\u001b[39m \u001b[38;5;241m0\u001b[39m):\n\u001b[1;32m    698\u001b[0m     \u001b[38;5;28;01mraise\u001b[39;00m \u001b[38;5;167;01mAssertionError\u001b[39;00m(\n\u001b[1;32m    699\u001b[0m         \u001b[38;5;124m\"\u001b[39m\u001b[38;5;124mCannot have cache with result_hander not alive\u001b[39m\u001b[38;5;124m\"\u001b[39m)\n",
      "File \u001b[0;32m~/miniconda3/envs/env_py39/lib/python3.10/multiprocessing/pool.py:677\u001b[0m, in \u001b[0;36mPool._help_stuff_finish\u001b[0;34m(inqueue, task_handler, size)\u001b[0m\n\u001b[1;32m    675\u001b[0m inqueue\u001b[38;5;241m.\u001b[39m_rlock\u001b[38;5;241m.\u001b[39macquire()\n\u001b[1;32m    676\u001b[0m \u001b[38;5;28;01mwhile\u001b[39;00m task_handler\u001b[38;5;241m.\u001b[39mis_alive() \u001b[38;5;129;01mand\u001b[39;00m inqueue\u001b[38;5;241m.\u001b[39m_reader\u001b[38;5;241m.\u001b[39mpoll():\n\u001b[0;32m--> 677\u001b[0m     \u001b[43minqueue\u001b[49m\u001b[38;5;241;43m.\u001b[39;49m\u001b[43m_reader\u001b[49m\u001b[38;5;241;43m.\u001b[39;49m\u001b[43mrecv\u001b[49m\u001b[43m(\u001b[49m\u001b[43m)\u001b[49m\n\u001b[1;32m    678\u001b[0m     time\u001b[38;5;241m.\u001b[39msleep(\u001b[38;5;241m0\u001b[39m)\n",
      "File \u001b[0;32m~/miniconda3/envs/env_py39/lib/python3.10/multiprocessing/connection.py:251\u001b[0m, in \u001b[0;36m_ConnectionBase.recv\u001b[0;34m(self)\u001b[0m\n\u001b[1;32m    249\u001b[0m \u001b[38;5;28mself\u001b[39m\u001b[38;5;241m.\u001b[39m_check_readable()\n\u001b[1;32m    250\u001b[0m buf \u001b[38;5;241m=\u001b[39m \u001b[38;5;28mself\u001b[39m\u001b[38;5;241m.\u001b[39m_recv_bytes()\n\u001b[0;32m--> 251\u001b[0m \u001b[38;5;28;01mreturn\u001b[39;00m \u001b[43m_ForkingPickler\u001b[49m\u001b[38;5;241;43m.\u001b[39;49m\u001b[43mloads\u001b[49m\u001b[43m(\u001b[49m\u001b[43mbuf\u001b[49m\u001b[38;5;241;43m.\u001b[39;49m\u001b[43mgetbuffer\u001b[49m\u001b[43m(\u001b[49m\u001b[43m)\u001b[49m\u001b[43m)\u001b[49m\n",
      "\u001b[0;31mUnpicklingError\u001b[0m: invalid load key, '\\xe4'."
     ]
    },
    {
     "name": "stderr",
     "output_type": "stream",
     "text": [
      "Process ForkPoolWorker-41:\n",
      "Traceback (most recent call last):\n",
      "  File \"/home/fcaporaso/miniconda3/envs/env_py39/lib/python3.10/multiprocessing/process.py\", line 314, in _bootstrap\n",
      "    self.run()\n",
      "  File \"/home/fcaporaso/miniconda3/envs/env_py39/lib/python3.10/multiprocessing/process.py\", line 108, in run\n",
      "    self._target(*self._args, **self._kwargs)\n",
      "  File \"/home/fcaporaso/miniconda3/envs/env_py39/lib/python3.10/multiprocessing/pool.py\", line 114, in worker\n",
      "    task = get()\n",
      "  File \"/home/fcaporaso/miniconda3/envs/env_py39/lib/python3.10/multiprocessing/queues.py\", line 364, in get\n",
      "    with self._rlock:\n",
      "  File \"/home/fcaporaso/miniconda3/envs/env_py39/lib/python3.10/multiprocessing/synchronize.py\", line 95, in __enter__\n",
      "    return self._semlock.__enter__()\n",
      "KeyboardInterrupt\n"
     ]
    }
   ],
   "source": [
    "P = np.zeros((nvoids, 4, N)) # 4=num de arr q devuelve density_v2\n",
    "for i,Li in enumerate(tqdm(L)):\n",
    "    num = len(Li)\n",
    "    print(num)\n",
    "    entrada = np.array([Li.T[1], Li.T[5], Li.T[6], Li.T[7]]).T\n",
    "    with Pool(processes=num) as pool:\n",
    "        resmap = pool.map(partial_func,\n",
    "                          entrada)\n",
    "        pool.close()\n",
    "        pool.join()\n",
    "    for j,res in enumerate(resmap):\n",
    "        P[i*num + j] = res"
   ]
  },
  {
   "cell_type": "markdown",
   "id": "67ae8624-fe4d-4943-93ee-66bd69b3b67d",
   "metadata": {
    "jp-MarkdownHeadingCollapsed": true,
    "tags": []
   },
   "source": [
    "## Extra tests"
   ]
  },
  {
   "cell_type": "code",
   "execution_count": 1,
   "id": "4b754396-1ebd-4ed1-8b4a-6499acc6a1d6",
   "metadata": {},
   "outputs": [],
   "source": [
    "import numpy as np"
   ]
  },
  {
   "cell_type": "code",
   "execution_count": 6,
   "id": "92d7f5ba-0783-4b56-9d53-791a6086a214",
   "metadata": {},
   "outputs": [],
   "source": [
    "from density_profiles_v2 import *"
   ]
  },
  {
   "cell_type": "code",
   "execution_count": 2,
   "id": "3d7c57b2-c16a-4c26-8dbb-5e6a92b63c9d",
   "metadata": {},
   "outputs": [],
   "source": [
    "P = np.zeros((1000,4,10))"
   ]
  },
  {
   "cell_type": "code",
   "execution_count": 8,
   "id": "711fc7e1-04f8-4271-8f34-73ecfec04a01",
   "metadata": {},
   "outputs": [],
   "source": [
    "lens_args=(6.0,9.0,0.2,0.3,-1.0,-0.8,0.0,100)\n",
    "L,_,nvoids = lenscat_load(*lens_args, flag=2, lensname='/mnt/simulations/MICE/voids_MICE.dat', split=False)"
   ]
  },
  {
   "cell_type": "code",
   "execution_count": 12,
   "id": "8d3b4955-9378-44fe-9e5e-7eca957c1a45",
   "metadata": {},
   "outputs": [],
   "source": [
    "l = L.T[0]"
   ]
  },
  {
   "cell_type": "code",
   "execution_count": 13,
   "id": "e5945ff5-4a9f-43e3-b772-ae6e425ab0b8",
   "metadata": {},
   "outputs": [],
   "source": [
    "cosmo = LambdaCDM(H0=100, Om0=0.25, Ode0=0.75)"
   ]
  },
  {
   "cell_type": "code",
   "execution_count": 14,
   "id": "f3e232d9-7101-4957-a7a8-d7637fc72ef5",
   "metadata": {},
   "outputs": [
    {
     "name": "stdout",
     "output_type": "stream",
     "text": [
      "# of gx:  329004990\n"
     ]
    }
   ],
   "source": [
    "ra_gal, dec_gal, z_gal, lmhalo = tracercat_load()    \n",
    "xh, yh, zh = ang2xyz(ra_gal, dec_gal, z_gal, cosmo=cosmo)\n",
    "print('# of gx: ', len(ra_gal))"
   ]
  },
  {
   "cell_type": "code",
   "execution_count": 16,
   "id": "5bb27991-d38b-4c62-bf81-558c777980b8",
   "metadata": {},
   "outputs": [],
   "source": [
    "N,m = 10,5\n",
    "P[0] = density_v2(N, m, xh, yh, zh, lmhalo, void_prop=(l[1],l[5],l[6],l[7]))"
   ]
  },
  {
   "cell_type": "code",
   "execution_count": 17,
   "id": "436f4358-851e-4cf1-a06c-8ce95888bcea",
   "metadata": {},
   "outputs": [
    {
     "name": "stdout",
     "output_type": "stream",
     "text": [
      "[[1.00000000e+00 1.11000000e+02 7.91000000e+02 2.25200000e+03\n",
      "  2.33500000e+03 3.09500000e+03 3.88300000e+03 5.21700000e+03\n",
      "  7.40100000e+03 9.65100000e+03]\n",
      " [2.76375613e+10 1.17045681e+13 1.21037228e+14 8.04735540e+14\n",
      "  4.58196909e+14 6.29244518e+14 7.54927945e+14 1.17534277e+15\n",
      "  1.68822722e+15 2.20708598e+15]\n",
      " [2.88473864e+02 2.01931705e+03 5.48100341e+03 1.06735330e+04\n",
      "  1.75969057e+04 2.62511216e+04 3.66361807e+04 4.87520830e+04\n",
      "  6.25988284e+04 7.81764171e+04]\n",
      " [2.10947439e+10 2.10947439e+10 2.10947439e+10 2.10947439e+10\n",
      "  2.10947439e+10 2.10947439e+10 2.10947439e+10 2.10947439e+10\n",
      "  2.10947439e+10 2.10947439e+10]]\n"
     ]
    }
   ],
   "source": [
    "print(P[0])"
   ]
  },
  {
   "cell_type": "code",
   "execution_count": 27,
   "id": "8b8463fc-92a5-41ce-9dd0-93dcf261e875",
   "metadata": {},
   "outputs": [],
   "source": [
    "r_v = (P[0][2][0]*3/(4*np.pi))**(1/3) * (N/m) "
   ]
  },
  {
   "cell_type": "code",
   "execution_count": 24,
   "id": "c5930bd1-2b85-477c-84ea-24b54adf482b",
   "metadata": {},
   "outputs": [
    {
     "data": {
      "text/plain": [
       "288.47386377784187"
      ]
     },
     "execution_count": 24,
     "metadata": {},
     "output_type": "execute_result"
    }
   ],
   "source": [
    "P[0][2][0]"
   ]
  },
  {
   "cell_type": "code",
   "execution_count": 28,
   "id": "53f29fb1-d878-4c4a-b794-87985b60da11",
   "metadata": {},
   "outputs": [
    {
     "name": "stdout",
     "output_type": "stream",
     "text": [
      "8.1979\n",
      "8.1979\n"
     ]
    }
   ],
   "source": [
    "print(r_v)\n",
    "print(l[1])"
   ]
  },
  {
   "cell_type": "code",
   "execution_count": 30,
   "id": "e3412f79-b31b-4a0f-8ed9-724c7e62b47d",
   "metadata": {},
   "outputs": [
    {
     "data": {
      "text/plain": [
       "'voids_MICE'"
      ]
     },
     "execution_count": 30,
     "metadata": {},
     "output_type": "execute_result"
    }
   ],
   "source": [
    "lensname=\"/mnt/simulations/MICE/voids_MICE.dat\"\n",
    "lensname.split('/')[-1][:-4]"
   ]
  },
  {
   "cell_type": "markdown",
   "id": "6e201d54-f3e7-42ad-b32f-4360fb608722",
   "metadata": {
    "jp-MarkdownHeadingCollapsed": true,
    "tags": []
   },
   "source": [
    "# Probando con class"
   ]
  },
  {
   "cell_type": "code",
   "execution_count": 2,
   "id": "16ac6c4e-99bf-4442-8376-3484afe17633",
   "metadata": {},
   "outputs": [],
   "source": [
    "from density_profiles_class import *"
   ]
  },
  {
   "cell_type": "code",
   "execution_count": 3,
   "id": "f3bd6a7b-8f8d-47d2-80a0-f171f4975daf",
   "metadata": {},
   "outputs": [],
   "source": [
    "test = Void(\n",
    "    lens_args={'Rv_min':6.0, 'Rv_max':9.0, 'z_min':0.2, 'z_max':0.3,\n",
    "               'rho1_min':-1.0, 'rho1_max':-0.8, 'rho2_min':-1.0, 'rho2_max':100.0},\n",
    "    N=50, m=5, ncores=64,\n",
    ")"
   ]
  },
  {
   "cell_type": "code",
   "execution_count": 4,
   "id": "b5bbc7cf-ca95-4f75-b103-36250faaa6a6",
   "metadata": {},
   "outputs": [],
   "source": [
    "test.load_voidcat()"
   ]
  },
  {
   "cell_type": "code",
   "execution_count": 5,
   "id": "c484ca97-78c3-4674-b813-2ee2878e4f2d",
   "metadata": {},
   "outputs": [
    {
     "data": {
      "text/plain": [
       "3173"
      ]
     },
     "execution_count": 5,
     "metadata": {},
     "output_type": "execute_result"
    }
   ],
   "source": [
    "test.nvoids"
   ]
  },
  {
   "cell_type": "code",
   "execution_count": 6,
   "id": "6d7c7300-b5e9-4428-b795-3b0517c64cbb",
   "metadata": {},
   "outputs": [],
   "source": [
    "test.load_gxcat()"
   ]
  },
  {
   "cell_type": "code",
   "execution_count": 7,
   "id": "0538704b-eb44-4951-9a52-bc27cd2c43e6",
   "metadata": {},
   "outputs": [
    {
     "data": {
      "text/plain": [
       "329004990"
      ]
     },
     "execution_count": 7,
     "metadata": {},
     "output_type": "execute_result"
    }
   ],
   "source": [
    "test.ngx"
   ]
  },
  {
   "cell_type": "code",
   "execution_count": null,
   "id": "1b134d3d-93de-41ef-9e4c-6b11e0cee883",
   "metadata": {
    "tags": []
   },
   "outputs": [
    {
     "name": "stderr",
     "output_type": "stream",
     "text": [
      "  0%|                                                    | 0/50 [00:00<?, ?it/s]"
     ]
    }
   ],
   "source": [
    "P = test.stacking() ## no funca... no arranca nunca con todos los cores"
   ]
  },
  {
   "cell_type": "markdown",
   "id": "a11406d5-bff7-40e1-ac79-6da6243969e0",
   "metadata": {},
   "source": [
    "# Mean density comoving shell"
   ]
  },
  {
   "cell_type": "code",
   "execution_count": 1,
   "id": "7603312d-fcc9-4636-93ab-ce37d2fb782b",
   "metadata": {},
   "outputs": [],
   "source": [
    "from astropy.io import fits\n",
    "import numpy as np\n",
    "import matplotlib.pyplot as plt\n",
    "import sys\n",
    "sys.path.append('/home/fcaporaso/FlagShip/vgcf/')\n",
    "from vgcf import ang2xyz\n",
    "from astropy.cosmology import LambdaCDM\n",
    "cosmo = LambdaCDM(H0=100, Om0=0.25, Ode0=0.75)\n",
    "from tqdm import tqdm\n",
    "from multiprocessing import Pool\n",
    "from functools import partial"
   ]
  },
  {
   "cell_type": "code",
   "execution_count": 2,
   "id": "b5c41370-5fc2-430f-8ddd-7d46d3820260",
   "metadata": {},
   "outputs": [],
   "source": [
    "def lenscat_load(Rv_min, Rv_max, z_min, z_max, rho1_min, rho1_max, rho2_min, rho2_max, \n",
    "                 flag=2.0, lensname=\"/mnt/simulations/MICE/voids_MICE.dat\",\n",
    "                 split=False, NSPLITS=1):\n",
    "\n",
    "    ## 0:id, 1:Rv, 2:ra, 3:dec, 4:z, 5:xv, 6:yv, 7:zv, 8:rho1, 9:rho2, 10:logp, 11:flag\n",
    "    L = np.loadtxt(lensname).T\n",
    "\n",
    "    nk = 100 ## para cambiarlo hay que repensar el calculo de (dra,ddec) y el doble for loop\n",
    "    NNN = len(L[0]) ##total number of voids\n",
    "    ra,dec = L[2],L[3]\n",
    "    K    = np.zeros((nk+1,NNN))\n",
    "    K[0] = np.ones(NNN).astype(bool)\n",
    "\n",
    "    ramin  = np.min(ra)\n",
    "    cdec   = np.sin(np.deg2rad(dec))\n",
    "    decmin = np.min(cdec)\n",
    "    dra    = ((np.max(ra)+1.e-5) - ramin)/10.\n",
    "    ddec   = ((np.max(cdec)+1.e-5) - decmin)/10.\n",
    "\n",
    "    c = 1\n",
    "    for a in range(10): \n",
    "        for d in range(10): \n",
    "            mra  = (ra  >= ramin + a*dra)&(ra < ramin + (a+1)*dra) \n",
    "            mdec = (cdec >= decmin + d*ddec)&(cdec < decmin + (d+1)*ddec) \n",
    "            K[c] = ~(mra&mdec)\n",
    "            c += 1\n",
    "\n",
    "    mask = (L[1] >= Rv_min) & (L[1] < Rv_max) & (L[4] >= z_min) & (L[4] < z_max) & (\n",
    "            L[8] >= rho1_min) & (L[8] < rho1_max) & (L[9] >= rho2_min) & (L[9] < rho2_max) & (L[11] >= flag)\n",
    "\n",
    "    nvoids = mask.sum()\n",
    "    L = L[:,mask]\n",
    "\n",
    "    if split:\n",
    "        if NSPLITS > nvoids:\n",
    "            NSPLITS = nvoids\n",
    "        lbins = int(round(nvoids/float(NSPLITS), 0))\n",
    "        slices = ((np.arange(lbins)+1)*NSPLITS).astype(int)\n",
    "        slices = slices[(slices < nvoids)]\n",
    "        L = np.split(L.T, slices)\n",
    "        K = np.split(K.T, slices)\n",
    "\n",
    "    return L, K, nvoids\n",
    "\n",
    "def tracercat_load(catname='/home/fcaporaso/cats/MICE/mice_sats_18939.fits',\n",
    "                   if_centrals=True, cosmo=cosmo):\n",
    "    \n",
    "        if if_centrals:    \n",
    "            with fits.open(catname) as f:\n",
    "                centrals = f[1].data.flag_central == 0\n",
    "                z_gal   = f[1].data.z_cgal\n",
    "                mask_z  = (z_gal >= 0.1) & (z_gal <= 0.5)\n",
    "                mmm = centrals&mask_z\n",
    "                ra_gal  = f[1].data.ra_gal[mmm]\n",
    "                dec_gal = f[1].data.dec_gal[mmm]\n",
    "                z_gal   = z_gal[mmm]\n",
    "                lmhalo  = f[1].data.lmhalo[mmm]\n",
    "            \n",
    "            xh,yh,zh = ang2xyz(ra_gal, dec_gal, z_gal, cosmo=cosmo)\n",
    "            return xh, yh, zh, lmhalo\n",
    "\n",
    "        else:\n",
    "            with fits.open(catname) as f:\n",
    "                ra_gal  = f[1].data.ra_gal\n",
    "                dec_gal = f[1].data.dec_gal\n",
    "                z_gal   = f[1].data.z_cgal\n",
    "            \n",
    "            xh,yh,zh = ang2xyz(ra_gal, dec_gal, z_gal, cosmo=cosmo)\n",
    "            return xh, yh , zh"
   ]
  },
  {
   "cell_type": "code",
   "execution_count": 76,
   "id": "7a16be75-bab9-4ab9-9902-b59eb8b629d7",
   "metadata": {},
   "outputs": [],
   "source": [
    "def mean_density_comovingshell(xh, yh, zh, logmh,\n",
    "                               m, rv, xv, yv, zv):\n",
    "\n",
    "    dist_void = np.sqrt(xv**2 + yv**2 + zv**2)\n",
    "    dist = np.sqrt(xh**2 + yh**2 + zh**2)\n",
    "    chi_min = dist_void - m*rv\n",
    "    chi_max = dist_void + m*rv\n",
    "\n",
    "    lmh = logmh[(dist > chi_min)&(dist < chi_max)]\n",
    "\n",
    "    vol = (1/8)*(4*np.pi/3)*(chi_max**3 - chi_min**3)\n",
    "    mass = np.sum(10.0 ** lmh)\n",
    "\n",
    "    return mass/vol, len(lmh)/vol"
   ]
  },
  {
   "cell_type": "code",
   "execution_count": 77,
   "id": "ac43be66-d36d-4d05-b7b1-767528a03874",
   "metadata": {},
   "outputs": [],
   "source": [
    "mdcs = partial(mean_density_comovingshell, *tracercat_load())"
   ]
  },
  {
   "cell_type": "code",
   "execution_count": 79,
   "id": "16ae84c2-3001-4277-a386-0779361c3889",
   "metadata": {},
   "outputs": [],
   "source": [
    "def redef_meanden(N, m,\n",
    "                  rv, xv, yv, zv):\n",
    "    vol = (4/3)*np.pi*((m*rv/N)**3)*np.array([(k+1)**3-k**3 for k in range(N)])\n",
    "    \n",
    "    dist = np.sqrt((xh-xv)**2 + (yh-yv)**2 + (zh-zv)**2)\n",
    "    logmass = lmhalo[(dist < 5*m*rv)]\n",
    "\n",
    "    mean_den_ball = np.sum( 10.0**(logmass) )/( (4/3)*np.pi*(5*m*rv)**3 )\n",
    "    \n",
    "    mu_old = mean_den_ball*vol\n",
    "    \n",
    "    mu_new = mdcs(m,rv,xv,yv,zv)[0]*vol\n",
    "    \n",
    "    return mu_old, mu_new\n",
    "\n",
    "N,m = 50,5\n",
    "redef_meanden_partial = partial(redef_meanden, N, m)\n",
    "\n",
    "def redef_meanden_unpack(IN):\n",
    "    return redef_meanden_partial(*IN)"
   ]
  },
  {
   "cell_type": "code",
   "execution_count": 86,
   "id": "7fb524f0-b5e6-4733-8fa7-8debf375beb6",
   "metadata": {},
   "outputs": [
    {
     "name": "stdout",
     "output_type": "stream",
     "text": [
      "11598\n"
     ]
    }
   ],
   "source": [
    "lensarg = (6.0,9.622,0.2,0.4,-1.0,-0.8,-1.0,100.0)\n",
    "L,_,nv = lenscat_load(*lensarg,\n",
    "                     split=True, NSPLITS=32)\n",
    "print(nv)\n",
    "del nv"
   ]
  },
  {
   "cell_type": "code",
   "execution_count": 87,
   "id": "349ebac4-b0a3-476a-9d1c-08a020641b46",
   "metadata": {},
   "outputs": [
    {
     "name": "stderr",
     "output_type": "stream",
     "text": [
      "100%|████████████████████████████████████████████████████████████████████████████████████████████████████████████████████| 363/363 [2:10:29<00:00, 21.57s/it]\n"
     ]
    }
   ],
   "source": [
    "mu_old = np.zeros(50)\n",
    "mu_new = np.zeros(50)\n",
    "for i,Li in enumerate(tqdm(L)):\n",
    "    \n",
    "    num = len(Li)\n",
    "    entrada = np.array([Li.T[1],Li.T[5],Li.T[6],Li.T[7]]).T\n",
    "    with Pool(processes=num) as pool:\n",
    "        resmap = pool.map(redef_meanden_unpack, entrada)\n",
    "        pool.close()\n",
    "        pool.join()\n",
    "        \n",
    "    for j,res in enumerate(resmap):\n",
    "        mu_old += res[0]\n",
    "        mu_new += res[1]"
   ]
  },
  {
   "cell_type": "code",
   "execution_count": 163,
   "id": "b3578256-599d-4f8d-8eb5-66e0c8ef6dcd",
   "metadata": {
    "tags": []
   },
   "outputs": [],
   "source": [
    "N = 50\n",
    "names = ['Rv_6-9_all','Rv_6-9_S','Rv_6-9_R',\n",
    "         'Rv_9-50_all','Rv_9-50_S','Rv_9-50_R']\n",
    "\n",
    "r = {}\n",
    "delta = {}\n",
    "deltagx = {}\n",
    "cov_delta = {}\n",
    "cov_deltagx = {}\n",
    "\n",
    "for n in names:\n",
    "    try:\n",
    "        with fits.open(f'/home/fcaporaso/FlagShip/profiles/density_mice_mdcs_Rv{n[3:6]}_z02-04_type{n[7:]}.fits') as p:\n",
    "            r[n] = p[1].data.r\n",
    "            delta[n] = p[1].data.delta\n",
    "            deltagx[n] = p[1].data.deltagx\n",
    "            cov_delta[n] = p[2].data.cov_delta.reshape(N,N)\n",
    "            cov_deltagx[n] = p[2].data.cov_deltagx.reshape(N,N)\n",
    "    except:\n",
    "        with fits.open(f'/home/fcaporaso/FlagShip/profiles/density_mice_mdcs_Rv{n[3:7]}_z02-04_type{n[8:]}.fits') as p:\n",
    "            r[n] = p[1].data.r\n",
    "            delta[n] = p[1].data.delta\n",
    "            deltagx[n] = p[1].data.deltagx\n",
    "            cov_delta[n] = p[2].data.cov_delta.reshape(N,N)\n",
    "            cov_deltagx[n] = p[2].data.cov_deltagx.reshape(N,N)"
   ]
  },
  {
   "cell_type": "code",
   "execution_count": 166,
   "id": "9618c997-b07b-436d-83d8-d7f7f5ce7dd9",
   "metadata": {},
   "outputs": [
    {
     "data": {
      "text/plain": [
       "<matplotlib.legend.Legend at 0x7f346009b580>"
      ]
     },
     "execution_count": 166,
     "metadata": {},
     "output_type": "execute_result"
    },
    {
     "data": {
      "image/png": "[encoded data removed]",
      "text/plain": [
       "<Figure size 640x480 with 1 Axes>"
      ]
     },
     "metadata": {},
     "output_type": "display_data"
    }
   ],
   "source": [
    "t = 'S'\n",
    "rrr = '9-50'\n",
    "plt.plot(r['Rv_'+rrr+'_'+t], delta['Rv_'+rrr+'_'+t], label='mdcs')\n",
    "# plt.plot(r['Rv_6-9_all'], delta_new, label='new')\n",
    "plt.errorbar(r['Rv_'+rrr+'_'+t], deltagx['Rv_'+rrr+'_'+t], np.sqrt(np.diag(cov_deltagx['Rv_'+rrr+'_'+t])), label='gx')\n",
    "plt.axhline(0, ls=':')\n",
    "plt.legend()"
   ]
  },
  {
   "cell_type": "code",
   "execution_count": 167,
   "id": "d2180e28-63c3-4a0d-8161-9dc5750c39a3",
   "metadata": {},
   "outputs": [
    {
     "data": {
      "text/plain": [
       "<matplotlib.legend.Legend at 0x7f345ff15ff0>"
      ]
     },
     "execution_count": 167,
     "metadata": {},
     "output_type": "execute_result"
    },
    {
     "data": {
      "image/png": "[encoded data removed]",
      "text/plain": [
       "<Figure size 640x480 with 1 Axes>"
      ]
     },
     "metadata": {},
     "output_type": "display_data"
    }
   ],
   "source": [
    "t = 'S'\n",
    "rrr = '6-9'\n",
    "plt.plot(r['Rv_'+rrr+'_'+t], delta['Rv_'+rrr+'_'+t], label='mdcs')\n",
    "# plt.plot(r['Rv_6-9_all'], delta_new, label='new')\n",
    "plt.errorbar(r['Rv_'+rrr+'_'+t], deltagx['Rv_'+rrr+'_'+t], np.sqrt(np.diag(cov_deltagx['Rv_'+rrr+'_'+t])), label='gx')\n",
    "plt.axhline(0, ls=':')\n",
    "plt.legend()"
   ]
  },
  {
   "cell_type": "code",
   "execution_count": 100,
   "id": "28406b49-44e7-442b-a3a5-00b1c2598617",
   "metadata": {},
   "outputs": [
    {
     "data": {
      "text/plain": [
       "<matplotlib.legend.Legend at 0x7f3461feda50>"
      ]
     },
     "execution_count": 100,
     "metadata": {},
     "output_type": "execute_result"
    },
    {
     "data": {
      "image/png": "[encoded data removed]",
      "text/plain": [
       "<Figure size 640x480 with 1 Axes>"
      ]
     },
     "metadata": {},
     "output_type": "display_data"
    }
   ],
   "source": [
    "plt.plot(r['Rv_6-9_all'], np.diag(cov_delta['Rv_6-9_all']), label='old')\n",
    "# plt.plot(r['Rv_6-9_all'], np.diag(cov_new), label='new')\n",
    "# plt.axhline(0, ls=':')\n",
    "plt.legend()"
   ]
  },
  {
   "cell_type": "code",
   "execution_count": 102,
   "id": "40aa001a-8333-4459-899c-295b9aaa8dd1",
   "metadata": {},
   "outputs": [
    {
     "data": {
      "text/plain": [
       "<matplotlib.colorbar.Colorbar at 0x7f3461eef430>"
      ]
     },
     "execution_count": 102,
     "metadata": {},
     "output_type": "execute_result"
    },
    {
     "data": {
      "image/png": "[encoded data removed]",
      "text/plain": [
       "<Figure size 480x480 with 2 Axes>"
      ]
     },
     "metadata": {},
     "output_type": "display_data"
    }
   ],
   "source": [
    "plt.matshow(cov_delta['Rv_6-9_all']-cov_new)\n",
    "plt.colorbar()"
   ]
  }
 ],
 "metadata": {
  "kernelspec": {
   "display_name": "Python 3 (ipykernel)",
   "language": "python",
   "name": "python3"
  },
  "language_info": {
   "codemirror_mode": {
    "name": "ipython",
    "version": 3
   },
   "file_extension": ".py",
   "mimetype": "text/x-python",
   "name": "python",
   "nbconvert_exporter": "python",
   "pygments_lexer": "ipython3",
   "version": "3.10.15"
  }
 },
 "nbformat": 4,
 "nbformat_minor": 5
}
